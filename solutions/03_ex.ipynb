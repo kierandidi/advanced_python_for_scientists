{
 "cells": [
  {
   "attachments": {},
   "cell_type": "markdown",
   "metadata": {},
   "source": [
    "# Day 3: Useful Libraries and Python Packages"
   ]
  },
  {
   "attachments": {},
   "cell_type": "markdown",
   "metadata": {},
   "source": [
    "## 1. Itertools"
   ]
  },
  {
   "attachments": {},
   "cell_type": "markdown",
   "metadata": {},
   "source": [
    "Exercise 1: Understanding itertools.count\n",
    "\n",
    "Use itertools.count to create an iterator that returns evenly spaced values starting with number 10. Print the first 10 numbers."
   ]
  },
  {
   "cell_type": "code",
   "execution_count": null,
   "metadata": {},
   "outputs": [],
   "source": [
    "import itertools\n",
    "\n",
    "counter = itertools.count(10)\n",
    "\n",
    "# Print the first 10 numbers in the counter\n",
    "for _ in range(10):\n",
    "    print(next(counter))"
   ]
  },
  {
   "attachments": {},
   "cell_type": "markdown",
   "metadata": {},
   "source": [
    "Exercise 2: Understanding itertools.cycle\n",
    "\n",
    "Using itertools.cycle, create an infinite iterator that cycles over the elements of a list. The list should contain the elements \"red\", \"green\", \"blue\". Print the first 10 items in the cycle."
   ]
  },
  {
   "cell_type": "code",
   "execution_count": null,
   "metadata": {},
   "outputs": [],
   "source": [
    "import itertools\n",
    "\n",
    "colors = [\"red\", \"green\", \"blue\"]\n",
    "cycle_colors = itertools.cycle(colors)\n",
    "\n",
    "# Print the first 10 items in the cycle\n",
    "for _ in range(10):\n",
    "    print(next(cycle_colors))\n"
   ]
  },
  {
   "attachments": {},
   "cell_type": "markdown",
   "metadata": {},
   "source": [
    "Exercise 3: Understanding itertools.combinations\n",
    "\n",
    "Use itertools.combinations to generate and print all combinations of 2 elements of the list [1, 2, 3, 4]."
   ]
  },
  {
   "cell_type": "code",
   "execution_count": null,
   "metadata": {},
   "outputs": [],
   "source": [
    "import itertools\n",
    "\n",
    "combs = itertools.combinations([1, 2, 3, 4], 2)\n",
    "\n",
    "for comb in combs:\n",
    "    print(comb)"
   ]
  },
  {
   "attachments": {},
   "cell_type": "markdown",
   "metadata": {},
   "source": [
    "Exercise 4: Understanding itertools.permutations\n",
    "\n",
    "Use itertools.permutations to generate and print all permutations of the list [1, 2, 3]."
   ]
  },
  {
   "cell_type": "code",
   "execution_count": null,
   "metadata": {},
   "outputs": [],
   "source": [
    "import itertools\n",
    "\n",
    "perms = itertools.permutations([1, 2, 3])\n",
    "\n",
    "for perm in perms:\n",
    "    print(perm)"
   ]
  },
  {
   "attachments": {},
   "cell_type": "markdown",
   "metadata": {},
   "source": [
    "Exercise 5: Advanced usage of itertools\n",
    "\n",
    "Use itertools to solve this problem: Given a list of numbers numbers = [1, 2, 3, 4, 5, 6], find and print all pairs (a, b) such that a + b equals 7.\n",
    "\n",
    "*Hint*: you can use itertools functions together with list comprehensions to solve this exercise"
   ]
  },
  {
   "cell_type": "code",
   "execution_count": null,
   "metadata": {},
   "outputs": [],
   "source": [
    "import itertools\n",
    "\n",
    "numbers = [1, 2, 3, 4, 5, 6]\n",
    "pairs = filter(lambda x: sum(x) == 7, itertools.combinations(numbers, 2))\n",
    "\n",
    "for pair in pairs:\n",
    "    print(pair)"
   ]
  },
  {
   "attachments": {},
   "cell_type": "markdown",
   "metadata": {},
   "source": [
    "## 2. Functools"
   ]
  },
  {
   "attachments": {},
   "cell_type": "markdown",
   "metadata": {},
   "source": []
  },
  {
   "attachments": {},
   "cell_type": "markdown",
   "metadata": {},
   "source": [
    "## 3. Dataclasses"
   ]
  },
  {
   "attachments": {},
   "cell_type": "markdown",
   "metadata": {},
   "source": []
  },
  {
   "attachments": {},
   "cell_type": "markdown",
   "metadata": {},
   "source": [
    "## 4. Modules and Packages"
   ]
  },
  {
   "attachments": {},
   "cell_type": "markdown",
   "metadata": {},
   "source": [
    "Exercise 1: Basic Python module creation\n",
    "\n",
    "Create a Python module named greetings.py that contains two functions: say_hello(name) and say_goodbye(name) that print a greeting or farewell to the name passed as a parameter."
   ]
  },
  {
   "attachments": {},
   "cell_type": "markdown",
   "metadata": {},
   "source": [
    "Exercise 2: Package creation\n",
    "\n",
    "Create a Python package named communication. It should contain the greetings.py module from the previous exercise. Also, ensure that the say_hello(name) and say_goodbye(name) functions are directly accessible when the package is imported."
   ]
  },
  {
   "attachments": {},
   "cell_type": "markdown",
   "metadata": {},
   "source": [
    "Exercise 3: Adding more modules to your package\n",
    "\n",
    "Extend the communication package by adding another module named questions.py that contains two functions: ask_name() and ask_age() which ask for a user's name and age, respectively."
   ]
  },
  {
   "attachments": {},
   "cell_type": "markdown",
   "metadata": {},
   "source": [
    "Exercise 4: Creating a distributable package\n",
    "\n",
    "Create a setup.py file for your communication package and build a source distribution of the package."
   ]
  },
  {
   "attachments": {},
   "cell_type": "markdown",
   "metadata": {},
   "source": [
    "Exercise 5: Installing and testing the package\n",
    "\n",
    "Install your communication package in your Python environment. Write a small script that imports and uses all the functions from your package."
   ]
  }
 ],
 "metadata": {
  "language_info": {
   "name": "python"
  },
  "orig_nbformat": 4
 },
 "nbformat": 4,
 "nbformat_minor": 2
}
