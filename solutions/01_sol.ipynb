{
 "cells": [
  {
   "attachments": {},
   "cell_type": "markdown",
   "metadata": {},
   "source": [
    "# Day 1: Advanced Constructs, Exercises"
   ]
  },
  {
   "attachments": {},
   "cell_type": "markdown",
   "metadata": {},
   "source": [
    "## Ex 1: Recap of loops and their connection to iterables"
   ]
  },
  {
   "attachments": {},
   "cell_type": "markdown",
   "metadata": {},
   "source": [
    "Below I give you a list of names representing countries and the number of nobel prize winners they have had in their history."
   ]
  },
  {
   "cell_type": "code",
   "execution_count": 2,
   "metadata": {},
   "outputs": [],
   "source": [
    "countries = [\"USA\", \"United Kingdom\", \"Germany\", \"France\", \"Sweden\", \"Russia\", \"Japan\"]\n",
    "prizes = [403, 137, 114, 72, 33, 32, 29]"
   ]
  },
  {
   "attachments": {},
   "cell_type": "markdown",
   "metadata": {},
   "source": [
    "Now do the following tasks (for each of them think about what happens behind the curtains with iterables and iterators as we discussed in the course):\n",
    "\n",
    "1. Print out the name of the country and the number of nobel prize winners in that country, for each country."
   ]
  },
  {
   "cell_type": "code",
   "execution_count": 3,
   "metadata": {},
   "outputs": [
    {
     "name": "stdout",
     "output_type": "stream",
     "text": [
      "USA won 403 Nobel prizes\n",
      "United Kingdom won 137 Nobel prizes\n",
      "Germany won 114 Nobel prizes\n",
      "France won 72 Nobel prizes\n",
      "Sweden won 33 Nobel prizes\n",
      "Russia won 32 Nobel prizes\n",
      "Japan won 29 Nobel prizes\n"
     ]
    }
   ],
   "source": [
    "#print countries and nobel prize winner numbers via zip\n",
    "for country, prize in zip(countries, prizes):\n",
    "    #use f-string to print\n",
    "    print(f\"{country} won {prize} Nobel prizes\")"
   ]
  },
  {
   "attachments": {},
   "cell_type": "markdown",
   "metadata": {},
   "source": [
    "2. Print out the name of the country together with their relative rank (1, 2, 3, ...) in terms of number of nobel prize winners."
   ]
  },
  {
   "cell_type": "code",
   "execution_count": 4,
   "metadata": {},
   "outputs": [
    {
     "name": "stdout",
     "output_type": "stream",
     "text": [
      "USA won 403 Nobel prizes\n",
      "United Kingdom won 137 Nobel prizes\n",
      "Germany won 114 Nobel prizes\n",
      "France won 72 Nobel prizes\n",
      "Sweden won 33 Nobel prizes\n",
      "Russia won 32 Nobel prizes\n",
      "Japan won 29 Nobel prizes\n"
     ]
    }
   ],
   "source": [
    "#print countries and nobel prize winner numbers via enumerate\n",
    "for i, country in enumerate(countries):\n",
    "    #use f-string to print\n",
    "    print(f\"{country} won {prizes[i]} Nobel prizes\")"
   ]
  },
  {
   "attachments": {},
   "cell_type": "markdown",
   "metadata": {},
   "source": [
    "3. Combine the two from above: Print out the name of the country, the number of nobel prize winners in that country, and the relative rank of that country."
   ]
  },
  {
   "cell_type": "code",
   "execution_count": 5,
   "metadata": {},
   "outputs": [
    {
     "name": "stdout",
     "output_type": "stream",
     "text": [
      "Rank 1: USA won 403 Nobel prizes\n",
      "Rank 2: United Kingdom won 137 Nobel prizes\n",
      "Rank 3: Germany won 114 Nobel prizes\n",
      "Rank 4: France won 72 Nobel prizes\n",
      "Rank 5: Sweden won 33 Nobel prizes\n",
      "Rank 6: Russia won 32 Nobel prizes\n",
      "Rank 7: Japan won 29 Nobel prizes\n"
     ]
    }
   ],
   "source": [
    "#combine zip and enumerate\n",
    "for i, (country, prize) in enumerate(zip(countries, prizes)):\n",
    "    #use f-string to print\n",
    "    print(f\"Rank {i+1}: {country} won {prize} Nobel prizes\")"
   ]
  },
  {
   "attachments": {},
   "cell_type": "markdown",
   "metadata": {},
   "source": [
    "4. For each of the tasks above, can you simulate the for loop behaviour with the `iter` and `next` functions?"
   ]
  },
  {
   "attachments": {},
   "cell_type": "markdown",
   "metadata": {},
   "source": [
    "## Ex 2: Create your own iterator\n",
    "\n",
    "1. Create your own iterator class that behaves like the built-in `range` iterator. It should be initialized with a start and stop value, and it should be possible to iterate over it with a for loop."
   ]
  },
  {
   "cell_type": "code",
   "execution_count": 7,
   "metadata": {},
   "outputs": [
    {
     "name": "stdout",
     "output_type": "stream",
     "text": [
      "1\n",
      "2\n",
      "3\n",
      "4\n",
      "5\n",
      "6\n",
      "7\n",
      "8\n",
      "9\n"
     ]
    }
   ],
   "source": [
    "class MyRange:\n",
    "    def __init__(self, start, end):\n",
    "        self.value = start\n",
    "        self.end = end\n",
    "    \n",
    "    def __iter__(self):\n",
    "        return self\n",
    "    \n",
    "    def __next__(self):\n",
    "        if self.value >= self.end:\n",
    "            raise StopIteration\n",
    "        current = self.value\n",
    "        self.value += 1\n",
    "        return current\n",
    "    \n",
    "nums = MyRange(1, 10)\n",
    "for num in nums:\n",
    "    print(num)"
   ]
  },
  {
   "attachments": {},
   "cell_type": "markdown",
   "metadata": {},
   "source": [
    "2. Create your own iterator class that behaves like the built-in `enumerate` iterator. It should be initialized with an iterable, and it should be possible to iterate over it with a for loop."
   ]
  },
  {
   "cell_type": "code",
   "execution_count": 9,
   "metadata": {},
   "outputs": [
    {
     "name": "stdout",
     "output_type": "stream",
     "text": [
      "Rank 1: United Kingdom\n",
      "Rank 2: Germany\n",
      "Rank 3: France\n",
      "Rank 4: Sweden\n",
      "Rank 5: Russia\n",
      "Rank 6: Japan\n"
     ]
    }
   ],
   "source": [
    "class MyEnumerate:\n",
    "    def __init__(self, iterable, start=0):\n",
    "        self.iterable = iterable\n",
    "        self.start = start\n",
    "        self.value = start\n",
    "    \n",
    "    def __iter__(self):\n",
    "        return self\n",
    "    \n",
    "    def __next__(self):\n",
    "        if self.value >= len(self.iterable):\n",
    "            raise StopIteration\n",
    "        current = (self.value, self.iterable[self.value])\n",
    "        self.value += 1\n",
    "        return current\n",
    "    \n",
    "countries = [\"USA\", \"United Kingdom\", \"Germany\", \"France\", \"Sweden\", \"Russia\", \"Japan\"]\n",
    "for i, country in MyEnumerate(countries, 1):\n",
    "    print(f\"Rank {i}: {country}\")"
   ]
  },
  {
   "attachments": {},
   "cell_type": "markdown",
   "metadata": {},
   "source": [
    "## Ex 3: Generators\n",
    "\n",
    "1. Create a generator function that takes a number `n` as input and yields the first `n` even numbers."
   ]
  },
  {
   "cell_type": "code",
   "execution_count": 10,
   "metadata": {},
   "outputs": [],
   "source": [
    "def even_numbers(n):\n",
    "    for i in range(n):\n",
    "        if i % 2 == 0:\n",
    "            yield i"
   ]
  },
  {
   "attachments": {},
   "cell_type": "markdown",
   "metadata": {},
   "source": [
    "2. Create a generator function that takes a number `n` as input and yields the first `n` prime numbers."
   ]
  },
  {
   "cell_type": "code",
   "execution_count": 11,
   "metadata": {},
   "outputs": [
    {
     "name": "stdout",
     "output_type": "stream",
     "text": [
      "2\n",
      "3\n",
      "5\n",
      "7\n",
      "11\n",
      "13\n",
      "17\n",
      "19\n",
      "23\n",
      "29\n"
     ]
    }
   ],
   "source": [
    "def is_prime(num):\n",
    "    if num < 2:\n",
    "        return False\n",
    "    for i in range(2, int(num ** 0.5) + 1):\n",
    "        if num % i == 0:\n",
    "            return False\n",
    "    return True\n",
    "\n",
    "#generator object yielding first n prime numbers\n",
    "def prime_numbers(n):\n",
    "    count, num = 0, 2\n",
    "    while count < n:\n",
    "        if is_prime(num):\n",
    "            yield num\n",
    "            count += 1\n",
    "        num += 1\n",
    "\n",
    "for num in prime_numbers(10):\n",
    "    print(num)"
   ]
  },
  {
   "attachments": {},
   "cell_type": "markdown",
   "metadata": {},
   "source": [
    "3. Generate a list of the first 100 prime numbers using the generator function from 2."
   ]
  },
  {
   "cell_type": "code",
   "execution_count": 12,
   "metadata": {},
   "outputs": [
    {
     "data": {
      "text/plain": [
       "[2,\n",
       " 3,\n",
       " 5,\n",
       " 7,\n",
       " 11,\n",
       " 13,\n",
       " 17,\n",
       " 19,\n",
       " 23,\n",
       " 29,\n",
       " 31,\n",
       " 37,\n",
       " 41,\n",
       " 43,\n",
       " 47,\n",
       " 53,\n",
       " 59,\n",
       " 61,\n",
       " 67,\n",
       " 71,\n",
       " 73,\n",
       " 79,\n",
       " 83,\n",
       " 89,\n",
       " 97,\n",
       " 101,\n",
       " 103,\n",
       " 107,\n",
       " 109,\n",
       " 113,\n",
       " 127,\n",
       " 131,\n",
       " 137,\n",
       " 139,\n",
       " 149,\n",
       " 151,\n",
       " 157,\n",
       " 163,\n",
       " 167,\n",
       " 173,\n",
       " 179,\n",
       " 181,\n",
       " 191,\n",
       " 193,\n",
       " 197,\n",
       " 199,\n",
       " 211,\n",
       " 223,\n",
       " 227,\n",
       " 229,\n",
       " 233,\n",
       " 239,\n",
       " 241,\n",
       " 251,\n",
       " 257,\n",
       " 263,\n",
       " 269,\n",
       " 271,\n",
       " 277,\n",
       " 281,\n",
       " 283,\n",
       " 293,\n",
       " 307,\n",
       " 311,\n",
       " 313,\n",
       " 317,\n",
       " 331,\n",
       " 337,\n",
       " 347,\n",
       " 349,\n",
       " 353,\n",
       " 359,\n",
       " 367,\n",
       " 373,\n",
       " 379,\n",
       " 383,\n",
       " 389,\n",
       " 397,\n",
       " 401,\n",
       " 409,\n",
       " 419,\n",
       " 421,\n",
       " 431,\n",
       " 433,\n",
       " 439,\n",
       " 443,\n",
       " 449,\n",
       " 457,\n",
       " 461,\n",
       " 463,\n",
       " 467,\n",
       " 479,\n",
       " 487,\n",
       " 491,\n",
       " 499,\n",
       " 503,\n",
       " 509,\n",
       " 521,\n",
       " 523,\n",
       " 541]"
      ]
     },
     "execution_count": 12,
     "metadata": {},
     "output_type": "execute_result"
    }
   ],
   "source": [
    "list(prime_numbers(100))"
   ]
  },
  {
   "attachments": {},
   "cell_type": "markdown",
   "metadata": {},
   "source": [
    "# Ex 3: Closures and decorators"
   ]
  },
  {
   "attachments": {},
   "cell_type": "markdown",
   "metadata": {},
   "source": [
    "1. Create a closure function that takes a number `n` as input and returns a function that takes a number `x` as input and returns `x` to the power of `n`."
   ]
  },
  {
   "cell_type": "code",
   "execution_count": 13,
   "metadata": {},
   "outputs": [
    {
     "name": "stdout",
     "output_type": "stream",
     "text": [
      "25\n"
     ]
    }
   ],
   "source": [
    "def outer(n):\n",
    "    def inner(x):\n",
    "        return x ** n\n",
    "    return inner\n",
    "\n",
    "square = outer(2)\n",
    "cube = outer(3)\n",
    "\n",
    "print(square(5))"
   ]
  },
  {
   "attachments": {},
   "cell_type": "markdown",
   "metadata": {},
   "source": [
    "2. Create a decorator function that takes a function as input and returns a function that behaves like the input function, but prints out the time it takes to run the function.\n",
    "\n",
    "Hint: Use the `time` module and the `time` function from that module."
   ]
  },
  {
   "cell_type": "code",
   "execution_count": 14,
   "metadata": {},
   "outputs": [
    {
     "name": "stdout",
     "output_type": "stream",
     "text": [
      "my_function executed in 0.3002967834472656 seconds\n"
     ]
    },
    {
     "data": {
      "text/plain": [
       "49999995000000"
      ]
     },
     "execution_count": 14,
     "metadata": {},
     "output_type": "execute_result"
    }
   ],
   "source": [
    "import time\n",
    "\n",
    "def timing_decorator(func):\n",
    "    def wrapper(*args, **kwargs):\n",
    "        start_time = time.time()\n",
    "        result = func(*args, **kwargs)\n",
    "        end_time = time.time()\n",
    "        print(f\"{func.__name__} executed in {end_time - start_time} seconds\")\n",
    "        return result\n",
    "    return wrapper\n",
    "\n",
    "@timing_decorator\n",
    "def my_function(n):\n",
    "    sum = 0\n",
    "    for i in range(n):\n",
    "        sum += i\n",
    "    return sum\n",
    "\n",
    "my_function(10000000)"
   ]
  },
  {
   "attachments": {},
   "cell_type": "markdown",
   "metadata": {},
   "source": [
    "3. Create a decorator function that takes a function as input and returns a function that behaves like the input function, but prints out the arguments passed to the function before running it."
   ]
  },
  {
   "cell_type": "code",
   "execution_count": 15,
   "metadata": {},
   "outputs": [],
   "source": [
    "def validate_dna(func):\n",
    "    def wrapper(dna_sequence):\n",
    "        valid_chars = {'A', 'C', 'G', 'T'}\n",
    "        for char in dna_sequence.upper():\n",
    "            if char not in valid_chars:\n",
    "                raise ValueError(\"Invalid DNA sequence: contains invalid character \" + char)\n",
    "        return func(dna_sequence)\n",
    "    return wrapper\n"
   ]
  },
  {
   "cell_type": "code",
   "execution_count": 16,
   "metadata": {},
   "outputs": [
    {
     "name": "stdout",
     "output_type": "stream",
     "text": [
      "0.625\n"
     ]
    },
    {
     "ename": "ValueError",
     "evalue": "Invalid DNA sequence: contains invalid character U",
     "output_type": "error",
     "traceback": [
      "\u001b[0;31m---------------------------------------------------------------------------\u001b[0m",
      "\u001b[0;31mValueError\u001b[0m                                Traceback (most recent call last)",
      "\u001b[1;32m/Users/kierandidi/advanced_python_for_scientists/solutions/01_sol.ipynb Cell 29\u001b[0m in \u001b[0;36m8\n\u001b[1;32m      <a href='vscode-notebook-cell:/Users/kierandidi/advanced_python_for_scientists/solutions/01_sol.ipynb#X40sZmlsZQ%3D%3D?line=4'>5</a>\u001b[0m     \u001b[39mreturn\u001b[39;00m gc_content\n\u001b[1;32m      <a href='vscode-notebook-cell:/Users/kierandidi/advanced_python_for_scientists/solutions/01_sol.ipynb#X40sZmlsZQ%3D%3D?line=6'>7</a>\u001b[0m \u001b[39mprint\u001b[39m(count_gc_content(\u001b[39m\"\u001b[39m\u001b[39mAGCTGTGC\u001b[39m\u001b[39m\"\u001b[39m))  \u001b[39m# 0.5\u001b[39;00m\n\u001b[0;32m----> <a href='vscode-notebook-cell:/Users/kierandidi/advanced_python_for_scientists/solutions/01_sol.ipynb#X40sZmlsZQ%3D%3D?line=7'>8</a>\u001b[0m \u001b[39mprint\u001b[39m(count_gc_content(\u001b[39m\"\u001b[39;49m\u001b[39mAGCU\u001b[39;49m\u001b[39m\"\u001b[39;49m))  \u001b[39m# Raises ValueError: Invalid DNA sequence\u001b[39;00m\n",
      "\u001b[1;32m/Users/kierandidi/advanced_python_for_scientists/solutions/01_sol.ipynb Cell 29\u001b[0m in \u001b[0;36m6\n\u001b[1;32m      <a href='vscode-notebook-cell:/Users/kierandidi/advanced_python_for_scientists/solutions/01_sol.ipynb#X40sZmlsZQ%3D%3D?line=3'>4</a>\u001b[0m \u001b[39mfor\u001b[39;00m char \u001b[39min\u001b[39;00m dna_sequence\u001b[39m.\u001b[39mupper():\n\u001b[1;32m      <a href='vscode-notebook-cell:/Users/kierandidi/advanced_python_for_scientists/solutions/01_sol.ipynb#X40sZmlsZQ%3D%3D?line=4'>5</a>\u001b[0m     \u001b[39mif\u001b[39;00m char \u001b[39mnot\u001b[39;00m \u001b[39min\u001b[39;00m valid_chars:\n\u001b[0;32m----> <a href='vscode-notebook-cell:/Users/kierandidi/advanced_python_for_scientists/solutions/01_sol.ipynb#X40sZmlsZQ%3D%3D?line=5'>6</a>\u001b[0m         \u001b[39mraise\u001b[39;00m \u001b[39mValueError\u001b[39;00m(\u001b[39m\"\u001b[39m\u001b[39mInvalid DNA sequence: contains invalid character \u001b[39m\u001b[39m\"\u001b[39m \u001b[39m+\u001b[39m char)\n\u001b[1;32m      <a href='vscode-notebook-cell:/Users/kierandidi/advanced_python_for_scientists/solutions/01_sol.ipynb#X40sZmlsZQ%3D%3D?line=6'>7</a>\u001b[0m \u001b[39mreturn\u001b[39;00m func(dna_sequence)\n",
      "\u001b[0;31mValueError\u001b[0m: Invalid DNA sequence: contains invalid character U"
     ]
    }
   ],
   "source": [
    "@validate_dna\n",
    "def count_gc_content(dna_sequence):\n",
    "    dna_sequence = dna_sequence.upper()\n",
    "    gc_content = (dna_sequence.count('G') + dna_sequence.count('C')) / len(dna_sequence)\n",
    "    return gc_content\n",
    "\n",
    "print(count_gc_content(\"AGCTGTGC\"))  # 0.5\n",
    "print(count_gc_content(\"AGCU\"))  # Raises ValueError: Invalid DNA sequence"
   ]
  },
  {
   "attachments": {},
   "cell_type": "markdown",
   "metadata": {},
   "source": [
    "# Ex 4: Descriptors and properties"
   ]
  },
  {
   "attachments": {},
   "cell_type": "markdown",
   "metadata": {},
   "source": [
    "1. Create a class `Person` with a `name` attribute. The `name` attribute should be a property, and it should be possible to set the `name` attribute of an instance of `Person` to a string, but not to an integer."
   ]
  },
  {
   "cell_type": "code",
   "execution_count": 18,
   "metadata": {},
   "outputs": [],
   "source": [
    "class Person:\n",
    "    #let person have name property\n",
    "    def __init__(self, name):\n",
    "        if not isinstance(name, str):\n",
    "            raise TypeError(\"Name must be a string\")\n",
    "        self._name = name\n",
    "    \n",
    "    @property\n",
    "    def name(self):\n",
    "        return self._name\n",
    "    \n",
    "    @name.setter\n",
    "    def name(self, value):\n",
    "        if not isinstance(value, str):\n",
    "            raise TypeError(\"Name must be a string\")\n",
    "        self._name = value"
   ]
  },
  {
   "attachments": {},
   "cell_type": "markdown",
   "metadata": {},
   "source": [
    "2. Create a Python class called Rectangle. This class should have two private attributes, _width and _height, to store the width and height of the rectangle. Then, use Python properties to create getters and setters for these two attributes, ensuring that neither can be set to a negative number."
   ]
  },
  {
   "cell_type": "code",
   "execution_count": 20,
   "metadata": {},
   "outputs": [
    {
     "name": "stdout",
     "output_type": "stream",
     "text": [
      "12\n",
      "14\n",
      "30\n"
     ]
    }
   ],
   "source": [
    "class Rectangle:\n",
    "    def __init__(self, width, height):\n",
    "        self._width = width\n",
    "        self._height = height\n",
    "\n",
    "    # add your properties here\n",
    "    @property\n",
    "    def width(self):\n",
    "        return self._width\n",
    "    \n",
    "    @width.setter\n",
    "    def width(self, value):\n",
    "        if value <= 0:\n",
    "            raise ValueError(\"Width must be positive\")\n",
    "        self._width = value\n",
    "    \n",
    "    @property\n",
    "    def height(self):\n",
    "        return self._height\n",
    "    \n",
    "    @height.setter\n",
    "    def height(self, value):\n",
    "        if value <= 0:\n",
    "            raise ValueError(\"Height must be positive\")\n",
    "        self._height = value\n",
    "\n",
    "    def area(self):\n",
    "        return self._width * self._height\n",
    "    \n",
    "    def perimeter(self):\n",
    "        return 2 * (self._width + self._height)\n",
    "    \n",
    "rect = Rectangle(3, 4)\n",
    "print(rect.area())  # 12\n",
    "print(rect.perimeter())  # 14\n",
    "\n",
    "rect.width = 5\n",
    "rect.height = 6\n",
    "print(rect.area())  # 30"
   ]
  },
  {
   "attachments": {},
   "cell_type": "markdown",
   "metadata": {},
   "source": [
    "3. Create a Python class named Account which represents a bank account with the following private attributes:\n",
    "\n",
    "_balance: This attribute holds the current balance of the account. It is initialized as 0.\n",
    "_transaction_history: This attribute stores all the transactions performed on the account. It is initialized as an empty list.\n",
    "The Account class should also have the following properties:\n",
    "\n",
    "balance: This is a read-only property which should return the current balance of the account. Users shouldn't be able to change the balance directly.\n",
    "\n",
    "transaction_history: This is also a read-only property which should return a copy of the transaction history list to avoid modification of the original list.\n",
    "\n",
    "Add the following methods to the class:\n",
    "\n",
    "deposit(amount): This method should allow the user to deposit a certain amount to the account. The amount must be a positive number, else raise a ValueError. Add an entry to the transaction history in the form: {'type': 'deposit', 'amount': amount, 'balance': balance_after_deposit}\n",
    "\n",
    "withdraw(amount): This method should allow the user to withdraw a certain amount from the account. If the amount is more than the balance, raise a ValueError. Also, the amount must be a positive number, else raise another ValueError. Add an entry to the transaction history in the form: {'type': 'withdrawal', 'amount': amount, 'balance': balance_after_withdrawal}\n",
    "\n",
    "Here is the skeleton of your class:"
   ]
  },
  {
   "cell_type": "code",
   "execution_count": 21,
   "metadata": {},
   "outputs": [
    {
     "name": "stdout",
     "output_type": "stream",
     "text": [
      "50\n",
      "['Deposit of 100', 'Withdrawal of 50']\n"
     ]
    }
   ],
   "source": [
    "class Account:\n",
    "    def __init__(self):\n",
    "        self._balance = 0\n",
    "        self._transaction_history = []\n",
    "\n",
    "    # define your properties and methods here\n",
    "    @property\n",
    "    def balance(self):\n",
    "        return self._balance\n",
    "    \n",
    "    @property\n",
    "    def transaction_history(self):\n",
    "        return self._transaction_history\n",
    "    \n",
    "    def deposit(self, amount):\n",
    "        if amount <= 0:\n",
    "            raise ValueError(\"Amount must be positive\")\n",
    "        self._balance += amount\n",
    "        self._transaction_history.append(f\"Deposit of {amount}\")\n",
    "\n",
    "    def withdraw(self, amount):\n",
    "        if amount <= 0:\n",
    "            raise ValueError(\"Amount must be positive\")\n",
    "        if amount > self._balance:\n",
    "            raise ValueError(\"Insufficient funds\")\n",
    "        self._balance -= amount\n",
    "        self._transaction_history.append(f\"Withdrawal of {amount}\")\n",
    "\n",
    "acc = Account()\n",
    "acc.deposit(100)\n",
    "acc.withdraw(50)\n",
    "print(acc.balance)  # 50\n",
    "print(acc.transaction_history)  # ['Deposit of 100', 'Withdrawal of 50']"
   ]
  }
 ],
 "metadata": {
  "kernelspec": {
   "display_name": "standard_env",
   "language": "python",
   "name": "python3"
  },
  "language_info": {
   "codemirror_mode": {
    "name": "ipython",
    "version": 3
   },
   "file_extension": ".py",
   "mimetype": "text/x-python",
   "name": "python",
   "nbconvert_exporter": "python",
   "pygments_lexer": "ipython3",
   "version": "3.9.13"
  },
  "orig_nbformat": 4
 },
 "nbformat": 4,
 "nbformat_minor": 2
}
