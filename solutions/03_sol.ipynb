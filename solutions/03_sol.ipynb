{
 "cells": [
  {
   "attachments": {},
   "cell_type": "markdown",
   "metadata": {},
   "source": [
    "# Day 3: Useful Libraries and Python Packages"
   ]
  },
  {
   "attachments": {},
   "cell_type": "markdown",
   "metadata": {},
   "source": [
    "## 1. Itertools"
   ]
  },
  {
   "attachments": {},
   "cell_type": "markdown",
   "metadata": {},
   "source": [
    "Exercise 1: Understanding itertools.count\n",
    "\n",
    "Use itertools.count to create an iterator that returns evenly spaced values starting with number 10. Print the first 10 numbers."
   ]
  },
  {
   "cell_type": "code",
   "execution_count": null,
   "metadata": {},
   "outputs": [],
   "source": [
    "import itertools\n",
    "\n",
    "counter = itertools.count(10)\n",
    "\n",
    "# Print the first 10 numbers in the counter\n",
    "for _ in range(10):\n",
    "    print(next(counter))"
   ]
  },
  {
   "attachments": {},
   "cell_type": "markdown",
   "metadata": {},
   "source": [
    "Exercise 2: Understanding itertools.cycle\n",
    "\n",
    "Using itertools.cycle, create an infinite iterator that cycles over the elements of a list. The list should contain the elements \"red\", \"green\", \"blue\". Print the first 10 items in the cycle."
   ]
  },
  {
   "cell_type": "code",
   "execution_count": null,
   "metadata": {},
   "outputs": [],
   "source": [
    "import itertools\n",
    "\n",
    "colors = [\"red\", \"green\", \"blue\"]\n",
    "cycle_colors = itertools.cycle(colors)\n",
    "\n",
    "# Print the first 10 items in the cycle\n",
    "for _ in range(10):\n",
    "    print(next(cycle_colors))\n"
   ]
  },
  {
   "attachments": {},
   "cell_type": "markdown",
   "metadata": {},
   "source": [
    "Exercise 3: Understanding itertools.combinations\n",
    "\n",
    "Use itertools.combinations to generate and print all combinations of 2 elements of the list [1, 2, 3, 4]."
   ]
  },
  {
   "cell_type": "code",
   "execution_count": 1,
   "metadata": {},
   "outputs": [
    {
     "name": "stdout",
     "output_type": "stream",
     "text": [
      "(1, 2)\n",
      "(1, 3)\n",
      "(1, 4)\n",
      "(2, 3)\n",
      "(2, 4)\n",
      "(3, 4)\n"
     ]
    }
   ],
   "source": [
    "import itertools\n",
    "\n",
    "combs = itertools.combinations([1, 2, 3, 4], 2)\n",
    "\n",
    "for comb in combs:\n",
    "    print(comb)"
   ]
  },
  {
   "attachments": {},
   "cell_type": "markdown",
   "metadata": {},
   "source": [
    "Exercise 4: Understanding itertools.permutations\n",
    "\n",
    "Use itertools.permutations to generate and print all permutations of the list [1, 2, 3]."
   ]
  },
  {
   "cell_type": "code",
   "execution_count": 2,
   "metadata": {},
   "outputs": [
    {
     "name": "stdout",
     "output_type": "stream",
     "text": [
      "(1, 2, 3)\n",
      "(1, 3, 2)\n",
      "(2, 1, 3)\n",
      "(2, 3, 1)\n",
      "(3, 1, 2)\n",
      "(3, 2, 1)\n"
     ]
    }
   ],
   "source": [
    "import itertools\n",
    "\n",
    "perms = itertools.permutations([1, 2, 3])\n",
    "\n",
    "for perm in perms:\n",
    "    print(perm)"
   ]
  },
  {
   "attachments": {},
   "cell_type": "markdown",
   "metadata": {},
   "source": [
    "Exercise 5: Advanced usage of itertools\n",
    "\n",
    "Use itertools to solve this problem: Given a list of numbers numbers = [1, 2, 3, 4, 5, 6], find and print all pairs (a, b) such that a + b equals 7.\n",
    "\n",
    "*Hint*: you can use itertools functions together with list comprehensions to solve this exercise"
   ]
  },
  {
   "cell_type": "code",
   "execution_count": 3,
   "metadata": {},
   "outputs": [
    {
     "name": "stdout",
     "output_type": "stream",
     "text": [
      "(1, 6)\n",
      "(2, 5)\n",
      "(3, 4)\n"
     ]
    }
   ],
   "source": [
    "import itertools\n",
    "\n",
    "numbers = [1, 2, 3, 4, 5, 6]\n",
    "pairs = filter(lambda x: sum(x) == 7, itertools.combinations(numbers, 2))\n",
    "\n",
    "for pair in pairs:\n",
    "    print(pair)"
   ]
  },
  {
   "attachments": {},
   "cell_type": "markdown",
   "metadata": {},
   "source": [
    "## 2. Functools"
   ]
  },
  {
   "attachments": {},
   "cell_type": "markdown",
   "metadata": {},
   "source": [
    "Exercise 1: Understanding functools.partial\n",
    "\n",
    "Use functools.partial to create a new function add_five from the add function, which adds 5 to its input."
   ]
  },
  {
   "cell_type": "code",
   "execution_count": 20,
   "metadata": {},
   "outputs": [
    {
     "name": "stdout",
     "output_type": "stream",
     "text": [
      "8\n"
     ]
    }
   ],
   "source": [
    "import functools\n",
    "\n",
    "def add(a, b):\n",
    "    return a + b\n",
    "\n",
    "add_five = functools.partial(add, 5)\n",
    "print(add_five(3))  # Should print 8"
   ]
  },
  {
   "attachments": {},
   "cell_type": "markdown",
   "metadata": {},
   "source": [
    "Exercise 2: Understanding functools.lru_cache\n",
    "\n",
    "Create a recursive function to compute the nth Fibonacci number. Use functools.lru_cache to optimize it. Time the execution of both functions for n = 100, 1000 and 1,000,000."
   ]
  },
  {
   "cell_type": "code",
   "execution_count": 61,
   "metadata": {},
   "outputs": [
    {
     "name": "stdout",
     "output_type": "stream",
     "text": [
      "354224848179261915075\n",
      "The code ran in 8.82499998624553e-05 seconds\n"
     ]
    }
   ],
   "source": [
    "import functools\n",
    "import timeit\n",
    "\n",
    "@functools.lru_cache(maxsize=None)\n",
    "def fib(n):\n",
    "    if n < 2:\n",
    "        return n\n",
    "    return fib(n-1) + fib(n-2)\n",
    "\n",
    "start_time = timeit.default_timer()\n",
    "print(fib(100))  # Should print 55\n",
    "end_time = timeit.default_timer()\n",
    "\n",
    "print(f\"The code ran in {end_time-start_time} seconds\")"
   ]
  },
  {
   "attachments": {},
   "cell_type": "markdown",
   "metadata": {},
   "source": [
    "Exercise 3: Advanced usage of functools.partial\n",
    "\n",
    "Suppose you have a function f(x, y, z). Use functools.partial to create a new function g that is equivalent to f(x, 2, z)."
   ]
  },
  {
   "cell_type": "code",
   "execution_count": 63,
   "metadata": {},
   "outputs": [
    {
     "name": "stdout",
     "output_type": "stream",
     "text": [
      "6\n"
     ]
    }
   ],
   "source": [
    "import functools\n",
    "\n",
    "def f(x, y, z):\n",
    "    return x + y + z\n",
    "\n",
    "g = functools.partial(f, y=2)\n",
    "\n",
    "print(g(1,z=3))  # Should print 6"
   ]
  },
  {
   "attachments": {},
   "cell_type": "markdown",
   "metadata": {},
   "source": [
    "Exercise 4: Advanced usage of functools.lru_cache and functools.reduce\n",
    "\n",
    "Implement a recursive function that computes the factorial of a number. Use functools.lru_cache for optimization, and then use functools.reduce to find the sum of factorials from 1 to 10."
   ]
  },
  {
   "cell_type": "code",
   "execution_count": 24,
   "metadata": {},
   "outputs": [
    {
     "name": "stdout",
     "output_type": "stream",
     "text": [
      "4037913\n"
     ]
    }
   ],
   "source": [
    "import functools\n",
    "\n",
    "@functools.lru_cache(maxsize=None)\n",
    "def factorial(n):\n",
    "    if n == 0:\n",
    "        return 1\n",
    "    return n * factorial(n - 1)\n",
    "\n",
    "numbers = [factorial(i) for i in range(1, 11)]\n",
    "sum_factorials = functools.reduce(lambda a, b: a + b, numbers)\n",
    "\n",
    "print(sum_factorials)"
   ]
  },
  {
   "attachments": {},
   "cell_type": "markdown",
   "metadata": {},
   "source": [
    "Exercise 5: Understanding functools.wraps\n",
    "\n",
    "Create a decorator that logs the arguments of a function and its return value. Use functools.wraps to ensure that the metadata of the decorated function is preserved.\n",
    "\n",
    "*Hint*: to learn more about how it works/get stuck see [this post](https://stackoverflow.com/questions/308999/what-does-functools-wraps-do)"
   ]
  },
  {
   "cell_type": "code",
   "execution_count": null,
   "metadata": {},
   "outputs": [],
   "source": [
    "import functools\n",
    "\n",
    "def log_decorator(func):\n",
    "    @functools.wraps(func)\n",
    "    def wrapper(*args, **kwargs):\n",
    "        result = func(*args, **kwargs)\n",
    "        print(f\"Calling {func.__name__}({args}, {kwargs}), Result: {result}\")\n",
    "        return result\n",
    "    return wrapper\n",
    "\n",
    "@log_decorator\n",
    "def add(x, y):\n",
    "    return x + y\n",
    "\n",
    "print(add(3, 5))  # Should print 8"
   ]
  },
  {
   "attachments": {},
   "cell_type": "markdown",
   "metadata": {},
   "source": [
    "## 3. Dataclasses"
   ]
  },
  {
   "attachments": {},
   "cell_type": "markdown",
   "metadata": {},
   "source": [
    "Exercise 1: Creating a Data Class\n",
    "\n",
    "Create a basic dataclass for a Book with the fields title (string), author (string), and pages (int)."
   ]
  },
  {
   "cell_type": "code",
   "execution_count": null,
   "metadata": {},
   "outputs": [],
   "source": [
    "from dataclasses import dataclass\n",
    "\n",
    "@dataclass\n",
    "class Book:\n",
    "    title: str\n",
    "    author: str\n",
    "    pages: int\n",
    "\n",
    "book = Book(\"1984\", \"George Orwell\", 328)\n",
    "print(book)"
   ]
  },
  {
   "attachments": {},
   "cell_type": "markdown",
   "metadata": {},
   "source": [
    "Exercise 2: Default Values\n",
    "\n",
    "Modify the Book dataclass to have a default value of \"Unknown\" for both title and author, and a default value of 0 for pages."
   ]
  },
  {
   "cell_type": "code",
   "execution_count": null,
   "metadata": {},
   "outputs": [],
   "source": [
    "from dataclasses import dataclass\n",
    "\n",
    "@dataclass\n",
    "class Book:\n",
    "    title: str = \"Unknown\"\n",
    "    author: str = \"Unknown\"\n",
    "    pages: int = 0\n",
    "\n",
    "book = Book()\n",
    "print(book)"
   ]
  },
  {
   "attachments": {},
   "cell_type": "markdown",
   "metadata": {},
   "source": [
    "Exercise 3: Post-Initialization Processing\n",
    "\n",
    "Add a \\_\\_post_init__ method to the Book class that changes the title to title case (the first letter of each word capitalized).\n",
    "\n"
   ]
  },
  {
   "cell_type": "code",
   "execution_count": null,
   "metadata": {},
   "outputs": [],
   "source": [
    "from dataclasses import dataclass\n",
    "\n",
    "@dataclass\n",
    "class Book:\n",
    "    title: str = \"unknown\"\n",
    "    author: str = \"unknown\"\n",
    "    pages: int = 0\n",
    "\n",
    "    def __post_init__(self):\n",
    "        self.title = self.title.title()\n",
    "\n",
    "book = Book(\"1984\", \"george orwell\", 328)\n",
    "print(book)"
   ]
  },
  {
   "attachments": {},
   "cell_type": "markdown",
   "metadata": {},
   "source": [
    "Exercise 4: Immutable Data Classes\n",
    "\n",
    "Create an immutable dataclass Point for a point in 2D space with coordinates x and y."
   ]
  },
  {
   "cell_type": "code",
   "execution_count": null,
   "metadata": {},
   "outputs": [],
   "source": [
    "from dataclasses import dataclass\n",
    "\n",
    "@dataclass(frozen=True)\n",
    "class Point:\n",
    "    x: float\n",
    "    y: float\n",
    "\n",
    "p = Point(1.0, 2.0)\n",
    "print(p)"
   ]
  },
  {
   "attachments": {},
   "cell_type": "markdown",
   "metadata": {},
   "source": [
    "Exercise 5: Data Classes with Methods\n",
    "\n",
    "Add a method to the Point class that calculates the distance to another point."
   ]
  },
  {
   "cell_type": "code",
   "execution_count": null,
   "metadata": {},
   "outputs": [],
   "source": [
    "from dataclasses import dataclass\n",
    "from math import sqrt\n",
    "\n",
    "@dataclass(frozen=True)\n",
    "class Point:\n",
    "    x: float\n",
    "    y: float\n",
    "\n",
    "    def distance_to(self, other):\n",
    "        return sqrt((self.x - other.x) ** 2 + (self.y - other.y) ** 2)\n",
    "\n",
    "p1 = Point(1.0, 2.0)\n",
    "p2 = Point(4.0, 6.0)\n",
    "print(p1.distance_to(p2))"
   ]
  },
  {
   "attachments": {},
   "cell_type": "markdown",
   "metadata": {},
   "source": [
    "## 4. Modules and Packages"
   ]
  },
  {
   "attachments": {},
   "cell_type": "markdown",
   "metadata": {},
   "source": [
    "Exercise 1: Basic Python module creation\n",
    "\n",
    "Create a Python module named greetings.py that contains two functions: say_hello(name) and say_goodbye(name) that print a greeting or farewell to the name passed as a parameter."
   ]
  },
  {
   "attachments": {},
   "cell_type": "markdown",
   "metadata": {},
   "source": [
    "Exercise 2: Package creation\n",
    "\n",
    "Create a Python package named communication. It should contain the greetings.py module from the previous exercise. Also, ensure that the say_hello(name) and say_goodbye(name) functions are directly accessible when the package is imported."
   ]
  },
  {
   "attachments": {},
   "cell_type": "markdown",
   "metadata": {},
   "source": [
    "Exercise 3: Adding more modules to your package\n",
    "\n",
    "Extend the communication package by adding another module named questions.py that contains two functions: ask_name() and ask_age() which ask for a user's name and age, respectively."
   ]
  },
  {
   "attachments": {},
   "cell_type": "markdown",
   "metadata": {},
   "source": [
    "Exercise 4: Creating a distributable package\n",
    "\n",
    "Create a setup.py file for your communication package and build a source distribution of the package."
   ]
  },
  {
   "attachments": {},
   "cell_type": "markdown",
   "metadata": {},
   "source": [
    "Exercise 5: Installing and testing the package\n",
    "\n",
    "Install your communication package in your Python environment. Write a small script that imports and uses all the functions from your package."
   ]
  },
  {
   "attachments": {},
   "cell_type": "markdown",
   "metadata": {},
   "source": [
    "Solutions: see the `communication` folder in this folder."
   ]
  },
  {
   "attachments": {},
   "cell_type": "markdown",
   "metadata": {},
   "source": [
    "To build a source distribution, run python setup.py sdist in your terminal. This will create a .tar.gz file in the dist/ directory."
   ]
  },
  {
   "attachments": {},
   "cell_type": "markdown",
   "metadata": {},
   "source": [
    "You can install your package by navigating to the directory containing setup.py and running:\n",
    "\n",
    "`pip install .`\n",
    "\n",
    "Remember that the package must be reinstalled every time you make changes to it, unless you've installed it in \"editable\" mode with pip install -e .\n",
    "\n",
    "Below a script using the different functions from the communication package:"
   ]
  },
  {
   "cell_type": "code",
   "execution_count": null,
   "metadata": {},
   "outputs": [],
   "source": [
    "from communication import say_hello, say_goodbye, ask_name, ask_age\n",
    "\n",
    "name = ask_name()\n",
    "age = ask_age()\n",
    "\n",
    "say_hello(name)\n",
    "print(f\"Wow, so you're {age} years old!\")\n",
    "say_goodbye(name)"
   ]
  }
 ],
 "metadata": {
  "kernelspec": {
   "display_name": "standard_env",
   "language": "python",
   "name": "python3"
  },
  "language_info": {
   "codemirror_mode": {
    "name": "ipython",
    "version": 3
   },
   "file_extension": ".py",
   "mimetype": "text/x-python",
   "name": "python",
   "nbconvert_exporter": "python",
   "pygments_lexer": "ipython3",
   "version": "3.9.13"
  },
  "orig_nbformat": 4
 },
 "nbformat": 4,
 "nbformat_minor": 2
}
