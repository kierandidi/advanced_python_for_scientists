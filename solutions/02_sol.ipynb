{
 "cells": [
  {
   "attachments": {},
   "cell_type": "markdown",
   "metadata": {},
   "source": [
    "# Day 2: Programming Styles exercises"
   ]
  },
  {
   "attachments": {},
   "cell_type": "markdown",
   "metadata": {},
   "source": [
    "## 1. Functional Programming\n"
   ]
  },
  {
   "attachments": {},
   "cell_type": "markdown",
   "metadata": {},
   "source": [
    "Exercise 1: Implement a function gc_content that takes a DNA sequence as a string and returns the GC content using a list comprehension.\n"
   ]
  },
  {
   "cell_type": "code",
   "execution_count": null,
   "metadata": {},
   "outputs": [],
   "source": [
    "def gc_content(seq):\n",
    "    \"\"\"Return the GC content of a sequence.\"\"\"\n",
    "    return (seq.count('G') + seq.count('C')) / len(seq)"
   ]
  },
  {
   "attachments": {},
   "cell_type": "markdown",
   "metadata": {},
   "source": [
    "Exercise 2: Implement a function codon_usage that takes a DNA sequence as a string and a codon as a string, and returns the frequency of the codon in the sequence using map and filter."
   ]
  },
  {
   "cell_type": "code",
   "execution_count": null,
   "metadata": {},
   "outputs": [],
   "source": [
    "def codon_usage(seq, codon):\n",
    "    \"\"\"Return the frequency of a codon in a sequence.\"\"\"\n",
    "    return seq.count(codon) / len(seq)\n",
    "\n",
    "#same function as above but using map and filter\n",
    "def codon_usage2(seq, codon):\n",
    "    \"\"\"Return the frequency of a codon in a sequence.\"\"\"\n",
    "    return len(list(filter(lambda x: x == codon, seq))) / len(seq)"
   ]
  },
  {
   "attachments": {},
   "cell_type": "markdown",
   "metadata": {},
   "source": [
    "Exercise 3: Implement a function orf_finder that takes a DNA sequence as a string and finds all open reading frames (ORFs) using filter and a helper function."
   ]
  },
  {
   "cell_type": "code",
   "execution_count": null,
   "metadata": {},
   "outputs": [],
   "source": [
    "def orf_finder(seq):\n",
    "    \"\"\"Find all open reading frames in a sequence.\"\"\"\n",
    "    seq = seq.upper()\n",
    "    orfs = []\n",
    "    for i in range(3):\n",
    "        for j in range(i, len(seq), 3):\n",
    "            if seq[j:j+3] == 'ATG':\n",
    "                for k in range(j, len(seq), 3):\n",
    "                    if seq[k:k+3] in ('TAA', 'TAG', 'TGA'):\n",
    "                        orfs.append(seq[j:k+3])\n",
    "                        break\n",
    "    return orfs\n",
    "\n",
    "#same function but with list comprehension\n",
    "def orf_finder2(seq):\n",
    "    \"\"\"Find all open reading frames in a sequence.\"\"\"\n",
    "    seq = seq.upper()\n",
    "    orfs = []\n",
    "    for i in range(3):\n",
    "        for j in range(i, len(seq), 3):\n",
    "            if seq[j:j+3] == 'ATG':\n",
    "                orfs.append([seq[j:k+3] for k in range(j, len(seq), 3) if seq[k:k+3] in ('TAA', 'TAG', 'TGA')][0])\n",
    "                break\n",
    "    return orfs\n",
    "\n",
    "def orf_finder3(seq):\n",
    "    \"\"\"Find all open reading frames in a sequence.\"\"\"\n",
    "    seq = seq.upper()\n",
    "    stop_codons = ['TAA', 'TAG', 'TGA']\n",
    "    \n",
    "    return [seq[j:k+3] for i in range(3) for j in range(i, len(seq), 3) if seq[j:j+3] == 'ATG' \n",
    "            for k in range(j, len(seq), 3) if seq[k:k+3] in stop_codons]\n",
    "\n",
    "from itertools import chain\n",
    "def orf_finder4(seq):\n",
    "\n",
    "    \"\"\"Find all open reading frames in a sequence.\"\"\"\n",
    "    seq = seq.upper()\n",
    "    stop_codons = ['TAA', 'TAG', 'TGA']\n",
    "\n",
    "    # Create an iterable of possible ORFs for each frame\n",
    "    frames = (filter(lambda x: seq[x:x+3] == 'ATG', range(i, len(seq), 3)) for i in range(3))\n",
    "\n",
    "    # Create an iterable of ORFs for each start position\n",
    "    orfs = (filter(lambda x: seq[x:x+3] in stop_codons, range(start, len(seq), 3)) for start in chain.from_iterable(frames))\n",
    "\n",
    "    # Map each ORF end position to its sequence and return the list of all sequences\n",
    "    return list(map(lambda x: seq[x:x+3], chain.from_iterable(orfs)))"
   ]
  },
  {
   "attachments": {},
   "cell_type": "markdown",
   "metadata": {},
   "source": [
    "## 2. OOP: Inheritance vs Composition"
   ]
  },
  {
   "attachments": {},
   "cell_type": "markdown",
   "metadata": {},
   "source": [
    "Exercise 1: Create a simple DNA class, then create a RNA class that inherits from DNA and adds an extra method to convert DNA sequence to RNA."
   ]
  },
  {
   "cell_type": "code",
   "execution_count": null,
   "metadata": {},
   "outputs": [],
   "source": [
    "class DNA:\n",
    "    def __init__(self, sequence):\n",
    "        self.sequence = sequence\n",
    "\n",
    "    def reverse(self):\n",
    "        self.sequence = self.sequence[::-1]\n",
    "\n",
    "    def complement(self):\n",
    "        complement = {'A': 'T', 'T': 'A', 'C': 'G', 'G': 'C'}\n",
    "        self.sequence = ''.join([complement[base] for base in self.sequence])\n",
    "\n",
    "#create RNA that inherits from DNA and has a method to transcribe DNA to RNA\n",
    "class RNA(DNA):\n",
    "    def transcribe(self):\n",
    "        self.sequence = self.sequence.replace('T', 'U')\n",
    "\n"
   ]
  },
  {
   "attachments": {},
   "cell_type": "markdown",
   "metadata": {},
   "source": [
    "Exercise 2: Implement a Gene class that uses a DNA instance (composition) and adds additional gene-specific properties and methods."
   ]
  },
  {
   "cell_type": "code",
   "execution_count": null,
   "metadata": {},
   "outputs": [],
   "source": [
    "class Gene:\n",
    "    def __init__(self, name, sequence):\n",
    "        self.name = name\n",
    "        self.sequence = sequence\n",
    "\n",
    "    def __len__(self):\n",
    "        return len(self.sequence)\n",
    "\n",
    "    def __repr__(self):\n",
    "        return f'Gene({self.name}, {self.sequence})'\n",
    "\n",
    "    def __str__(self):\n",
    "        return f'Gene {self.name} with sequence {self.sequence}'\n",
    "\n",
    "    def __eq__(self, other):\n",
    "        return self.sequence == other.sequence\n",
    "\n",
    "    def reverse(self):\n",
    "        self.sequence = self.sequence[::-1]\n",
    "\n",
    "    def complement(self):\n",
    "        complement = {'A': 'T', 'T': 'A', 'C': 'G', 'G': 'C'}\n",
    "        self.sequence = ''.join([complement[base] for base in self.sequence])\n",
    "\n",
    "    def transcribe(self):\n",
    "        self.sequence = self.sequence.replace('T', 'U')\n",
    "\n",
    "    def gc_content(self):\n",
    "        return (self.sequence.count('G') + self.sequence.count('C')) / len(self.sequence)\n",
    "\n",
    "    def gc_content_subsec(self, k=20):\n",
    "        gc = []\n",
    "        for i in range(0, len(self.sequence) - k + 1, k):\n",
    "            subsec = self.sequence[i:i+k]\n",
    "            gc.append((subsec.count('G') + subsec.count('C')) / k)\n",
    "        return gc\n",
    "\n",
    "    def codons(self):\n",
    "        return [self.sequence[i:i+3] for i in range(0, len(self.sequence), 3)]"
   ]
  },
  {
   "attachments": {},
   "cell_type": "markdown",
   "metadata": {},
   "source": [
    "Exercise 3: Refactor your Gene class so that it inherits from DNA and compare this design with the composition version."
   ]
  },
  {
   "cell_type": "code",
   "execution_count": null,
   "metadata": {},
   "outputs": [],
   "source": [
    "#again Gene class, but this time inheriting from DNA\n",
    "class Gene(DNA):\n",
    "    def __init__(self, name, sequence):\n",
    "        super().__init__(sequence)\n",
    "        self.name = name\n",
    "\n",
    "    def __len__(self):\n",
    "        return len(self.sequence)\n",
    "\n",
    "    def __repr__(self):\n",
    "        return f'Gene({self.name}, {self.sequence})'\n",
    "\n",
    "    def __str__(self):\n",
    "        return f'Gene {self.name} with sequence {self.sequence}'\n",
    "\n",
    "    def __eq__(self, other):\n",
    "        return self.sequence == other.sequence\n",
    "\n",
    "    def gc_content(self):\n",
    "        return (self.sequence.count('G') + self.sequence.count('C')) / len(self.sequence)\n",
    "\n",
    "    def gc_content_subsec(self, k=20):\n",
    "        gc = []\n",
    "        for i in range(0, len(self.sequence) - k + 1, k):\n",
    "            subsec = self.sequence[i:i+k]\n",
    "            gc.append((subsec.count('G') + subsec.count('C')) / k)\n",
    "        return gc\n",
    "\n",
    "    def codons(self):\n",
    "        return [self.sequence[i:i+3] for i in range(0, len(self.sequence), 3)]"
   ]
  },
  {
   "attachments": {},
   "cell_type": "markdown",
   "metadata": {},
   "source": [
    "## 3. OOP: Polymorphism and Abstract Base Classes"
   ]
  },
  {
   "attachments": {},
   "cell_type": "markdown",
   "metadata": {},
   "source": [
    "Exercise 1: Create an abstract base class Sequence with an abstract method gc_content. Create DNA and RNA classes that both inherit from Sequence and implement gc_content."
   ]
  },
  {
   "cell_type": "code",
   "execution_count": null,
   "metadata": {},
   "outputs": [],
   "source": [
    "from abc import ABC, abstractmethod\n",
    "\n",
    "class Sequence(ABC):\n",
    "    def __init__(self, sequence):\n",
    "        self.sequence = sequence\n",
    "\n",
    "    @abstractmethod\n",
    "    def gc_content(self):\n",
    "        pass\n",
    "\n",
    "class DNA(Sequence):\n",
    "    def __init__(self, sequence):\n",
    "        super().__init__(sequence)\n",
    "\n",
    "    def gc_content(self):\n",
    "        return (self.sequence.count('G') + self.sequence.count('C')) / len(self.sequence)\n",
    "\n",
    "class RNA(Sequence):\n",
    "    def __init__(self, sequence):\n",
    "        super().__init__(sequence)\n",
    "\n",
    "    def gc_content(self):\n",
    "        return (self.sequence.count('G') + self.sequence.count('C')) / len(self.sequence)\n"
   ]
  },
  {
   "attachments": {},
   "cell_type": "markdown",
   "metadata": {},
   "source": [
    "Exercise 2: Add a transcribe method to the Sequence abstract base class. Implement it in the DNA class but not in the RNA class."
   ]
  },
  {
   "cell_type": "code",
   "execution_count": 2,
   "metadata": {},
   "outputs": [],
   "source": [
    "from abc import ABC, abstractmethod\n",
    "\n",
    "class Sequence(ABC):\n",
    "    def __init__(self, sequence):\n",
    "        self.sequence = sequence\n",
    "\n",
    "    @abstractmethod\n",
    "    def gc_content(self):\n",
    "        pass\n",
    "\n",
    "    @abstractmethod\n",
    "    def transcribe(self):\n",
    "        pass\n",
    "\n",
    "class DNA(Sequence):\n",
    "    def __init__(self, sequence):\n",
    "        super().__init__(sequence)\n",
    "\n",
    "    def gc_content(self):\n",
    "        return (self.sequence.count('G') + self.sequence.count('C')) / len(self.sequence)\n",
    "    \n",
    "    def transcribe(self):\n",
    "        return self.sequence.replace('T', 'U')\n",
    "    \n",
    "\n",
    "class RNA(Sequence):\n",
    "    def __init__(self, sequence):\n",
    "        super().__init__(sequence)\n",
    "\n",
    "    def gc_content(self):\n",
    "        return (self.sequence.count('G') + self.sequence.count('C')) / len(self.sequence)\n",
    "    \n",
    "    def transcribe(self):\n",
    "        raise NotImplementedError(\"Transcription does not apply to RNA sequences\")\n",
    "\n"
   ]
  },
  {
   "attachments": {},
   "cell_type": "markdown",
   "metadata": {},
   "source": [
    "Exercise 3: Extend your Sequence hierarchy with a Protein class and make sure that it's impossible to call transcribe on a Protein object."
   ]
  },
  {
   "cell_type": "code",
   "execution_count": null,
   "metadata": {},
   "outputs": [],
   "source": [
    "class Protein(Sequence):\n",
    "    def __init__(self, sequence):\n",
    "        super().__init__(sequence)\n",
    "\n",
    "    def gc_content(self):\n",
    "        raise NotImplementedError(\"GC Content does not apply to protein sequences\")\n",
    "    \n",
    "    def transcribe(self):\n",
    "        raise NotImplementedError(\"Transcription does not apply to protein sequences\")"
   ]
  },
  {
   "attachments": {},
   "cell_type": "markdown",
   "metadata": {},
   "source": [
    "## 4. Instance, Class and Static Methods:"
   ]
  },
  {
   "attachments": {},
   "cell_type": "markdown",
   "metadata": {},
   "source": [
    "Exercise 1: Add an instance method count_amino_acids to a Protein class that counts the number of each amino acid in a protein."
   ]
  },
  {
   "attachments": {},
   "cell_type": "markdown",
   "metadata": {},
   "source": [
    "Exercise 2: Add a class method from_pdb to your Protein class that constructs a Protein object from a PDB file."
   ]
  },
  {
   "attachments": {},
   "cell_type": "markdown",
   "metadata": {},
   "source": [
    "Exercise 3: Add a static method validate to your Protein class that checks whether a string is a valid amino acid sequence.\n"
   ]
  },
  {
   "cell_type": "code",
   "execution_count": null,
   "metadata": {},
   "outputs": [],
   "source": [
    "from Bio.PDB import PDBParser\n",
    "\n",
    "class Protein:\n",
    "    def __init__(self, sequence):\n",
    "        self.sequence = sequence\n",
    "\n",
    "    def count_amino_acids(self):\n",
    "        aa = {}\n",
    "        for res in self.sequence:\n",
    "            if res in aa:\n",
    "                aa[res] += 1\n",
    "            else:\n",
    "                aa[res] = 1\n",
    "        return aa\n",
    "    \n",
    "    @classmethod\n",
    "    def read_pdb_sequence(cls, pdb_file):\n",
    "        parser = PDBParser(QUIET=True)  # Quiet mode to avoid warnings\n",
    "        structure = parser.get_structure('PDB', pdb_file)\n",
    "        for model in structure:\n",
    "            for chain in model:\n",
    "                seq = []\n",
    "                for residue in chain:\n",
    "                    if residue.get_resname() in ['ALA', 'ARG', 'ASN', 'ASP', 'CYS', 'GLN', 'GLY', 'GLU', \n",
    "                                                'HIS', 'ILE', 'LEU', 'LYS', 'MET', 'PHE', 'PRO', 'SER', \n",
    "                                                'THR', 'TRP', 'TYR', 'VAL']:\n",
    "                        seq.append(residue.get_resname())\n",
    "        return \"\".join(seq)\n",
    "    \n",
    "    @staticmethod\n",
    "    def validate_protein_sequence(sequence):\n",
    "        valid_aa = ['ALA', 'ARG', 'ASN', 'ASP', 'CYS', 'GLN', 'GLY', 'GLU', \n",
    "                    'HIS', 'ILE', 'LEU', 'LYS', 'MET', 'PHE', 'PRO', 'SER', \n",
    "                    'THR', 'TRP', 'TYR', 'VAL']\n",
    "        for aa in sequence:\n",
    "            if aa not in valid_aa:\n",
    "                raise ValueError(f\"{aa} is not a valid amino acid\")\n",
    "        return True\n",
    "    "
   ]
  },
  {
   "attachments": {},
   "cell_type": "markdown",
   "metadata": {},
   "source": [
    "## 5. Context Managers"
   ]
  },
  {
   "attachments": {},
   "cell_type": "markdown",
   "metadata": {},
   "source": [
    "Exercise 1: Write a context manager to open and automatically close a PDB file.\n"
   ]
  },
  {
   "cell_type": "code",
   "execution_count": null,
   "metadata": {},
   "outputs": [],
   "source": [
    "class PDBManager:\n",
    "    #context manager to open and close pdb files\n",
    "    def __init__(self, pdb_file):\n",
    "        self.pdb_file = pdb_file\n",
    "    \n",
    "    def __enter__(self):\n",
    "        self.file = open(self.pdb_file)\n",
    "        return self.file\n",
    "\n",
    "    def __exit__(self, exc_type, exc_value, exc_traceback):\n",
    "        self.file.close()\n",
    "        if exc_type:\n",
    "            print(f\"Exception of type {exc_type} occurred\")\n",
    "            print(f\"Exception value: {exc_value}\")\n",
    "            print(f\"Exception traceback: {exc_traceback}\")\n",
    "            return True"
   ]
  },
  {
   "attachments": {},
   "cell_type": "markdown",
   "metadata": {},
   "source": [
    "Exercise 2: Write a context manager that prints the progress of reading a directory of PDB files in terms of the percentage of the files "
   ]
  },
  {
   "attachments": {},
   "cell_type": "markdown",
   "metadata": {},
   "source": [
    "processed."
   ]
  },
  {
   "cell_type": "code",
   "execution_count": null,
   "metadata": {},
   "outputs": [],
   "source": [
    "import tqdm\n",
    "import os\n",
    "\n",
    "class PDBProgress:\n",
    "    #context manager to show progress of pdb file processing\n",
    "    def __init__(self, pdb_file):\n",
    "        self.pdb_file = pdb_file\n",
    "\n",
    "        #tqdm progress bar\n",
    "        self.pbar = tqdm(total=os.path.getsize(self.pdb_file), unit='B', unit_scale=True, desc=self.pdb_file)\n",
    "    "
   ]
  },
  {
   "attachments": {},
   "cell_type": "markdown",
   "metadata": {},
   "source": [
    "Write a context manager that temporarily changes the working directory to a specified path and then changes it back, regardless of whether an error occurred within the context block. Test this with some PDB file operations."
   ]
  },
  {
   "attachments": {},
   "cell_type": "markdown",
   "metadata": {},
   "source": [
    "## 6. Type Hints\n",
    "\n"
   ]
  },
  {
   "attachments": {},
   "cell_type": "markdown",
   "metadata": {},
   "source": [
    "Exercise 1: Add type hints to your Protein class from the previous exercises.\n"
   ]
  },
  {
   "cell_type": "code",
   "execution_count": null,
   "metadata": {},
   "outputs": [],
   "source": []
  },
  {
   "attachments": {},
   "cell_type": "markdown",
   "metadata": {},
   "source": [
    "Exercise 2: Write a function read_pdb that takes a file path as input and returns an object of class Protein. Use type hints for the function signature."
   ]
  },
  {
   "cell_type": "code",
   "execution_count": null,
   "metadata": {},
   "outputs": [],
   "source": []
  },
  {
   "attachments": {},
   "cell_type": "markdown",
   "metadata": {},
   "source": [
    "Add type hints to the context managers you wrote in the previous exercises, using the ContextManager generic class from the typing module."
   ]
  },
  {
   "cell_type": "code",
   "execution_count": null,
   "metadata": {},
   "outputs": [],
   "source": []
  }
 ],
 "metadata": {
  "kernelspec": {
   "display_name": "standard_env",
   "language": "python",
   "name": "python3"
  },
  "language_info": {
   "codemirror_mode": {
    "name": "ipython",
    "version": 3
   },
   "file_extension": ".py",
   "mimetype": "text/x-python",
   "name": "python",
   "nbconvert_exporter": "python",
   "pygments_lexer": "ipython3",
   "version": "3.9.13"
  },
  "orig_nbformat": 4
 },
 "nbformat": 4,
 "nbformat_minor": 2
}
