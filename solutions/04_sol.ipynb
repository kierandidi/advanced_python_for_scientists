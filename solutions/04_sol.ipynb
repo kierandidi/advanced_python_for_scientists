{
 "cells": [
  {
   "attachments": {},
   "cell_type": "markdown",
   "metadata": {},
   "source": [
    "# Day 4, Tools"
   ]
  },
  {
   "attachments": {},
   "cell_type": "markdown",
   "metadata": {},
   "source": [
    "## 1. VS Code and Debugging"
   ]
  },
  {
   "attachments": {},
   "cell_type": "markdown",
   "metadata": {},
   "source": [
    "Exercise 1: Install Python Extension and Setup Debugger\n",
    "\n",
    "Task: Install the Python extension for VS Code. Set a breakpoint on the print statement of hello_world.py and start the debugger."
   ]
  },
  {
   "attachments": {},
   "cell_type": "markdown",
   "metadata": {},
   "source": [
    "Exercise 2: Debugging with Watch and Local Variables\n",
    "\n",
    "Task: Modify hello_world.py to include a variable name = \"Alice\" and change the print statement to print(f\"Hello, {name}!\"). Add a watch for the variable name in the debugger and step over the code line by line."
   ]
  },
  {
   "attachments": {},
   "cell_type": "markdown",
   "metadata": {},
   "source": [
    "Solution: What are watches? Watches are expressions that are evaluated and displayed while debugging. They can be added by clicking on the + icon in the Watch section of the debugger. The watch name will be evaluated and displayed in the debugger. The watch can be removed by clicking on the x icon. In this case, our watch is the variable name."
   ]
  },
  {
   "attachments": {},
   "cell_type": "markdown",
   "metadata": {},
   "source": [
    "Exercise 3: You're given a Python function linear_search() that is supposed to search for a given number in a list and return its index. If the number is not present, it should return -1. However, it does not return the correct index. Debug the function using a watch expression."
   ]
  },
  {
   "cell_type": "code",
   "execution_count": null,
   "metadata": {},
   "outputs": [
    {
     "name": "stdout",
     "output_type": "stream",
     "text": [
      "3\n"
     ]
    }
   ],
   "source": [
    "def linear_search(num_list, target):\n",
    "    for i in num_list:\n",
    "        if num_list[i] == target:\n",
    "            return i\n",
    "    return -1\n",
    "\n",
    "print(linear_search([1, 2, 3, 4, 5], 4)) "
   ]
  },
  {
   "attachments": {},
   "cell_type": "markdown",
   "metadata": {},
   "source": [
    "Solution: Here, i is an element in num_list, not an index. To correct this, we need to use enumerate(). In VSCode, you can set a breakpoint inside the if condition, run the debugger, and add a watch for the expression num_list[i]. The watch will show that num_list[i] does not equal target because i is being used incorrectly."
   ]
  },
  {
   "cell_type": "code",
   "execution_count": null,
   "metadata": {},
   "outputs": [],
   "source": [
    "def linear_search(num_list, target):\n",
    "    for i, num in enumerate(num_list):\n",
    "        if num == target:\n",
    "            return i\n",
    "    return -1\n",
    "\n",
    "print(linear_search([1, 2, 3, 4, 5], 4))  # Output: 3"
   ]
  },
  {
   "attachments": {},
   "cell_type": "markdown",
   "metadata": {},
   "source": [
    "Exercise 4: You have a recursive function fibonacci() that is supposed to calculate the nth Fibonacci number. However, for some inputs, it does not return the correct result. Use the debugger to solve this."
   ]
  },
  {
   "cell_type": "code",
   "execution_count": null,
   "metadata": {},
   "outputs": [],
   "source": [
    "def fibonacci(n):\n",
    "    if n == 0:\n",
    "        return 0\n",
    "    elif n == 1:\n",
    "        return 1\n",
    "    else:\n",
    "        return fibonacci(n - 1) + fibonacci(n)\n",
    "\n",
    "print(fibonacci(6))"
   ]
  },
  {
   "attachments": {},
   "cell_type": "markdown",
   "metadata": {},
   "source": [
    "Solution: In the recursive call, it should be fibonacci(n - 1) + fibonacci(n - 2). In VSCode, you can use the 'Step Into' feature in the debugging toolbar to navigate into the recursive calls. Adding watches for n, fibonacci(n - 1), and fibonacci(n) would be useful. The watch will show that fibonacci(n) is incorrect because n is not being decremented correctly."
   ]
  },
  {
   "cell_type": "code",
   "execution_count": null,
   "metadata": {},
   "outputs": [],
   "source": [
    "def fibonacci(n):\n",
    "    if n == 0:\n",
    "        return 0\n",
    "    elif n == 1:\n",
    "        return 1\n",
    "    else:\n",
    "        return fibonacci(n - 1) + fibonacci(n - 2)\n",
    "\n",
    "print(fibonacci(6))"
   ]
  },
  {
   "attachments": {},
   "cell_type": "markdown",
   "metadata": {},
   "source": [
    "Exercise 5: You have a Python function is_prime() that checks whether a given number is prime. However, the function returns incorrect results for certain inputs. Use conditional breakpoints and debug the function."
   ]
  },
  {
   "cell_type": "code",
   "execution_count": null,
   "metadata": {},
   "outputs": [],
   "source": [
    "def is_prime(n):\n",
    "    if n < 2:\n",
    "        return False\n",
    "    for i in range(2, n-1):\n",
    "        if n % i == 0:\n",
    "            return False\n",
    "    return True\n",
    "\n",
    "print(is_prime(2))"
   ]
  },
  {
   "attachments": {},
   "cell_type": "markdown",
   "metadata": {},
   "source": [
    "Solution: The function is_prime is incorrect for n = 2. The for loop range should go until n not n-1. In VSCode, you can set a conditional breakpoint at the line with if n % i == 0 to pause execution when n % i == 0 is true. This allows you to see when n is divisible by i, helping you identify the issue."
   ]
  },
  {
   "cell_type": "code",
   "execution_count": null,
   "metadata": {},
   "outputs": [],
   "source": [
    "def is_prime(n):\n",
    "    if n < 2:\n",
    "        return False\n",
    "    for i in range(2, n):\n",
    "        if n % i == 0:\n",
    "            return False\n",
    "    return True\n",
    "\n",
    "print(is_prime(2)) "
   ]
  },
  {
   "attachments": {},
   "cell_type": "markdown",
   "metadata": {},
   "source": [
    "## 2. CLI"
   ]
  },
  {
   "attachments": {},
   "cell_type": "markdown",
   "metadata": {},
   "source": [
    "Exercise 1: Write a Python script that reads two command-line arguments and prints their sum."
   ]
  },
  {
   "attachments": {},
   "cell_type": "markdown",
   "metadata": {},
   "source": [
    "Solution: Using sys:"
   ]
  },
  {
   "cell_type": "code",
   "execution_count": null,
   "metadata": {},
   "outputs": [],
   "source": [
    "import sys\n",
    "\n",
    "def main():\n",
    "    if len(sys.argv) != 3:\n",
    "        print(\"You must enter exactly two arguments!\")\n",
    "    else:\n",
    "        num1 = int(sys.argv[1])\n",
    "        num2 = int(sys.argv[2])\n",
    "        print(\"The sum is\", num1 + num2)\n",
    "\n",
    "if __name__ == \"__main__\":\n",
    "    main()"
   ]
  },
  {
   "attachments": {},
   "cell_type": "markdown",
   "metadata": {},
   "source": [
    "Exercise 2: Write a Python script that reads a command-line argument and prints whether it is a file or a directory."
   ]
  },
  {
   "attachments": {},
   "cell_type": "markdown",
   "metadata": {},
   "source": [
    "Solution using argparse: "
   ]
  },
  {
   "cell_type": "code",
   "execution_count": null,
   "metadata": {},
   "outputs": [],
   "source": [
    "import argparse\n",
    "import os\n",
    "\n",
    "def check_file_or_directory(path):\n",
    "    if os.path.isfile(path):\n",
    "        print(f\"{path} is a file\")\n",
    "    elif os.path.isdir(path):\n",
    "        print(f\"{path} is a directory\")\n",
    "    else:\n",
    "        print(f\"{path} does not exist\")\n",
    "\n",
    "parser = argparse.ArgumentParser()\n",
    "parser.add_argument('path', help='Enter the path to check')\n",
    "\n",
    "args = parser.parse_args()\n",
    "check_file_or_directory(args.path)\n"
   ]
  },
  {
   "attachments": {},
   "cell_type": "markdown",
   "metadata": {},
   "source": [
    "Exercise 3: Write a Python script that takes two command-line options --height and --width and prints the area of a rectangle."
   ]
  },
  {
   "attachments": {},
   "cell_type": "markdown",
   "metadata": {},
   "source": [
    "Solution using argparse: "
   ]
  },
  {
   "cell_type": "code",
   "execution_count": null,
   "metadata": {},
   "outputs": [],
   "source": [
    "import argparse\n",
    "\n",
    "parser = argparse.ArgumentParser()\n",
    "parser.add_argument('--height', type=int, help='The height of the rectangle')\n",
    "parser.add_argument('--width', type=int, help='The width of the rectangle')\n",
    "\n",
    "args = parser.parse_args()\n",
    "area = args.height * args.width\n",
    "print(f'The area of the rectangle is {area}')"
   ]
  },
  {
   "attachments": {},
   "cell_type": "markdown",
   "metadata": {},
   "source": [
    "Exercise 4: Write a Python script that can perform multiple mathematical operations (add, subtract, multiply, divide). Each operation should be a separate subcommand with its own arguments. Use argparse for this."
   ]
  },
  {
   "attachments": {},
   "cell_type": "markdown",
   "metadata": {},
   "source": [
    "Solution using argparse: "
   ]
  },
  {
   "cell_type": "code",
   "execution_count": null,
   "metadata": {},
   "outputs": [],
   "source": [
    "import argparse\n",
    "\n",
    "def add(args):\n",
    "    print(args.x + args.y)\n",
    "\n",
    "def subtract(args):\n",
    "    print(args.x - args.y)\n",
    "\n",
    "def multiply(args):\n",
    "    print(args.x * args.y)\n",
    "\n",
    "def divide(args):\n",
    "    print(args.x / args.y)\n",
    "\n",
    "parser = argparse.ArgumentParser()\n",
    "subparsers = parser.add_subparsers()\n",
    "\n",
    "parser_add = subparsers.add_parser('add')\n",
    "parser_add.add_argument('x', type=int)\n",
    "parser_add.add_argument('y', type=int)\n",
    "parser_add.set_defaults(func=add)\n",
    "\n",
    "parser_subtract = subparsers.add_parser('subtract')\n",
    "parser_subtract.add_argument('x', type=int)\n",
    "parser_subtract.add_argument('y', type=int)\n",
    "parser_subtract.set_defaults(func=subtract)\n",
    "\n",
    "parser_multiply = subparsers.add_parser('multiply')\n",
    "parser_multiply.add_argument('x', type=int)\n",
    "parser_multiply.add_argument('y', type=int)\n",
    "parser_multiply.set_defaults(func=multiply)\n",
    "\n",
    "parser_divide = subparsers.add_parser('divide')\n",
    "parser_divide.add_argument('x', type=int)\n",
    "parser_divide.add_argument('y', type=int)\n",
    "parser_divide.set_defaults(func=divide)\n",
    "\n",
    "args = parser.parse_args()\n",
    "args.func(args)\n"
   ]
  },
  {
   "attachments": {},
   "cell_type": "markdown",
   "metadata": {},
   "source": [
    "Exercise 5: Solve exercise 4, but use argh instead of argparse."
   ]
  },
  {
   "cell_type": "code",
   "execution_count": null,
   "metadata": {},
   "outputs": [],
   "source": [
    "import argh\n",
    "\n",
    "def add(x: int, y: int):\n",
    "    print(x + y)\n",
    "\n",
    "def subtract(x: int, y: int):\n",
    "    print(x - y)\n",
    "\n",
    "def multiply(x: int, y: int):\n",
    "    print(x * y)\n",
    "\n",
    "def divide(x: int, y: int):\n",
    "    print(x / y)\n",
    "\n",
    "def main():\n",
    "    parser = argh.ArghParser()\n",
    "    parser.add_commands([add, subtract, multiply, divide])\n",
    "    argh.dispatch(parser)\n",
    "\n",
    "if __name__ == \"__main__\":\n",
    "    main()"
   ]
  },
  {
   "attachments": {},
   "cell_type": "markdown",
   "metadata": {},
   "source": [
    "Exercise 6: Write a Python script that has two functions: list_users() and add_user(name). The first function should print a list of users, and the second function should add a user to the list. Use argh to handle these functions as command-line commands.\n",
    "\n"
   ]
  },
  {
   "cell_type": "code",
   "execution_count": null,
   "metadata": {},
   "outputs": [],
   "source": [
    "import argh\n",
    "import argparse\n",
    "\n",
    "users = []\n",
    "\n",
    "def list_users():\n",
    "    print(users)\n",
    "\n",
    "def add_user(name):\n",
    "    users.append(name)\n",
    "    print(f'User {name} added.')\n",
    "\n",
    "parser = argparse.ArgumentParser()\n",
    "argh.add_commands(parser, [list_users, add_user])\n",
    "\n",
    "if __name__ == '__main__':\n",
    "    argh.dispatch(parser)"
   ]
  },
  {
   "attachments": {},
   "cell_type": "markdown",
   "metadata": {},
   "source": [
    "## Git"
   ]
  },
  {
   "attachments": {},
   "cell_type": "markdown",
   "metadata": {},
   "source": [
    "Bonus exercise: If you have time, feel free to download [this game](https://ohmygit.org/) and play it. It's a fun way to learn git.\n"
   ]
  },
  {
   "attachments": {},
   "cell_type": "markdown",
   "metadata": {},
   "source": [
    "Exercise 1: You have made changes to a file named test.txt. Now, you want to save these changes in the Git repository. Write down the commands you would use."
   ]
  },
  {
   "attachments": {},
   "cell_type": "markdown",
   "metadata": {},
   "source": [
    "`git add test.txt`\n",
    "\n",
    "`git commit -m \"Your message about the change here\"`"
   ]
  },
  {
   "attachments": {},
   "cell_type": "markdown",
   "metadata": {},
   "source": [
    "Exercise 2: You have made a commit but haven't pushed it yet and realize you made a mistake in it. Amend the commit without changing its message."
   ]
  },
  {
   "attachments": {},
   "cell_type": "markdown",
   "metadata": {},
   "source": [
    "After making the necessary changes to the files...\n",
    "\n",
    "`git add .`\n",
    "\n",
    "`git commit --amend --no-edit`"
   ]
  },
  {
   "attachments": {},
   "cell_type": "markdown",
   "metadata": {},
   "source": [
    "Exercise 3: You want to see what changes have been made in the `featur`e branch relative to the `main `branch. Show the diff."
   ]
  },
  {
   "attachments": {},
   "cell_type": "markdown",
   "metadata": {},
   "source": [
    "Exercise 4: You have committed a change, but now realize that you want to undo it. The commit has not been pushed yet. Write down the command you would use to undo the latest commit."
   ]
  },
  {
   "attachments": {},
   "cell_type": "markdown",
   "metadata": {},
   "source": [
    "`git reset --soft HEAD~1`"
   ]
  },
  {
   "attachments": {},
   "cell_type": "markdown",
   "metadata": {},
   "source": [
    "Exercise 5: You want to create a new branch called feature and switch to it. Write down the commands you would use."
   ]
  },
  {
   "attachments": {},
   "cell_type": "markdown",
   "metadata": {},
   "source": [
    "`git branch feature`\n",
    "\n",
    "`git checkout feature`"
   ]
  }
 ],
 "metadata": {
  "kernelspec": {
   "display_name": "standard_env",
   "language": "python",
   "name": "python3"
  },
  "language_info": {
   "codemirror_mode": {
    "name": "ipython",
    "version": 3
   },
   "file_extension": ".py",
   "mimetype": "text/x-python",
   "name": "python",
   "nbconvert_exporter": "python",
   "pygments_lexer": "ipython3",
   "version": "3.9.13"
  },
  "orig_nbformat": 4
 },
 "nbformat": 4,
 "nbformat_minor": 2
}
