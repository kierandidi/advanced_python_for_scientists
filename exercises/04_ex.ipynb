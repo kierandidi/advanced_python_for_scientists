{
 "cells": [
  {
   "attachments": {},
   "cell_type": "markdown",
   "metadata": {},
   "source": [
    "# Day 4, Tools"
   ]
  },
  {
   "attachments": {},
   "cell_type": "markdown",
   "metadata": {},
   "source": [
    "## VS Code and Debugging"
   ]
  },
  {
   "attachments": {},
   "cell_type": "markdown",
   "metadata": {},
   "source": [
    "Exercise 1: Install Python Extension and Setup Debugger\n",
    "\n",
    "Task: Install the Python extension for VS Code. Set a breakpoint on the print statement of hello_world.py and start the debugger."
   ]
  },
  {
   "attachments": {},
   "cell_type": "markdown",
   "metadata": {},
   "source": [
    "Exercise 2: Debugging with Watch and Local Variables\n",
    "\n",
    "Task: Modify hello_world.py to include a variable name = \"Alice\" and change the print statement to print(f\"Hello, {name}!\"). Add a watch for the variable name in the debugger and step over the code line by line."
   ]
  },
  {
   "attachments": {},
   "cell_type": "markdown",
   "metadata": {},
   "source": []
  },
  {
   "attachments": {},
   "cell_type": "markdown",
   "metadata": {},
   "source": [
    "4. If you have time, feel free to download [this game](https://ohmygit.org/) and play it. It's a fun way to learn git.\n"
   ]
  }
 ],
 "metadata": {
  "language_info": {
   "name": "python"
  },
  "orig_nbformat": 4
 },
 "nbformat": 4,
 "nbformat_minor": 2
}
