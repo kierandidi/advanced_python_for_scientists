{
 "cells": [
  {
   "attachments": {},
   "cell_type": "markdown",
   "metadata": {},
   "source": [
    "# Day 4, Tools"
   ]
  },
  {
   "attachments": {},
   "cell_type": "markdown",
   "metadata": {},
   "source": [
    "## 1. VS Code and Debugging"
   ]
  },
  {
   "attachments": {},
   "cell_type": "markdown",
   "metadata": {},
   "source": [
    "Exercise 1: Install Python Extension and Setup Debugger\n",
    "\n",
    "Task: Install the Python extension for VS Code. Set a breakpoint on the print statement of hello_world.py and start the debugger."
   ]
  },
  {
   "attachments": {},
   "cell_type": "markdown",
   "metadata": {},
   "source": [
    "Exercise 2: Debugging with Watch and Local Variables\n",
    "\n",
    "Task: Modify hello_world.py to include a variable name = \"Alice\" and change the print statement to print(f\"Hello, {name}!\"). Add a watch for the variable name in the debugger and step over the code line by line."
   ]
  },
  {
   "attachments": {},
   "cell_type": "markdown",
   "metadata": {},
   "source": [
    "Exercise 3: You're given a Python function linear_search() that is supposed to search for a given number in a list and return its index. If the number is not present, it should return -1. However, it always returns -1 even when the number is present. Debug the function using a watch expression."
   ]
  },
  {
   "cell_type": "code",
   "execution_count": 1,
   "metadata": {},
   "outputs": [
    {
     "name": "stdout",
     "output_type": "stream",
     "text": [
      "3\n"
     ]
    }
   ],
   "source": [
    "def linear_search(num_list, target):\n",
    "    for i in num_list:\n",
    "        if num_list[i] == target:\n",
    "            return i\n",
    "    return -1\n",
    "\n",
    "print(linear_search([1, 2, 3, 4, 5], 4))  # Expected output: 3"
   ]
  },
  {
   "attachments": {},
   "cell_type": "markdown",
   "metadata": {},
   "source": [
    "Exercise 4: You have a recursive function fibonacci() that is supposed to calculate the nth Fibonacci number. However, for some inputs, it does not return the correct result. Use the debugger to solve this."
   ]
  },
  {
   "cell_type": "code",
   "execution_count": 3,
   "metadata": {},
   "outputs": [
    {
     "name": "stdout",
     "output_type": "stream",
     "text": [
      "8\n"
     ]
    }
   ],
   "source": [
    "def fibonacci(n):\n",
    "    if n == 0:\n",
    "        return 0\n",
    "    elif n == 1:\n",
    "        return 1\n",
    "    else:\n",
    "        return fibonacci(n - 2) + fibonacci(n - 1)\n",
    "\n",
    "print(fibonacci(6))"
   ]
  },
  {
   "attachments": {},
   "cell_type": "markdown",
   "metadata": {},
   "source": [
    "Exercise 5: You have a Python function is_prime() that checks whether a given number is prime. However, the function returns incorrect results for certain inputs. Use conditional breakpoints and debug the function."
   ]
  },
  {
   "cell_type": "code",
   "execution_count": null,
   "metadata": {},
   "outputs": [],
   "source": [
    "def is_prime(n):\n",
    "    if n < 2:\n",
    "        return False\n",
    "    for i in range(2, n-1):\n",
    "        if n % i == 0:\n",
    "            return False\n",
    "    return True\n",
    "\n",
    "print(is_prime(2))"
   ]
  },
  {
   "attachments": {},
   "cell_type": "markdown",
   "metadata": {},
   "source": [
    "## 2. CLI"
   ]
  },
  {
   "attachments": {},
   "cell_type": "markdown",
   "metadata": {},
   "source": [
    "Exercise 1: Write a Python script that reads two command-line arguments and prints their sum."
   ]
  },
  {
   "attachments": {},
   "cell_type": "markdown",
   "metadata": {},
   "source": [
    "Exercise 2: Write a Python script that reads a command-line argument and prints whether it is a file or a directory."
   ]
  },
  {
   "attachments": {},
   "cell_type": "markdown",
   "metadata": {},
   "source": [
    "Exercise 3: Write a Python script that takes two command-line options --height and --width and prints the area of a rectangle."
   ]
  },
  {
   "attachments": {},
   "cell_type": "markdown",
   "metadata": {},
   "source": [
    "Exercise 4: Write a Python script that can perform multiple mathematical operations (add, subtract, multiply, divide). Each operation should be a separate subcommand with its own arguments. Use argparse for this."
   ]
  },
  {
   "attachments": {},
   "cell_type": "markdown",
   "metadata": {},
   "source": [
    "Exercise 5: Solve exercise 4, but use argh instead of argparse."
   ]
  },
  {
   "attachments": {},
   "cell_type": "markdown",
   "metadata": {},
   "source": [
    "Exercise 6: Write a Python script that has two functions: list_users() and add_user(name). The first function should print a list of users, and the second function should add a user to the list. Use argh to handle these functions as command-line commands.\n",
    "\n"
   ]
  },
  {
   "attachments": {},
   "cell_type": "markdown",
   "metadata": {},
   "source": [
    "## Git"
   ]
  },
  {
   "attachments": {},
   "cell_type": "markdown",
   "metadata": {},
   "source": [
    "Bonus exercise: If you have time, feel free to download [this game](https://ohmygit.org/) and play it. It's a fun way to learn git.\n"
   ]
  },
  {
   "attachments": {},
   "cell_type": "markdown",
   "metadata": {},
   "source": [
    "Exercise 1: You have made changes to a file named test.txt. Now, you want to save these changes in the Git repository. Write down the commands you would use."
   ]
  },
  {
   "attachments": {},
   "cell_type": "markdown",
   "metadata": {},
   "source": [
    "Exercise 2: You have made a commit but haven't pushed it yet and realize you made a mistake in it. Amend the commit without changing its message."
   ]
  },
  {
   "attachments": {},
   "cell_type": "markdown",
   "metadata": {},
   "source": [
    "Exercise 3: You want to see what changes have been made in the `featur`e branch relative to the `main `branch. Show the diff."
   ]
  },
  {
   "attachments": {},
   "cell_type": "markdown",
   "metadata": {},
   "source": [
    "Exercise 4: You have committed a change, but now realize that you want to undo it. The commit has not been pushed yet. Write down the command you would use to undo the latest commit."
   ]
  },
  {
   "attachments": {},
   "cell_type": "markdown",
   "metadata": {},
   "source": [
    "Exercise 5: You want to create a new branch called feature and switch to it. Write down the commands you would use."
   ]
  }
 ],
 "metadata": {
  "kernelspec": {
   "display_name": "standard_env",
   "language": "python",
   "name": "python3"
  },
  "language_info": {
   "codemirror_mode": {
    "name": "ipython",
    "version": 3
   },
   "file_extension": ".py",
   "mimetype": "text/x-python",
   "name": "python",
   "nbconvert_exporter": "python",
   "pygments_lexer": "ipython3",
   "version": "3.9.13"
  },
  "orig_nbformat": 4
 },
 "nbformat": 4,
 "nbformat_minor": 2
}
