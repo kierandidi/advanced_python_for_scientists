{
 "cells": [
  {
   "attachments": {},
   "cell_type": "markdown",
   "metadata": {},
   "source": [
    "# Day 3: Useful Libraries and Python Packages"
   ]
  },
  {
   "attachments": {},
   "cell_type": "markdown",
   "metadata": {},
   "source": [
    "## 1. Itertools"
   ]
  },
  {
   "attachments": {},
   "cell_type": "markdown",
   "metadata": {},
   "source": [
    "Exercise 1: Understanding itertools.count\n",
    "\n",
    "Use itertools.count to create an iterator that returns evenly spaced values starting with number 10. Print the first 10 numbers."
   ]
  },
  {
   "cell_type": "code",
   "execution_count": null,
   "metadata": {},
   "outputs": [],
   "source": []
  },
  {
   "attachments": {},
   "cell_type": "markdown",
   "metadata": {},
   "source": [
    "Exercise 2: Understanding itertools.cycle\n",
    "\n",
    "Using itertools.cycle, create an infinite iterator that cycles over the elements of a list. The list should contain the elements \"red\", \"green\", \"blue\". Print the first 10 items in the cycle."
   ]
  },
  {
   "cell_type": "code",
   "execution_count": null,
   "metadata": {},
   "outputs": [],
   "source": []
  },
  {
   "attachments": {},
   "cell_type": "markdown",
   "metadata": {},
   "source": [
    "Exercise 3: Understanding itertools.combinations\n",
    "\n",
    "Use itertools.combinations to generate and print all combinations of 2 elements of the list [1, 2, 3, 4]."
   ]
  },
  {
   "cell_type": "code",
   "execution_count": null,
   "metadata": {},
   "outputs": [],
   "source": []
  },
  {
   "attachments": {},
   "cell_type": "markdown",
   "metadata": {},
   "source": [
    "Exercise 4: Understanding itertools.permutations\n",
    "\n",
    "Use itertools.permutations to generate and print all permutations of the list [1, 2, 3]."
   ]
  },
  {
   "cell_type": "code",
   "execution_count": null,
   "metadata": {},
   "outputs": [],
   "source": []
  },
  {
   "attachments": {},
   "cell_type": "markdown",
   "metadata": {},
   "source": [
    "Exercise 5: Advanced usage of itertools\n",
    "\n",
    "Use itertools to solve this problem: Given a list of numbers numbers = [1, 2, 3, 4, 5, 6], find and print all pairs (a, b) such that a + b equals 7.\n",
    "\n",
    "*Hint*: you can use itertools functions together with list comprehensions to solve this exercise"
   ]
  },
  {
   "cell_type": "code",
   "execution_count": null,
   "metadata": {},
   "outputs": [],
   "source": []
  },
  {
   "attachments": {},
   "cell_type": "markdown",
   "metadata": {},
   "source": [
    "## 2. Functools"
   ]
  },
  {
   "attachments": {},
   "cell_type": "markdown",
   "metadata": {},
   "source": [
    "Exercise 1: Understanding functools.partial\n",
    "\n",
    "Use functools.partial to create a new function add_five from the add function, which adds 5 to its input."
   ]
  },
  {
   "cell_type": "code",
   "execution_count": null,
   "metadata": {},
   "outputs": [],
   "source": []
  },
  {
   "attachments": {},
   "cell_type": "markdown",
   "metadata": {},
   "source": [
    "Exercise 2: Understanding functools.lru_cache\n",
    "\n",
    "Create a recursive function to compute the nth Fibonacci number. Use functools.lru_cache to optimize it. Time the execution of both functions for n = 100, 1000 and 1,000,000."
   ]
  },
  {
   "cell_type": "code",
   "execution_count": null,
   "metadata": {},
   "outputs": [],
   "source": []
  },
  {
   "attachments": {},
   "cell_type": "markdown",
   "metadata": {},
   "source": [
    "Exercise 3: Advanced usage of functools.partial\n",
    "\n",
    "Suppose you have a function f(x, y, z). Use functools.partial to create a new function g that is equivalent to f(x, 2, z)."
   ]
  },
  {
   "cell_type": "code",
   "execution_count": null,
   "metadata": {},
   "outputs": [],
   "source": []
  },
  {
   "attachments": {},
   "cell_type": "markdown",
   "metadata": {},
   "source": [
    "Exercise 4: Advanced usage of functools.lru_cache and functools.reduce\n",
    "\n",
    "Implement a recursive function that computes the factorial of a number. Use functools.lru_cache for optimization, and then use functools.reduce to find the sum of factorials from 1 to 10."
   ]
  },
  {
   "cell_type": "code",
   "execution_count": null,
   "metadata": {},
   "outputs": [],
   "source": []
  },
  {
   "attachments": {},
   "cell_type": "markdown",
   "metadata": {},
   "source": [
    "Exercise 5: Understanding functools.wraps\n",
    "\n",
    "Create a decorator that logs the arguments of a function and its return value. Use functools.wraps to ensure that the metadata of the decorated function is preserved.\n",
    "\n",
    "*Hint*: to learn more about how it works/get stuck see [this post](https://stackoverflow.com/questions/308999/what-does-functools-wraps-do)"
   ]
  },
  {
   "cell_type": "code",
   "execution_count": null,
   "metadata": {},
   "outputs": [],
   "source": []
  },
  {
   "attachments": {},
   "cell_type": "markdown",
   "metadata": {},
   "source": [
    "## 3. Dataclasses"
   ]
  },
  {
   "attachments": {},
   "cell_type": "markdown",
   "metadata": {},
   "source": [
    "Exercise 1: Creating a Data Class\n",
    "\n",
    "Create a basic dataclass for a Book with the fields title (string), author (string), and pages (int)."
   ]
  },
  {
   "cell_type": "code",
   "execution_count": null,
   "metadata": {},
   "outputs": [],
   "source": []
  },
  {
   "attachments": {},
   "cell_type": "markdown",
   "metadata": {},
   "source": [
    "Exercise 2: Default Values\n",
    "\n",
    "Modify the Book dataclass to have a default value of \"Unknown\" for both title and author, and a default value of 0 for pages."
   ]
  },
  {
   "cell_type": "code",
   "execution_count": null,
   "metadata": {},
   "outputs": [],
   "source": []
  },
  {
   "attachments": {},
   "cell_type": "markdown",
   "metadata": {},
   "source": [
    "Exercise 3: Post-Initialization Processing\n",
    "\n",
    "Add a \\_\\_post_init__ method to the Book class that changes the title to title case (the first letter of each word capitalized).\n",
    "\n"
   ]
  },
  {
   "cell_type": "code",
   "execution_count": null,
   "metadata": {},
   "outputs": [],
   "source": []
  },
  {
   "attachments": {},
   "cell_type": "markdown",
   "metadata": {},
   "source": [
    "Exercise 4: Immutable Data Classes\n",
    "\n",
    "Create an immutable dataclass Point for a point in 2D space with coordinates x and y."
   ]
  },
  {
   "cell_type": "code",
   "execution_count": null,
   "metadata": {},
   "outputs": [],
   "source": []
  },
  {
   "attachments": {},
   "cell_type": "markdown",
   "metadata": {},
   "source": [
    "Exercise 5: Data Classes with Methods\n",
    "\n",
    "Add a method to the Point class that calculates the distance to another point."
   ]
  },
  {
   "cell_type": "code",
   "execution_count": null,
   "metadata": {},
   "outputs": [],
   "source": []
  },
  {
   "attachments": {},
   "cell_type": "markdown",
   "metadata": {},
   "source": [
    "## 4. Modules and Packages"
   ]
  },
  {
   "attachments": {},
   "cell_type": "markdown",
   "metadata": {},
   "source": [
    "Exercise 1: Basic Python module creation\n",
    "\n",
    "Create a Python module named greetings.py that contains two functions: say_hello(name) and say_goodbye(name) that print a greeting or farewell to the name passed as a parameter."
   ]
  },
  {
   "attachments": {},
   "cell_type": "markdown",
   "metadata": {},
   "source": [
    "Exercise 2: Package creation\n",
    "\n",
    "Create a Python package named communication. It should contain the greetings.py module from the previous exercise. Also, ensure that the say_hello(name) and say_goodbye(name) functions are directly accessible when the package is imported."
   ]
  },
  {
   "attachments": {},
   "cell_type": "markdown",
   "metadata": {},
   "source": [
    "Exercise 3: Adding more modules to your package\n",
    "\n",
    "Extend the communication package by adding another module named questions.py that contains two functions: ask_name() and ask_age() which ask for a user's name and age, respectively."
   ]
  },
  {
   "attachments": {},
   "cell_type": "markdown",
   "metadata": {},
   "source": [
    "Exercise 4: Creating a distributable package\n",
    "\n",
    "Create a setup.py file for your communication package and build a source distribution of the package."
   ]
  },
  {
   "attachments": {},
   "cell_type": "markdown",
   "metadata": {},
   "source": [
    "Exercise 5: Installing and testing the package\n",
    "\n",
    "Install your communication package in your Python environment. Write a small script that imports and uses all the functions from your package."
   ]
  }
 ],
 "metadata": {
  "language_info": {
   "name": "python"
  },
  "orig_nbformat": 4
 },
 "nbformat": 4,
 "nbformat_minor": 2
}
