{
 "cells": [
  {
   "attachments": {},
   "cell_type": "markdown",
   "metadata": {},
   "source": [
    "# Day 1: Advanced Constructs, Exercises"
   ]
  },
  {
   "attachments": {},
   "cell_type": "markdown",
   "metadata": {},
   "source": [
    "## Ex 1: Recap of loops and their connection to iterables"
   ]
  },
  {
   "attachments": {},
   "cell_type": "markdown",
   "metadata": {},
   "source": [
    "Below I give you a list of names representing countries and the number of nobel prize winners they have had in their history."
   ]
  },
  {
   "cell_type": "code",
   "execution_count": 2,
   "metadata": {},
   "outputs": [],
   "source": [
    "countries = [\"USA\", \"United Kingdom\", \"Germany\", \"France\", \"Sweden\", \"Russia\", \"Japan\"]\n",
    "prizes = [403, 137, 114, 72, 33, 32, 29]"
   ]
  },
  {
   "attachments": {},
   "cell_type": "markdown",
   "metadata": {},
   "source": [
    "Now do the following tasks (for each of them think about what happens behind the curtains with iterables and iterators as we discussed in the course):\n",
    "\n",
    "1. Print out the name of the country and the number of nobel prize winners in that country, for each country."
   ]
  },
  {
   "cell_type": "code",
   "execution_count": 3,
   "metadata": {},
   "outputs": [
    {
     "name": "stdout",
     "output_type": "stream",
     "text": [
      "USA 403\n",
      "United Kingdom 137\n",
      "Germany 114\n",
      "France 72\n",
      "Sweden 33\n",
      "Russia 32\n",
      "Japan 29\n",
      "USA 403\n",
      "United Kingdom 137\n",
      "Germany 114\n",
      "France 72\n",
      "Sweden 33\n",
      "Russia 32\n",
      "Japan 29\n"
     ]
    }
   ],
   "source": []
  },
  {
   "attachments": {},
   "cell_type": "markdown",
   "metadata": {},
   "source": [
    "2. Print out the name of the country together with their relative rank (1, 2, 3, ...) in terms of number of nobel prize winners."
   ]
  },
  {
   "cell_type": "code",
   "execution_count": null,
   "metadata": {},
   "outputs": [],
   "source": []
  },
  {
   "attachments": {},
   "cell_type": "markdown",
   "metadata": {},
   "source": [
    "3. Combine the two from above: Print out the name of the country, the number of nobel prize winners in that country, and the relative rank of that country."
   ]
  },
  {
   "cell_type": "code",
   "execution_count": null,
   "metadata": {},
   "outputs": [],
   "source": []
  },
  {
   "attachments": {},
   "cell_type": "markdown",
   "metadata": {},
   "source": [
    "4. For each of the tasks above, can you simulate the for loop behaviour with the `iter` and `next` functions?"
   ]
  },
  {
   "attachments": {},
   "cell_type": "markdown",
   "metadata": {},
   "source": [
    "## Ex 2: Create your own iterator\n",
    "\n",
    "1. Create your own iterator class that behaves like the built-in `range` iterator. It should be initialized with a start and stop value, and it should be possible to iterate over it with a for loop."
   ]
  },
  {
   "cell_type": "code",
   "execution_count": null,
   "metadata": {},
   "outputs": [],
   "source": []
  },
  {
   "attachments": {},
   "cell_type": "markdown",
   "metadata": {},
   "source": [
    "2. Create your own iterator class that behaves like the built-in `enumerate` iterator. It should be initialized with an iterable, and it should be possible to iterate over it with a for loop."
   ]
  },
  {
   "cell_type": "code",
   "execution_count": null,
   "metadata": {},
   "outputs": [],
   "source": []
  },
  {
   "attachments": {},
   "cell_type": "markdown",
   "metadata": {},
   "source": [
    "## Ex 3: Generators\n",
    "\n",
    "1. Create a generator function that takes a number `n` as input and yields the first `n` even numbers."
   ]
  },
  {
   "cell_type": "code",
   "execution_count": null,
   "metadata": {},
   "outputs": [],
   "source": []
  },
  {
   "attachments": {},
   "cell_type": "markdown",
   "metadata": {},
   "source": [
    "2. Create a generator function that takes a number `n` as input and yields the first `n` prime numbers."
   ]
  },
  {
   "cell_type": "code",
   "execution_count": null,
   "metadata": {},
   "outputs": [],
   "source": []
  },
  {
   "attachments": {},
   "cell_type": "markdown",
   "metadata": {},
   "source": [
    "3. Generate a list of the first 100 prime numbers using the generator function from 2."
   ]
  },
  {
   "cell_type": "code",
   "execution_count": null,
   "metadata": {},
   "outputs": [],
   "source": []
  },
  {
   "attachments": {},
   "cell_type": "markdown",
   "metadata": {},
   "source": [
    "# Ex 3: Closures and decorators"
   ]
  },
  {
   "attachments": {},
   "cell_type": "markdown",
   "metadata": {},
   "source": [
    "1. Create a closure function that takes a number `n` as input and returns a function that takes a number `x` as input and returns `x` to the power of `n`."
   ]
  },
  {
   "cell_type": "code",
   "execution_count": null,
   "metadata": {},
   "outputs": [],
   "source": []
  },
  {
   "attachments": {},
   "cell_type": "markdown",
   "metadata": {},
   "source": [
    "2. Create a decorator function that takes a function as input and returns a function that behaves like the input function, but prints out the time it takes to run the function.\n",
    "\n",
    "Hint: Use the `time` module and the `time` function from that module."
   ]
  },
  {
   "cell_type": "code",
   "execution_count": null,
   "metadata": {},
   "outputs": [],
   "source": []
  },
  {
   "attachments": {},
   "cell_type": "markdown",
   "metadata": {},
   "source": [
    "3. Create a decorator function that takes a function as input and returns a function that behaves like the input function, but prints out the arguments passed to the function before running it."
   ]
  },
  {
   "cell_type": "code",
   "execution_count": 2,
   "metadata": {},
   "outputs": [
    {
     "ename": "IndentationError",
     "evalue": "expected an indented block (1401678233.py, line 2)",
     "output_type": "error",
     "traceback": [
      "\u001b[0;36m  Cell \u001b[0;32mIn [2], line 2\u001b[0;36m\u001b[0m\n\u001b[0;31m    #your code here\u001b[0m\n\u001b[0m                   ^\u001b[0m\n\u001b[0;31mIndentationError\u001b[0m\u001b[0;31m:\u001b[0m expected an indented block\n"
     ]
    }
   ],
   "source": [
    "def validate_dna(func):\n",
    "    #your code here"
   ]
  },
  {
   "cell_type": "code",
   "execution_count": null,
   "metadata": {},
   "outputs": [],
   "source": [
    "@validate_dna\n",
    "def count_gc_content(dna_sequence):\n",
    "    dna_sequence = dna_sequence.upper()\n",
    "    gc_content = (dna_sequence.count('G') + dna_sequence.count('C')) / len(dna_sequence)\n",
    "    return gc_content\n",
    "\n",
    "print(count_gc_content(\"AGCTGTGC\"))  # 0.5\n",
    "print(count_gc_content(\"AGCU\"))  # Raises ValueError: Invalid DNA sequence"
   ]
  },
  {
   "attachments": {},
   "cell_type": "markdown",
   "metadata": {},
   "source": [
    "# Ex 4: Descriptors and properties"
   ]
  },
  {
   "attachments": {},
   "cell_type": "markdown",
   "metadata": {},
   "source": [
    "1. Create a class `Person` with a `name` attribute. The `name` attribute should be a property, and it should be possible to set the `name` attribute of an instance of `Person` to a string, but not to an integer."
   ]
  },
  {
   "cell_type": "code",
   "execution_count": null,
   "metadata": {},
   "outputs": [],
   "source": []
  },
  {
   "attachments": {},
   "cell_type": "markdown",
   "metadata": {},
   "source": [
    "2. Create a Python class called Rectangle. This class should have two private attributes, _width and _height, to store the width and height of the rectangle. Then, use Python properties to create getters and setters for these two attributes, ensuring that neither can be set to a negative number."
   ]
  },
  {
   "cell_type": "code",
   "execution_count": null,
   "metadata": {},
   "outputs": [],
   "source": [
    "class Rectangle:\n",
    "    def __init__(self, width, height):\n",
    "        self._width = width\n",
    "        self._height = height\n",
    "\n",
    "    # add your properties here"
   ]
  },
  {
   "attachments": {},
   "cell_type": "markdown",
   "metadata": {},
   "source": [
    "3. Create a Python class named Account which represents a bank account with the following private attributes:\n",
    "\n",
    "_balance: This attribute holds the current balance of the account. It is initialized as 0.\n",
    "_transaction_history: This attribute stores all the transactions performed on the account. It is initialized as an empty list.\n",
    "The Account class should also have the following properties:\n",
    "\n",
    "balance: This is a read-only property which should return the current balance of the account. Users shouldn't be able to change the balance directly.\n",
    "\n",
    "transaction_history: This is also a read-only property which should return a copy of the transaction history list to avoid modification of the original list.\n",
    "\n",
    "Add the following methods to the class:\n",
    "\n",
    "deposit(amount): This method should allow the user to deposit a certain amount to the account. The amount must be a positive number, else raise a ValueError. Add an entry to the transaction history in the form: {'type': 'deposit', 'amount': amount, 'balance': balance_after_deposit}\n",
    "\n",
    "withdraw(amount): This method should allow the user to withdraw a certain amount from the account. If the amount is more than the balance, raise a ValueError. Also, the amount must be a positive number, else raise another ValueError. Add an entry to the transaction history in the form: {'type': 'withdrawal', 'amount': amount, 'balance': balance_after_withdrawal}\n",
    "\n",
    "Here is the skeleton of your class:"
   ]
  },
  {
   "cell_type": "code",
   "execution_count": null,
   "metadata": {},
   "outputs": [],
   "source": [
    "class Account:\n",
    "    def __init__(self):\n",
    "        self._balance = 0\n",
    "        self._transaction_history = []\n",
    "\n",
    "    # define your properties and methods here"
   ]
  }
 ],
 "metadata": {
  "kernelspec": {
   "display_name": "standard_env",
   "language": "python",
   "name": "python3"
  },
  "language_info": {
   "codemirror_mode": {
    "name": "ipython",
    "version": 3
   },
   "file_extension": ".py",
   "mimetype": "text/x-python",
   "name": "python",
   "nbconvert_exporter": "python",
   "pygments_lexer": "ipython3",
   "version": "3.9.13"
  },
  "orig_nbformat": 4
 },
 "nbformat": 4,
 "nbformat_minor": 2
}
