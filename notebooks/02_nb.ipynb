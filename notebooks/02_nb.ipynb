{
 "cells": [
  {
   "attachments": {},
   "cell_type": "markdown",
   "metadata": {},
   "source": [
    "# Day 2: Programming Styles"
   ]
  },
  {
   "attachments": {},
   "cell_type": "markdown",
   "metadata": {},
   "source": [
    "## Functional Programming"
   ]
  },
  {
   "attachments": {},
   "cell_type": "markdown",
   "metadata": {},
   "source": [
    "Functional programming rests on a few basic principles:\n",
    "\n",
    "1. **First-Class and Higher-Order Functions**: Python treats functions as first-class objects, which can be assigned to variables, stored in data structures, passed as arguments to other functions, or returned as values from other functions. A higher-order function is a function that takes one or more functions as arguments, returns a function as its result, or both.\n",
    "2. **Pure Functions**: A pure function is a function where the return value is only determined by its input values, without observable side effects. This is a core concept in functional programming.\n",
    "3. **Recursion**: Functional programming relies heavily on recursion, the process of a function calling itself as a subroutine.\n",
    "4. **Lambda Functions**: These are small anonymous functions that are thrown away after use, which helps keep your code concise. They are often used as arguments to higher-order functions, or in the context of pure functions.\n",
    "5. **Immutability**: In functional programming, once a data structure is created, it cannot be changed."
   ]
  },
  {
   "cell_type": "code",
   "execution_count": null,
   "metadata": {},
   "outputs": [],
   "source": [
    "# Higher-order functions\n",
    "def multiply_by_two(n):\n",
    "    return n * 2\n",
    "\n",
    "numbers = [1, 2, 3, 4, 5]\n",
    "numbers_multiplied = map(multiply_by_two, numbers)\n",
    "print(list(numbers_multiplied))  # Outputs: [2, 4, 6, 8, 10]"
   ]
  },
  {
   "cell_type": "code",
   "execution_count": null,
   "metadata": {},
   "outputs": [],
   "source": [
    "numbers = [1, 2, 3, 4, 5]\n",
    "numbers_multiplied = map(lambda n: n * 2, numbers)\n",
    "print(list(numbers_multiplied))  # Outputs: [1, 4, 9, 16, 25]"
   ]
  },
  {
   "attachments": {},
   "cell_type": "markdown",
   "metadata": {},
   "source": [
    "The often cited benefits of functional programming are that it is easier to reason about, and easier to test. It also tends to be more concise, and more easily parallelizable.\n",
    "\n",
    "What are some of the downsides? Functional programming can be more difficult to learn, and it can be more difficult to find developers with the necessary skillset. It can also be more difficult to debug, depending on the complexity of the code.\n",
    "\n",
    "There are a few functions in Python you will often hear about in the context of functional programming. Let's take a look at them.\n",
    "\n",
    "### map()\n",
    "\n",
    "The `map()` function applies a given function to each item of an iterable (list, tuple etc.) and returns a list of the results.\n",
    "\n",
    "### filter()\n",
    "\n",
    "The `filter()` function constructs an iterator from elements of an iterable (list, tuple etc.) for which a function returns true.\n",
    "\n",
    "### reduce()\n",
    "\n",
    "The `reduce()` function is used to apply a particular function passed in its argument to all of the list elements mentioned in the sequence passed along. This function is defined in `functools` module.\n",
    "\n",
    "However, today most of the time we use list comprehension instead of `map()`, `filter()` and `reduce()`. Why? Because it is more readable and concise. Let's compare how they fare against each other.\n"
   ]
  },
  {
   "cell_type": "code",
   "execution_count": 1,
   "metadata": {},
   "outputs": [
    {
     "name": "stdout",
     "output_type": "stream",
     "text": [
      "[4, 4, 4, 4, 4]\n",
      "['ATGC', 'ATTC', 'ATGG']\n",
      "20\n",
      "['ATGC', 'AAGC', 'TTGC']\n",
      "['ATGC', 'AAGC', 'TTGC', 'ATTC', 'ATGG']\n",
      "12\n",
      "12\n"
     ]
    }
   ],
   "source": [
    "sequences = [\"ATGC\", \"AAGC\", \"TTGC\", \"ATTC\", \"ATGG\"]\n",
    "\n",
    "#get sequence lengths\n",
    "sequence_lengths = map(len, sequences)\n",
    "print(list(sequence_lengths))  # Outputs: [4, 4, 4, 4, 4]\n",
    "\n",
    "#filter sequences with AT start\n",
    "at_sequences = filter(lambda seq: seq.startswith(\"AT\"), sequences)\n",
    "print(list(at_sequences))  # Outputs: ['ATGC', 'ATTC', 'ATGG']\n",
    "\n",
    "#calculate total length of all sequences\n",
    "from functools import reduce\n",
    "total_length = reduce(lambda x, y: x + y, map(len, sequences))\n",
    "print(total_length)  # Outputs: 20\n",
    "\n",
    "#get sequences with GC \n",
    "gc_sequences = filter(lambda seq: \"GC\" in seq, sequences)\n",
    "print(list(gc_sequences))  # Outputs: ['ATGC', 'AAGC', 'TTGC']\n",
    "\n",
    "#filter sequences with length > 3\n",
    "long_sequences = [seq for seq in sequences if len(seq) > 3]\n",
    "print(long_sequences)  # Outputs: ['ATGC', 'AAGC', 'TTGC', 'ATTC', 'ATGG']\n",
    "\n",
    "#put everything together the old way\n",
    "total_gc_length = reduce(lambda x, y: x + y, map(len, filter(lambda seq: \"GC\" in seq, sequences)))\n",
    "print(total_gc_length)  # Outputs: 12\n",
    "\n",
    "#put everything together with a generator comprehension\n",
    "total_gc_length = sum(len(seq) for seq in sequences if \"GC\" in seq)\n",
    "print(total_gc_length)  # Outputs: "
   ]
  },
  {
   "attachments": {},
   "cell_type": "markdown",
   "metadata": {},
   "source": [
    "## Object-Oriented Programming (OOP)"
   ]
  },
  {
   "attachments": {},
   "cell_type": "markdown",
   "metadata": {},
   "source": [
    "Object-oriented programming (OOP) is a programming paradigm based on the concept of \"objects\", which can contain data, in the form of fields (often known as attributes or properties), and code, in the form of procedures (often known as methods).\n",
    "\n",
    "A feature of objects is an object's procedures that can access and often modify the data fields of the object with which they are associated (objects have a notion of \"this\" or \"self\"). In OOP, computer programs are designed by making them out of objects that interact with one another. OOP languages are diverse, but the most popular ones are class-based, meaning that objects are instances of classes, which also determine their types.\n",
    "\n",
    "In Python, the concept of OOP follows some basic principles:\n",
    "\n",
    "* **Inheritance**: A process of using details from a new class without modifying existing class.\n",
    "* **Composition**: Classes can be composed of parts of other classes, enabling re-use of code.\n",
    "* **Encapsulation**: Hiding the private details of a class from other objects.\n",
    "* **Polymorphism**: A concept of using common operation in different ways for different data input.\n",
    "\n",
    "### Class\n",
    "\n",
    "A class is a blueprint for the object.\n",
    "\n",
    "We can think of class as an sketch of a parrot with labels. It contains all the details about the name, colors, size etc. Based on these descriptions, we can study about the parrot. Here, parrot is an object.\n",
    "\n",
    "The example for class of parrot can be :\n",
    "\n"
   ]
  },
  {
   "cell_type": "code",
   "execution_count": null,
   "metadata": {},
   "outputs": [],
   "source": [
    "class Parrot:\n",
    "    def __init__(self, name, age):\n",
    "        self.name = name\n",
    "        self.age = age\n",
    "\n",
    "    def sing(self, song):\n",
    "        return f\"{self.name} sings {song}\"\n",
    "\n",
    "    def dance(self):\n",
    "        return f\"{self.name} is now dancing\""
   ]
  },
  {
   "attachments": {},
   "cell_type": "markdown",
   "metadata": {},
   "source": [
    "### Object\n",
    "\n",
    "Objects on the other hand are an encapsulation of variables and functions into a single entity. Objects get their variables and functions from classes. Classes are essentially a template to create your objects."
   ]
  },
  {
   "attachments": {},
   "cell_type": "markdown",
   "metadata": {},
   "source": [
    "There are a few rules in Python that are useful to keep in mind:\n",
    "\n",
    "### Variable lookup via LEGB: Local, Enclosing, Global, Built-in\n",
    "\n",
    "The LEGB rule is used to decide the order in which the namespaces are to be searched for scope resolution. The scopes are listed below in terms of hierarchy(highest to lowest/narrowest to broadest):\n",
    "\n",
    "* Local(L): Defined inside function/class\n",
    "* Enclosed(E): Defined inside enclosing functions(Nested function concept)\n",
    "* Global(G): Defined at the uppermost level\n",
    "* Built-in(B): Reserved names in Python builtin modules\n",
    "\n",
    "### Attribute lookup via ICPO: Instance, Class, Parent, Object\n",
    "\n",
    "The ICPO rule is used to decide the order in which the namespaces are to be searched for scope resolution. The scopes are listed below in terms of hierarchy(highest to lowest/narrowest to broadest):\n",
    "\n",
    "* Instance(I): Defined inside method and self\n",
    "* Class(C): Defined inside class and class name\n",
    "* Parent(P): Defined inside parent class\n",
    "* Object(O): Defined inside __dict__\n"
   ]
  },
  {
   "attachments": {},
   "cell_type": "markdown",
   "metadata": {},
   "source": [
    "### Inheritance"
   ]
  },
  {
   "attachments": {},
   "cell_type": "markdown",
   "metadata": {},
   "source": [
    "Inheritance is a way of creating a new class for using details of an existing class without modifying it. The newly formed class is a derived class (or child class). Similarly, the existing class is a base class (or parent class)."
   ]
  },
  {
   "cell_type": "code",
   "execution_count": 2,
   "metadata": {},
   "outputs": [],
   "source": [
    "class Sequence:\n",
    "    def __init__(self, seq):\n",
    "        self.seq = seq\n",
    "\n",
    "    def length(self):\n",
    "        return len(self.seq)\n",
    "    \n",
    "class DNASequence(Sequence):\n",
    "    def gc_content(self):\n",
    "        return (self.seq.count('G') + self.seq.count('C')) / self.length()\n",
    "\n",
    "class ProteinSequence(Sequence):\n",
    "    def count_amino_acid(self, amino_acid):\n",
    "        return self.seq.count(amino_acid)"
   ]
  },
  {
   "attachments": {},
   "cell_type": "markdown",
   "metadata": {},
   "source": [
    "### Composition"
   ]
  },
  {
   "attachments": {},
   "cell_type": "markdown",
   "metadata": {},
   "source": [
    "In contrast to inheritance, composition is a way of combining objects of different types into a new type of object. Composition is an alternative to inheritance. Inheritance is used to reuse the code and composition is used to combine existing objects in different ways.\n",
    "\n",
    "When would you use inheritance vs. composition? Inheritance is useful when you want to create a new class and there is already a class that includes some of the code that you want, so you can derive your new class from the existing class. On the other hand, composition is useful when you have some existing code that you want to reuse but there is not a suitable existing class to derive from. In general, composition tends to be more flexible than inheritance and leads to less tightly coupled code, in the spirit of the principle of *sepation of concerns*: the ability to change one component without affecting others."
   ]
  },
  {
   "cell_type": "code",
   "execution_count": 7,
   "metadata": {},
   "outputs": [
    {
     "name": "stdout",
     "output_type": "stream",
     "text": [
      "0.5\n"
     ]
    }
   ],
   "source": [
    "class SequenceAnalyzer:\n",
    "    def __init__(self, sequence):\n",
    "        self.sequence = sequence\n",
    "\n",
    "    def get_gc_content(self):\n",
    "        \"\"\"calculates the GC content of a DNA sequence\"\"\"\n",
    "        #check if sequence is of class DNASequence\n",
    "        if not isinstance(self.sequence, DNASequence):\n",
    "            raise TypeError(\"Sequence must be of type DNASequence\")\n",
    "        return self.sequence.gc_content()\n",
    "\n",
    "    def get_amino_acid_count(self, amino_acid):\n",
    "        \"\"\"calculates the number of amino acids in a protein sequence\"\"\"\n",
    "        #check if sequence is of class ProteinSequence\n",
    "        if not isinstance(self.sequence, ProteinSequence):\n",
    "            raise TypeError(\"Sequence must be of type ProteinSequence\")\n",
    "        return self.sequence.count(amino_acid)\n",
    "    \n",
    "analyser = SequenceAnalyzer(DNASequence(\"ATGC\"))\n",
    "print(analyser.get_gc_content())  # Outputs: 0.5"
   ]
  },
  {
   "attachments": {},
   "cell_type": "markdown",
   "metadata": {},
   "source": [
    "### Polymorphism and Abstract Base Classes (ABCs)"
   ]
  },
  {
   "attachments": {},
   "cell_type": "markdown",
   "metadata": {},
   "source": [
    "Polymorphism is a concept that allows us to use a unified interface for different classes. Let's suppose we want to ensure that all sequence types can calculate a representation of their content. We can use an abstract base class to enforce that all subclasses implement this functionality.\n",
    "\n",
    "Abstract Base Classes (ABCs) ensure that derived classes implement particular methods from the base class. They can also provide default implementations of these methods.\n",
    "Why would you want to use ABCs? They allow you to create a common API for a set of subclasses. This is especially useful for libraries, where you can define a base class that specifies the methods that a subclass must implement, without actually implementing any of the methods. This way, you can ensure that the subclasses implement the methods you need, without having to implement them yourself."
   ]
  },
  {
   "cell_type": "code",
   "execution_count": 11,
   "metadata": {},
   "outputs": [
    {
     "ename": "TypeError",
     "evalue": "Can't instantiate abstract class RNASequence with abstract method content",
     "output_type": "error",
     "traceback": [
      "\u001b[0;31m---------------------------------------------------------------------------\u001b[0m",
      "\u001b[0;31mTypeError\u001b[0m                                 Traceback (most recent call last)",
      "\u001b[1;32m/Users/kierandidi/advanced_python_for_scientists/notebooks/02_nb.ipynb Cell 21\u001b[0m in \u001b[0;36m2\n\u001b[1;32m     <a href='vscode-notebook-cell:/Users/kierandidi/advanced_python_for_scientists/notebooks/02_nb.ipynb#X61sZmlsZQ%3D%3D?line=23'>24</a>\u001b[0m     \u001b[39mdef\u001b[39;00m \u001b[39mgc_content\u001b[39m(\u001b[39mself\u001b[39m):\n\u001b[1;32m     <a href='vscode-notebook-cell:/Users/kierandidi/advanced_python_for_scientists/notebooks/02_nb.ipynb#X61sZmlsZQ%3D%3D?line=24'>25</a>\u001b[0m         \u001b[39mreturn\u001b[39;00m (\u001b[39mself\u001b[39m\u001b[39m.\u001b[39mseq\u001b[39m.\u001b[39mcount(\u001b[39m'\u001b[39m\u001b[39mG\u001b[39m\u001b[39m'\u001b[39m) \u001b[39m+\u001b[39m \u001b[39mself\u001b[39m\u001b[39m.\u001b[39mseq\u001b[39m.\u001b[39mcount(\u001b[39m'\u001b[39m\u001b[39mC\u001b[39m\u001b[39m'\u001b[39m)) \u001b[39m/\u001b[39m \u001b[39mself\u001b[39m\u001b[39m.\u001b[39mlength()\n\u001b[0;32m---> <a href='vscode-notebook-cell:/Users/kierandidi/advanced_python_for_scientists/notebooks/02_nb.ipynb#X61sZmlsZQ%3D%3D?line=26'>27</a>\u001b[0m rna \u001b[39m=\u001b[39m RNASequence(\u001b[39m\"\u001b[39;49m\u001b[39mAUGCUAGC\u001b[39;49m\u001b[39m\"\u001b[39;49m)\n",
      "\u001b[0;31mTypeError\u001b[0m: Can't instantiate abstract class RNASequence with abstract method content"
     ]
    }
   ],
   "source": [
    "from abc import ABC, abstractmethod\n",
    "\n",
    "class Sequence(ABC):\n",
    "    def __init__(self, seq):\n",
    "        self.seq = seq\n",
    "\n",
    "    def length(self):\n",
    "        return len(self.seq)\n",
    "\n",
    "    @abstractmethod\n",
    "    def content(self):\n",
    "        pass\n",
    "\n",
    "class DNASequence(Sequence):\n",
    "    def content(self):\n",
    "        return (self.seq.count('G') + self.seq.count('C')) / self.length()\n",
    "\n",
    "class ProteinSequence(Sequence):\n",
    "    def content(self):\n",
    "        # For protein, let's return a dictionary of amino acid counts\n",
    "        return {aa: self.seq.count(aa) for aa in set(self.seq)}\n",
    "    \n",
    "class RNASequence(Sequence):\n",
    "    def gc_content(self):\n",
    "        return (self.seq.count('G') + self.seq.count('C')) / self.length()\n",
    "\n",
    "rna = RNASequence(\"AUGCUAGC\")"
   ]
  },
  {
   "attachments": {},
   "cell_type": "markdown",
   "metadata": {},
   "source": [
    "### Making your classes readable with docstrings, \\_\\_repr__ and \\_\\_str__"
   ]
  },
  {
   "attachments": {},
   "cell_type": "markdown",
   "metadata": {},
   "source": [
    "Documentation is an important part of any codebase. It helps you and others understand what your code does, and how to use it. In Python, there are a few ways to document your code. The first is docstrings, which are a type of comment that can be used to document modules, functions, classes and methods. They are surrounded by triple quotes, and are the preferred way to document your code."
   ]
  },
  {
   "cell_type": "code",
   "execution_count": null,
   "metadata": {},
   "outputs": [],
   "source": []
  },
  {
   "attachments": {},
   "cell_type": "markdown",
   "metadata": {},
   "source": [
    "In addition, there are two special methods you can implement to control how your classes are displayed. The first is `__repr__`, which is used to display the \"official\" string representation of an object. The second is `__str__`, which is used to display a more informal string representation of an object.\n",
    "\n",
    "When would you use `__repr__` vs `__str__`? `__repr__` is used for debugging, and should return the most unambiguous representation of an object possible. `__str__` is used for display, and should return a human-readable representation of an object. If you only implement one of these methods, choose `__repr__`. If `__str__` is not implemented, Python will fall back on `__repr__`, so you will get the best of both worlds."
   ]
  },
  {
   "cell_type": "code",
   "execution_count": null,
   "metadata": {},
   "outputs": [],
   "source": []
  },
  {
   "attachments": {},
   "cell_type": "markdown",
   "metadata": {},
   "source": [
    "### Exceptions, where to find them and how to write them"
   ]
  },
  {
   "attachments": {},
   "cell_type": "markdown",
   "metadata": {},
   "source": [
    "Exceptions are a type of error that occurs during the execution of a program. They are \"thrown\" from a function, and can be \"caught\" in a `try` block. If an exception is not caught, the program will crash.\n",
    "\n",
    "Exceptions are a useful way to handle errors in your code. They allow you to gracefully handle errors, and provide useful error messages to your users.\n",
    "\n",
    "Where can you find exceptions? The Python Standard Library has a list of built-in exceptions, which you can find [here](https://docs.python.org/3/library/exceptions.html). You can also create your own custom exceptions, which is useful if you want to create a custom error message for your users.\n",
    "\n",
    "What do you need to do in order to create a custom exception? You need to create a class that inherits from the `Exception` class. You can also implement the `__str__` method, which will allow you to customize the error message that is displayed to your users. Ideally you actually inherit not from the generic `Exception` class, but from a more specific subclass of `Exception` that is appropriate for your use case (e.g. `ValueError` or `TypeError`)."
   ]
  },
  {
   "cell_type": "code",
   "execution_count": 13,
   "metadata": {},
   "outputs": [
    {
     "ename": "InvalidDNASymbolError",
     "evalue": "Invalid symbol in DNA sequence",
     "output_type": "error",
     "traceback": [
      "\u001b[0;31m---------------------------------------------------------------------------\u001b[0m",
      "\u001b[0;31mInvalidDNASymbolError\u001b[0m                     Traceback (most recent call last)",
      "\u001b[1;32m/Users/kierandidi/advanced_python_for_scientists/notebooks/02_nb.ipynb Cell 29\u001b[0m in \u001b[0;36m1\n\u001b[1;32m     <a href='vscode-notebook-cell:/Users/kierandidi/advanced_python_for_scientists/notebooks/02_nb.ipynb#X41sZmlsZQ%3D%3D?line=10'>11</a>\u001b[0m         \u001b[39mreturn\u001b[39;00m (\u001b[39mself\u001b[39m\u001b[39m.\u001b[39mseq\u001b[39m.\u001b[39mcount(\u001b[39m'\u001b[39m\u001b[39mG\u001b[39m\u001b[39m'\u001b[39m) \u001b[39m+\u001b[39m \u001b[39mself\u001b[39m\u001b[39m.\u001b[39mseq\u001b[39m.\u001b[39mcount(\u001b[39m'\u001b[39m\u001b[39mC\u001b[39m\u001b[39m'\u001b[39m)) \u001b[39m/\u001b[39m \u001b[39mself\u001b[39m\u001b[39m.\u001b[39mlength()\n\u001b[1;32m     <a href='vscode-notebook-cell:/Users/kierandidi/advanced_python_for_scientists/notebooks/02_nb.ipynb#X41sZmlsZQ%3D%3D?line=12'>13</a>\u001b[0m \u001b[39m# This will raise an InvalidDNASymbolError\u001b[39;00m\n\u001b[0;32m---> <a href='vscode-notebook-cell:/Users/kierandidi/advanced_python_for_scientists/notebooks/02_nb.ipynb#X41sZmlsZQ%3D%3D?line=13'>14</a>\u001b[0m dna_seq \u001b[39m=\u001b[39m DNASequence(\u001b[39m\"\u001b[39;49m\u001b[39mATGCB\u001b[39;49m\u001b[39m\"\u001b[39;49m)\n",
      "\u001b[1;32m/Users/kierandidi/advanced_python_for_scientists/notebooks/02_nb.ipynb Cell 29\u001b[0m in \u001b[0;36m7\n\u001b[1;32m      <a href='vscode-notebook-cell:/Users/kierandidi/advanced_python_for_scientists/notebooks/02_nb.ipynb#X41sZmlsZQ%3D%3D?line=4'>5</a>\u001b[0m \u001b[39mdef\u001b[39;00m \u001b[39m__init__\u001b[39m(\u001b[39mself\u001b[39m, seq):\n\u001b[1;32m      <a href='vscode-notebook-cell:/Users/kierandidi/advanced_python_for_scientists/notebooks/02_nb.ipynb#X41sZmlsZQ%3D%3D?line=5'>6</a>\u001b[0m     \u001b[39mif\u001b[39;00m \u001b[39mset\u001b[39m(seq) \u001b[39m-\u001b[39m {\u001b[39m'\u001b[39m\u001b[39mA\u001b[39m\u001b[39m'\u001b[39m, \u001b[39m'\u001b[39m\u001b[39mT\u001b[39m\u001b[39m'\u001b[39m, \u001b[39m'\u001b[39m\u001b[39mG\u001b[39m\u001b[39m'\u001b[39m, \u001b[39m'\u001b[39m\u001b[39mC\u001b[39m\u001b[39m'\u001b[39m}:\n\u001b[0;32m----> <a href='vscode-notebook-cell:/Users/kierandidi/advanced_python_for_scientists/notebooks/02_nb.ipynb#X41sZmlsZQ%3D%3D?line=6'>7</a>\u001b[0m         \u001b[39mraise\u001b[39;00m InvalidDNASymbolError(\u001b[39m\"\u001b[39m\u001b[39mInvalid symbol in DNA sequence\u001b[39m\u001b[39m\"\u001b[39m)\n\u001b[1;32m      <a href='vscode-notebook-cell:/Users/kierandidi/advanced_python_for_scientists/notebooks/02_nb.ipynb#X41sZmlsZQ%3D%3D?line=7'>8</a>\u001b[0m     \u001b[39msuper\u001b[39m()\u001b[39m.\u001b[39m\u001b[39m__init__\u001b[39m(seq)\n",
      "\u001b[0;31mInvalidDNASymbolError\u001b[0m: Invalid symbol in DNA sequence"
     ]
    }
   ],
   "source": [
    "class InvalidDNASymbolError(ValueError):\n",
    "    pass\n",
    "\n",
    "class DNASequence(Sequence):\n",
    "    def __init__(self, seq):\n",
    "        if set(seq) - {'A', 'T', 'G', 'C'}:\n",
    "            raise InvalidDNASymbolError(\"Invalid symbol in DNA sequence\")\n",
    "        super().__init__(seq)\n",
    "\n",
    "    def content(self):\n",
    "        return (self.seq.count('G') + self.seq.count('C')) / self.length()\n",
    "\n",
    "# This will raise an InvalidDNASymbolError\n",
    "dna_seq = DNASequence(\"ATGCB\")"
   ]
  },
  {
   "attachments": {},
   "cell_type": "markdown",
   "metadata": {},
   "source": [
    "### Instance, Class, and Static Methods"
   ]
  },
  {
   "attachments": {},
   "cell_type": "markdown",
   "metadata": {},
   "source": [
    "Before we talk about the topic of instance, class, and static methods, let's first talk about the difference between variables of a class and an instance. A class is a blueprint for an object. An instance is a specific object created from a particular class.\n",
    "\n",
    "Instance variables are variables that are unique to each instance. They are defined inside the `__init__` method of a class. Class variables are variables that are shared by all instances of a class. They are defined outside the `__init__` method of a class."
   ]
  },
  {
   "cell_type": "code",
   "execution_count": 41,
   "metadata": {},
   "outputs": [
    {
     "name": "stdout",
     "output_type": "stream",
     "text": [
      "I am a class variable\n",
      "I am a class variable\n",
      "Changed class variable\n",
      "Changed class variable\n",
      "Changed instance variable\n",
      "y\n"
     ]
    }
   ],
   "source": [
    "class MyClass:\n",
    "    class_variable = \"I am a class variable\"\n",
    "\n",
    "    def __init__(self, value):\n",
    "        self.instance_variable = value\n",
    "\n",
    "x = MyClass('x')\n",
    "y = MyClass('y')\n",
    "\n",
    "print(x.class_variable)  # Outputs: \"I am a class variable\"\n",
    "print(y.class_variable)  # Outputs: \"I am a class variable\"\n",
    "\n",
    "MyClass.class_variable = \"Changed class variable\"\n",
    "\n",
    "print(x.class_variable)  # Outputs: \"Changed class variable\"\n",
    "print(y.class_variable)  # Outputs: \"Changed class variable\"\n",
    "\n",
    "x.instance_variable = \"Changed instance variable\"\n",
    "\n",
    "print(x.instance_variable)  # Outputs: \"Changed instance variable\"\n",
    "print(y.instance_variable)  # Outputs: \"y\""
   ]
  },
  {
   "attachments": {},
   "cell_type": "markdown",
   "metadata": {},
   "source": [
    "Now there is something similar not for attributes (variables attached to a class) but for methods (functions attached to a class). There are three types of methods in Python: instance methods, class methods, and static methods.\n",
    "\n",
    "- Instance methods are methods that are defined inside a class and are called on an instance of that class. They have access to the instance variables of that class. \n",
    "- Class methods are methods that are defined inside a class and are called on the class itself. They have access to the class variables of that class. \n",
    "- Static methods are methods that are defined inside a class and are called on the class itself. They do not have access to the instance variables or class variables of that class.\n",
    "\n",
    "This distinction is important because it allows us to restrict access to certain methods. For example, we might want to restrict access to a method that modifies an instance variable. We can do this by making the method a class method instead of an instance method."
   ]
  },
  {
   "attachments": {},
   "cell_type": "markdown",
   "metadata": {},
   "source": [
    "Instance methods are the most common type of methods in Python classes. They always take self as the first parameter, which is a reference to the instance of the class.\n",
    "\n",
    "Let's create an instance method to calculate the GC content of a DNA sequence."
   ]
  },
  {
   "cell_type": "code",
   "execution_count": 14,
   "metadata": {},
   "outputs": [],
   "source": [
    "class DNASequence:\n",
    "    def __init__(self, seq):\n",
    "        self.seq = seq\n",
    "\n",
    "    def gc_content(self):\n",
    "        return (self.seq.count('G') + self.seq.count('C')) / len(self.seq)"
   ]
  },
  {
   "cell_type": "code",
   "execution_count": 15,
   "metadata": {},
   "outputs": [
    {
     "name": "stdout",
     "output_type": "stream",
     "text": [
      "0.6666666666666666\n"
     ]
    }
   ],
   "source": [
    "dna = DNASequence(\"ATGCGC\")\n",
    "print(dna.gc_content())"
   ]
  },
  {
   "attachments": {},
   "cell_type": "markdown",
   "metadata": {},
   "source": [
    "Class methods are methods that operate on the class itself, rather than on instances of the class. They are defined using the @classmethod decorator and their first parameter is cls, which refers to the class.\n",
    "\n",
    "Let's create a class method that creates a DNASequence object from a string in FASTA format.\n",
    "\n"
   ]
  },
  {
   "cell_type": "code",
   "execution_count": 16,
   "metadata": {},
   "outputs": [],
   "source": [
    "class DNASequence:\n",
    "    def __init__(self, seq):\n",
    "        self.seq = seq\n",
    "\n",
    "    @classmethod\n",
    "    def from_fasta(cls, fasta_str):\n",
    "        return cls(''.join(fasta_str.split('\\n')[1:]))"
   ]
  },
  {
   "cell_type": "code",
   "execution_count": 19,
   "metadata": {},
   "outputs": [
    {
     "data": {
      "text/plain": [
       "'ATGCGCTA'"
      ]
     },
     "execution_count": 19,
     "metadata": {},
     "output_type": "execute_result"
    }
   ],
   "source": [
    "fasta_str = \">seq1\\nATGC\\nGCTA\"\n",
    "dna = DNASequence.from_fasta(fasta_str)\n",
    "dna.seq"
   ]
  },
  {
   "attachments": {},
   "cell_type": "markdown",
   "metadata": {},
   "source": [
    "Static methods are methods that don't operate on instances or the class itself. They're related to the class in some way, but they don't change the state of instances or the class. They are defined using the @staticmethod decorator.\n",
    "\n",
    "Let's create a static method that checks whether a string is a valid DNA sequence:"
   ]
  },
  {
   "cell_type": "code",
   "execution_count": 27,
   "metadata": {},
   "outputs": [],
   "source": [
    "class DNASequence:\n",
    "    def __init__(self, seq):\n",
    "        self.seq = seq\n",
    "\n",
    "    @staticmethod\n",
    "    def is_valid_dna(seq):\n",
    "        if set(seq.upper()) - {'A', 'T', 'G', 'C'}:\n",
    "            return False\n",
    "        return True"
   ]
  },
  {
   "cell_type": "code",
   "execution_count": 29,
   "metadata": {},
   "outputs": [
    {
     "name": "stdout",
     "output_type": "stream",
     "text": [
      "False\n"
     ]
    }
   ],
   "source": [
    "print(DNASequence.is_valid_dna(\"WGC\")) "
   ]
  },
  {
   "attachments": {},
   "cell_type": "markdown",
   "metadata": {},
   "source": [
    "## Context Managers"
   ]
  },
  {
   "cell_type": "code",
   "execution_count": null,
   "metadata": {},
   "outputs": [],
   "source": [
    "data = open(\"../data/assay_data.csv\", 'r')\n",
    "print(data)\n",
    "print(data.readline())\n",
    "print(data.readline())\n",
    "\n",
    "#read data into a list\n",
    "data_list = []\n",
    "for line in data:\n",
    "    data_list.append(line.strip().split(','))\n",
    "print(data_list[0:5])\n",
    "\n",
    "data.close()"
   ]
  },
  {
   "cell_type": "code",
   "execution_count": null,
   "metadata": {},
   "outputs": [],
   "source": [
    "with open(\"../data/assay_data.csv\", 'r') as data:\n",
    "    data_list = []\n",
    "    for line in data:\n",
    "        data_list.append(line.strip().split(','))\n",
    "print(data_list[0:5])"
   ]
  },
  {
   "cell_type": "code",
   "execution_count": null,
   "metadata": {},
   "outputs": [],
   "source": [
    "data = open(\"../data/assay_data.csv\", 'r')\n",
    "try:\n",
    "    data_list = []\n",
    "    for line in data:\n",
    "        data_list.append(line.strip().split(','))\n",
    "finally:\n",
    "    data.close()"
   ]
  },
  {
   "attachments": {},
   "cell_type": "markdown",
   "metadata": {},
   "source": [
    "Internally, context managers use the `__enter__` and `__exit__` methods. The `__enter__` method is called when the context is entered and the `__exit__` method is called when the context is exited. The `__exit__` method is called even if an exception is raised in the context. This is useful for cleaning up resources even if an error occurs.Internally, context managers use the `__enter__` and `__exit__` methods. The `__enter__` method is called when the context is entered and the `__exit__` method is called when the context is exited. The `__exit__` method is called even if an exception is raised in the context. This is useful for cleaning up resources even if an error occurs."
   ]
  },
  {
   "cell_type": "code",
   "execution_count": null,
   "metadata": {},
   "outputs": [],
   "source": [
    "#write a context manager that implements a timer that can be used with the with statement\n",
    "import time\n",
    "\n",
    "class Timer:\n",
    "    def __enter__(self):\n",
    "        self.start = time.time()\n",
    "        return self\n",
    "\n",
    "    def __exit__(self, *args):\n",
    "        self.end = time.time()\n",
    "        self.interval = self.end - self.start\n",
    "        print(f\"Elapsed time: {self.interval} seconds\")"
   ]
  },
  {
   "cell_type": "code",
   "execution_count": null,
   "metadata": {},
   "outputs": [],
   "source": [
    "with Timer() as t:\n",
    "    #perform 1 million calculations\n",
    "    for i in range(1000000):\n",
    "        i = i + 1\n",
    "    with Timer() as t2:\n",
    "        l = []\n",
    "        for i in range(100000):\n",
    "            l.append(i)\n",
    "        for i in range(100000):\n",
    "            l.pop()\n",
    "    with Timer() as t3:\n",
    "        l = []\n",
    "        for i in range(100000):\n",
    "            l.insert(0, i)\n",
    "        for i in range(100000):\n",
    "            l.pop(0)"
   ]
  },
  {
   "attachments": {},
   "cell_type": "markdown",
   "metadata": {},
   "source": [
    "## Type Hints"
   ]
  },
  {
   "attachments": {},
   "cell_type": "markdown",
   "metadata": {},
   "source": [
    "Type Hints are a formalization of the existing \"comment-based\" type hinting syntax. They allow you to annotate your code with hints about the types of variables, function parameters and function return values. These hints are not enforced by the Python interpreter, but they can be used by third party tools such as type checkers, IDEs, linters, etc.\n",
    "\n",
    "In other languages like Java, C++, C#, etc., the compiler can check that the types of the variables, parameters and return values match the type hints. This is called static type checking. Python is a dynamically typed language, so the type of a variable is determined at runtime. This means that type checking cannot be done at compile time. However, type hints can be used by third party tools to check the types of variables, parameters and return values at runtime. This is called dynamic type checking."
   ]
  },
  {
   "attachments": {},
   "cell_type": "markdown",
   "metadata": {},
   "source": [
    "Let's look at how we can incorporate type hints into our DNASequence class."
   ]
  },
  {
   "cell_type": "code",
   "execution_count": 30,
   "metadata": {},
   "outputs": [],
   "source": [
    "class DNASequence:\n",
    "    def __init__(self, seq: str) -> None:\n",
    "        if not self.is_valid_dna(seq):\n",
    "            raise ValueError(\"Invalid DNA sequence\")\n",
    "        self.seq = seq\n",
    "\n",
    "    @staticmethod\n",
    "    def is_valid_dna(seq: str) -> bool:\n",
    "        if not seq:  # seq should not be empty\n",
    "            return False\n",
    "        return set(seq.upper()) <= {'A', 'T', 'G', 'C'}\n",
    "\n",
    "    def gc_content(self) -> float:\n",
    "        return (self.seq.count('G') + self.seq.count('C')) / len(self.seq)\n",
    "\n",
    "    @classmethod\n",
    "    def from_fasta(cls, fasta_str: str) -> 'DNASequence':\n",
    "        return cls(''.join(fasta_str.split('\\n')[1:]))"
   ]
  },
  {
   "attachments": {},
   "cell_type": "markdown",
   "metadata": {},
   "source": [
    "In this version of the class, each method is annotated with type hints. Here's what they mean:\n",
    "\n",
    "- The __init__ method expects seq to be a string (str), and its return value is None. This is a convention used to indicate that the method doesn't return a meaningful result.\n",
    "\n",
    "- The is_valid_dna method expects seq to be a string (str) and it returns a boolean (bool).\n",
    "\n",
    "- The gc_content method doesn't take any parameters other than self, and it returns a float (float).\n",
    "\n",
    "- The from_fasta class method expects fasta_str to be a string (str), and it returns an instance of DNASequence. Note that we use 'DNASequence' (a string) instead of DNASequence because DNASequence isn't fully defined at this point in the code."
   ]
  },
  {
   "attachments": {},
   "cell_type": "markdown",
   "metadata": {},
   "source": [
    "Now, suppose we want to write a function that calculates the average GC content for a list of sequences. Here's how we can use type hints:"
   ]
  },
  {
   "cell_type": "code",
   "execution_count": 31,
   "metadata": {},
   "outputs": [],
   "source": [
    "from typing import List\n",
    "\n",
    "def average_gc_content(sequences: List[DNASequence]) -> float:\n",
    "    return sum(seq.gc_content() for seq in sequences) / len(sequences)"
   ]
  },
  {
   "attachments": {},
   "cell_type": "markdown",
   "metadata": {},
   "source": [
    "In this function, sequences is expected to be a list of DNASequence instances, and the function returns a float. The List type hint comes from the typing module, which contains many other useful type hints.\n",
    "\n",
    "Type hints can make your code easier to understand and debug, especially for large and complex codebases. However, they are completely optional and do not affect the runtime behavior of your code.\n",
    "\n",
    "Python's typing module includes a variety of constructs that can be used to create more descriptive type hints. Let's explore a few of these."
   ]
  },
  {
   "attachments": {},
   "cell_type": "markdown",
   "metadata": {},
   "source": [
    "1. **Union** can be used when a variable could be one of several types. For example, suppose we want to modify the DNASequence class to also accept a list of strings in the from_fasta method:\n",
    "\n"
   ]
  },
  {
   "cell_type": "code",
   "execution_count": 36,
   "metadata": {},
   "outputs": [],
   "source": [
    "from typing import Union, List\n",
    "\n",
    "class DNASequence:\n",
    "    def __init__(self, seq: str) -> None:\n",
    "        if not self.is_valid_dna(seq):\n",
    "            raise ValueError(\"Invalid DNA sequence\")\n",
    "        self.seq = seq\n",
    "        \n",
    "    @staticmethod\n",
    "    def is_valid_dna(seq: str) -> bool:\n",
    "        if not seq:  # seq should not be empty\n",
    "            return False\n",
    "        return set(seq.upper()) <= {'A', 'T', 'G', 'C'}\n",
    "\n",
    "    def gc_content(self) -> float:\n",
    "        return (self.seq.count('G') + self.seq.count('C')) / len(self.seq)\n",
    "\n",
    "    @classmethod\n",
    "    def from_fasta(cls, fasta_str: Union[str, List[str]]) -> 'DNASequence':\n",
    "        if isinstance(fasta_str, list):\n",
    "            return cls(''.join(fasta_str))\n",
    "        else:\n",
    "            return cls(''.join(fasta_str.split('\\n')[1:]))"
   ]
  },
  {
   "attachments": {},
   "cell_type": "markdown",
   "metadata": {},
   "source": [
    "2. **Optional** is used when a variable could be a certain type or None. For instance, suppose we have a function that finds a subsequence in a DNA sequence, which may or may not exist:"
   ]
  },
  {
   "cell_type": "code",
   "execution_count": 33,
   "metadata": {},
   "outputs": [],
   "source": [
    "from typing import Optional\n",
    "\n",
    "def find_subsequence(seq: DNASequence, subseq: str) -> Optional[int]:\n",
    "    try:\n",
    "        return seq.seq.index(subseq)\n",
    "    except ValueError:\n",
    "        return None"
   ]
  },
  {
   "attachments": {},
   "cell_type": "markdown",
   "metadata": {},
   "source": [
    "3. **Callable** is used to type hint function or lambda parameters. For example, suppose we have a function that applies a certain transformation to a DNA sequence:"
   ]
  },
  {
   "cell_type": "code",
   "execution_count": 39,
   "metadata": {},
   "outputs": [],
   "source": [
    "from typing import Callable\n",
    "\n",
    "def transform_sequence(seq: DNASequence, transformation: Callable[[str], str]) -> DNASequence:\n",
    "    return DNASequence(transformation(seq.seq))\n",
    "\n",
    "#use a transform function to convert a DNA sequence to RNA\n",
    "def to_rna(seq: str) -> str:\n",
    "    return seq.replace('T', 'U')\n",
    "\n",
    "#use a transform function to convert a DNA sequence to its reverse complement\n",
    "def reverse_complement(seq: str) -> str:\n",
    "    complement = {'A': 'T', 'T': 'A', 'G': 'C', 'C': 'G'}\n",
    "    return ''.join(complement[base] for base in reversed(seq))\n",
    "\n",
    "dna = DNASequence(\"ATGCGC\")\n",
    "# rna = transform_sequence(dna, to_rna)\n",
    "rev = transform_sequence(dna, reverse_complement)"
   ]
  },
  {
   "attachments": {},
   "cell_type": "markdown",
   "metadata": {},
   "source": [
    "4. **Dict** and **Tuple** are used for type hinting dictionaries and tuples."
   ]
  },
  {
   "cell_type": "code",
   "execution_count": 40,
   "metadata": {},
   "outputs": [],
   "source": [
    "from typing import Dict, Tuple\n",
    "\n",
    "def count_nucleotides(seq: DNASequence) -> Dict[str, int]:\n",
    "    return {base: seq.seq.count(base) for base in 'ATGC'}\n",
    "\n",
    "def subsequence_indices(seq: DNASequence, subseq: str) -> Tuple[int, int]:\n",
    "    start = seq.seq.index(subseq)\n",
    "    return start, start + len(subseq)"
   ]
  },
  {
   "attachments": {},
   "cell_type": "markdown",
   "metadata": {},
   "source": [
    "5. **TypeVar** and **Generic** can be used to specify that the type of one value depends on another. Here's an example:"
   ]
  },
  {
   "cell_type": "code",
   "execution_count": null,
   "metadata": {},
   "outputs": [],
   "source": [
    "from typing import TypeVar, Generic\n",
    "\n",
    "T = TypeVar('T')\n",
    "\n",
    "class Box(Generic[T]):\n",
    "    def __init__(self, value: T) -> None:\n",
    "        self.value = value\n",
    "\n",
    "    def get(self) -> T:\n",
    "        return self.value"
   ]
  },
  {
   "attachments": {},
   "cell_type": "markdown",
   "metadata": {},
   "source": [
    "In this example, a Box can contain a value of any type, and the get method is guaranteed to return a value of the same type."
   ]
  }
 ],
 "metadata": {
  "kernelspec": {
   "display_name": "standard_env",
   "language": "python",
   "name": "python3"
  },
  "language_info": {
   "codemirror_mode": {
    "name": "ipython",
    "version": 3
   },
   "file_extension": ".py",
   "mimetype": "text/x-python",
   "name": "python",
   "nbconvert_exporter": "python",
   "pygments_lexer": "ipython3",
   "version": "3.9.13"
  },
  "orig_nbformat": 4
 },
 "nbformat": 4,
 "nbformat_minor": 2
}
