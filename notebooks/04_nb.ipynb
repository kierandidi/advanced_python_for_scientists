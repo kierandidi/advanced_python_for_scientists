{
 "cells": [
  {
   "attachments": {},
   "cell_type": "markdown",
   "metadata": {},
   "source": [
    "# Day 4: Tools"
   ]
  },
  {
   "attachments": {},
   "cell_type": "markdown",
   "metadata": {},
   "source": [
    "## VS Code and Debugging"
   ]
  },
  {
   "attachments": {},
   "cell_type": "markdown",
   "metadata": {},
   "source": [
    "VS Code is a great editor for Python. It has a lot of features that make it easy to write code, and it has a great debugger. To learn more about all its features (including the debugger), you can check out the [official documentation](https://code.visualstudio.com/docs/languages/python) as well as [this tutorial](https://realpython.com/python-debugging-pdb/). Today we will look at some debugging features (explained in more detail in [this article](https://realpython.com/advanced-visual-studio-code-python/#debugging-your-python-scripts-in-visual-studio-code))."
   ]
  },
  {
   "attachments": {},
   "cell_type": "markdown",
   "metadata": {},
   "source": [
    "**Demo**: Debugging in VS Code\n",
    "- Simple Debugging\n",
    "- Setting Watches"
   ]
  },
  {
   "attachments": {},
   "cell_type": "markdown",
   "metadata": {},
   "source": [
    "## CLI "
   ]
  },
  {
   "attachments": {},
   "cell_type": "markdown",
   "metadata": {},
   "source": [
    "## Git"
   ]
  },
  {
   "cell_type": "code",
   "execution_count": null,
   "metadata": {},
   "outputs": [],
   "source": []
  }
 ],
 "metadata": {
  "language_info": {
   "name": "python"
  },
  "orig_nbformat": 4
 },
 "nbformat": 4,
 "nbformat_minor": 2
}
