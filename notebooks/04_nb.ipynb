{
 "cells": [
  {
   "attachments": {},
   "cell_type": "markdown",
   "metadata": {},
   "source": [
    "# Day 4: Tools"
   ]
  },
  {
   "attachments": {},
   "cell_type": "markdown",
   "metadata": {},
   "source": [
    "## VS Code and Debugging"
   ]
  },
  {
   "attachments": {},
   "cell_type": "markdown",
   "metadata": {},
   "source": [
    "VS Code is a great editor for Python. It has a lot of features that make it easy to write code, and it has a great debugger. To learn more about all its features (including the debugger), you can check out the [official documentation](https://code.visualstudio.com/docs/languages/python) as well as [this tutorial](https://realpython.com/python-debugging-pdb/). Today we will look at some debugging features (explained in more detail in [this article](https://realpython.com/advanced-visual-studio-code-python/#debugging-your-python-scripts-in-visual-studio-code))."
   ]
  },
  {
   "attachments": {},
   "cell_type": "markdown",
   "metadata": {},
   "source": [
    "**Demo**: Debugging in VS Code\n",
    "- Simple Debugging\n",
    "- Setting Watches"
   ]
  },
  {
   "attachments": {},
   "cell_type": "markdown",
   "metadata": {},
   "source": [
    "## CLI "
   ]
  },
  {
   "attachments": {},
   "cell_type": "markdown",
   "metadata": {},
   "source": [
    "Often, you will want to run your code from the command line. This is especially true for scripts that you want to run on a server. To learn more about the command line, you can check out [this tutorial](https://realpython.com/python-command-line-arguments/). Today we will look at some of the basics. \n",
    "\n",
    "If you want to make your code available to others as a tool, a common way to do this is to create a command line interface (CLI). This allows users to run your code from the command line. We will today build a simple CLI using the [argparse](https://docs.python.org/3/library/argparse.html) library for creating QR codes.\n",
    "\n",
    "To follow along, you will need to install the [qrcode](https://pypi.org/project/qrcode/), [OpenCV](https://pypi.org/project/opencv-python/) and [Pillow](https://pypi.org/project/Pillow/) libraries. You can do this by running the following commands in your terminal:\n",
    "\n",
    "```bash\n",
    "pip install qrcode\n",
    "pip install opencv-python\n",
    "pip install Pillow\n",
    "```"
   ]
  },
  {
   "attachments": {},
   "cell_type": "markdown",
   "metadata": {},
   "source": [
    "In the last lesson we built a package that can create and decode QR codes. We will now build a CLI that allows us to use this package from the command line.\n",
    "\n",
    "How can you create CLIs in Python? There are a number of libraries that can help you with this. We will use [argparse](https://docs.python.org/3/library/argparse.html) today and also talk about [argh](https://pythonhosted.org/argh/), a wrapper for argparse to make it easier to use. To learn more about other options, you can check out [this article](https://realpython.com/comparing-python-command-line-parsing-libraries-argparse-docopt-click/)."
   ]
  },
  {
   "attachments": {},
   "cell_type": "markdown",
   "metadata": {},
   "source": [
    "How to use the argparse library? You can check out the [official documentation](https://docs.python.org/3/library/argparse.html) as well as [this tutorial](https://realpython.com/command-line-interfaces-python-argparse/). Today we will look at some of the basics.\n",
    "\n",
    "The process can be broken down into three steps:\n",
    "\n",
    "1. Create a parser\n",
    "2. Add arguments\n",
    "3. Parse arguments"
   ]
  },
  {
   "attachments": {},
   "cell_type": "markdown",
   "metadata": {},
   "source": [
    "*We will head over to the `src` directory to look at `04_argh.py` and `04_argparse.py`.*"
   ]
  },
  {
   "attachments": {},
   "cell_type": "markdown",
   "metadata": {},
   "source": [
    "## Git"
   ]
  },
  {
   "attachments": {},
   "cell_type": "markdown",
   "metadata": {},
   "source": [
    "If you change a file, you can see the changes in VS Code. But what if you want to see the changes you made to a file over time? Or what if you want to share your code with others? This is where version control comes in. Version control is a system that records changes to a file or set of files over time so that you can recall specific versions later. It is a great way to keep track of your code and collaborate with others. There are many version control systems, but today we will look at Git, which is one of the most popular.\n",
    "\n",
    "What is Git? Git is a distributed version control system. It is a tool that allows you to keep track of your code and collaborate with others. It is a great way to keep track of your code and collaborate with others. It is a sophisticated tool that can be used in many different ways. Today we will look at some of the basic features of Git and (if we have time) some of the more advanced features ([here](https://missing.csail.mit.edu/2020/version-control/) a video that talks a bit about the data model behind Git and see [the Pro Git book](https://git-scm.com/book/en/v2) for a comprehensive resource on Git).\n",
    "\n",
    "Let's start with one of the most common questions: what is the difference between Git and GitHub? Git is a version control system. GitHub is a website that hosts Git repositories. You can use Git without GitHub, but GitHub makes it easier to share your code with others. For Git itself you do not need an internet connection in order to track your code over time; however, if you want to share your code with others, you will need an internet connection in order to push your code to GitHub.\n",
    "\n",
    "<div>\n",
    "<img src=\"https://cdn.hashnode.com/res/hashnode/image/upload/v1644871667728/U8uUkYIQa.png?auto=compress,format&format=webp\" width=\"500\"/>\n",
    "</div>"
   ]
  },
  {
   "attachments": {},
   "cell_type": "markdown",
   "metadata": {},
   "source": [
    "This picture gives an overview of the Git workflow. You can see that there are three main parts: the working directory, the staging area, and the repository. The working directory is where you make changes to your code. The staging area is where you prepare your changes to be committed. The repository is where your changes are saved. You can think of the repository as a database that stores all the changes you have made. The different commands you use in Git move your changes between these three parts. They have the following meaning:\n",
    "\n",
    "- `git add`: move changes from the working directory to the staging area\n",
    "- `git commit`: move changes from the staging area to the repository\n",
    "- `git push`: move changes from the repository to GitHub\n",
    "- `git pull`: move changes from GitHub to the repository\n",
    "- `git checkout`: move changes from the repository to the working directory\n",
    "- `git merge`: move changes from one branch to another\n",
    "- `git branch`: create a new branch\n",
    "- `git status`: view the status of your changes\n",
    "- `git diff`: view the changes you have made\n",
    "- `git fetch`: view the changes on GitHub\n",
    "- `git clone`: copy a repository from GitHub to your computer\n",
    "- `git log`: view the history of changes"
   ]
  },
  {
   "attachments": {},
   "cell_type": "markdown",
   "metadata": {},
   "source": [
    "If we run `git log` on this repository at this current state, we get a list of commits that look like this:\n",
    "\n",
    "```\n",
    "commit f5ff1fd0bf1b544a0dddaff9661f91902fd149dc (HEAD -> main, origin/main, origin/HEAD)\n",
    "Author: kierandidi <kieran.didi@gmail.com>\n",
    "Date:   Fri May 26 18:08:43 2023 +0100\n",
    "\n",
    "    Started git section of course\n",
    "\n",
    "commit 79e973e230ea4bdb326c67fd4d03f10261f705da\n",
    "Author: kierandidi <kieran.didi@gmail.com>\n",
    "Date:   Sun May 21 22:51:14 2023 +0100\n",
    "```"
   ]
  },
  {
   "attachments": {},
   "cell_type": "markdown",
   "metadata": {},
   "source": [
    "We see that each commit has a unique identifier (called a hash in general or SHA-1 in this case), an author, and a date. We also see that each commit has a message. This message is a short description of the changes that were made in the commit. It is important to write good commit messages so that you can easily see what changes were made in each commit. If you want to learn more about how to write good commit messages, you can check out [this article](https://chris.beams.io/posts/git-commit/).\n",
    "\n",
    "Let's break down the first line: \n",
    "\n",
    "- commit f5ff1fd0bf1b544a0dddaff9661f91902fd149dc: This is the unique SHA-1 hash identifier for the commit.\n",
    "\n",
    "- (HEAD -> main, origin/main, origin/HEAD): These are references to this commit.\n",
    "\n",
    "    - HEAD -> main: This means that the HEAD pointer, which points to the current branch or commit that you're working on, is pointing to the main branch, and the commit that the main branch is pointing at is the current commit (f5ff1fd0bf1b544a0dddaff9661f91902fd149dc).\n",
    "\n",
    "    - origin/main: This means that the main branch in your remote repository (typically named \"origin\") is pointing to this commit.\n",
    "\n",
    "    - origin/HEAD: This is the default branch on the remote repository, which is also pointing to this commit."
   ]
  },
  {
   "attachments": {},
   "cell_type": "markdown",
   "metadata": {},
   "source": [
    "With the basics out of the way, let's look at some of the commands you will use most often. The first thing you will do is create a repository. You can do this by running `git init` in the directory where you want to create the repository. This will create a `.git` directory that contains all the information about your repository. You can then add files to your repository by running `git add <file>`. This will move the changes from the working directory to the staging area. You can then commit these changes by running `git commit -m \"message\"`. This will move the changes from the staging area to the repository. You can then push these changes to GitHub by running `git push`. This will move the changes from the repository to GitHub. You can then pull these changes from GitHub by running `git pull`. This will move the changes from GitHub to the repository. You can then checkout these changes by running `git checkout`. This will move the changes from the repository to the working directory. You can then merge these changes by running `git merge`. This will move the changes from one branch to another."
   ]
  },
  {
   "attachments": {},
   "cell_type": "markdown",
   "metadata": {},
   "source": [
    "## Advanced Git concepts"
   ]
  },
  {
   "attachments": {},
   "cell_type": "markdown",
   "metadata": {},
   "source": [
    "After the basics, we now discuss a few more advanced features covered in more detail in [this article](https://realpython.com/advanced-git-for-pythonistas/). You do not need to know these features to use Git, but they can be useful if you want to learn more about Git. Especially if you run into problems, it can pay off to know a bit of the background of Git. Besides that, there are also websites like [Dangit, Git!](https://dangitgit.com/en) that can help you with common Git problems."
   ]
  },
  {
   "attachments": {},
   "cell_type": "markdown",
   "metadata": {},
   "source": [
    "## git stash: save your changes without committing them\n",
    "\n",
    "The first feature we will look at is `git stash`. This command allows you to save your changes without committing them. This can be useful if you want to switch branches but do not want to commit your changes. You can run `git stash` to save your changes. You can then run `git stash pop` to apply your changes. You can also run `git stash list` to see a list of all your stashes.\n",
    "\n",
    "You can also use `git stash apply` to apply your changes without removing them from the stash. This can be useful if you want to apply your changes to multiple branches. You can also use `git stash drop` to remove your changes from the stash. This can be useful if you want to remove your changes from the stash without applying them."
   ]
  },
  {
   "attachments": {},
   "cell_type": "markdown",
   "metadata": {},
   "source": [
    "## git diff: view the changes you have made"
   ]
  },
  {
   "attachments": {},
   "cell_type": "markdown",
   "metadata": {},
   "source": [
    "`git diff` allows you to view the changes you have made. You can run `git diff` to view the changes you have made. You can also run `git diff --staged` to view the changes you have staged. You can also run `git diff HEAD` to view the changes you have committed. You can also run `git diff <commit> <commit>` to view the changes between two commits."
   ]
  },
  {
   "attachments": {},
   "cell_type": "markdown",
   "metadata": {},
   "source": [
    "I keep it short here, because most of the time you won't look at git diff locally, but look at changes between commits remotely, e.g. on GitHub. You can do this by going to the commit you want to compare to, and then clicking on the \"Compare\" button. This will show you the changes between the two commits. But if you want to learn more about git diff, you can check out [this article](https://www.atlassian.com/git/tutorials/saving-changes/git-diff)."
   ]
  },
  {
   "attachments": {},
   "cell_type": "markdown",
   "metadata": {},
   "source": [
    "## git rebase: change the history of your repository\n",
    "\n",
    "`git rebase` allows you to change the history of your repository. You can run `git rebase -i <commit>` to change the history of your repository. Other options to achieve this goal are `git commit --amend`, `git revert` and `git reset`. You can read more about them in [this article](https://realpython.com/advanced-git-for-pythonistas/), but in general it is best to avoid changing the history of your repository, especially if you are working with other people."
   ]
  }
 ],
 "metadata": {
  "language_info": {
   "name": "python"
  },
  "orig_nbformat": 4
 },
 "nbformat": 4,
 "nbformat_minor": 2
}
