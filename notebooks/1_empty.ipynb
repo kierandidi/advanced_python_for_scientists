{
 "cells": [
  {
   "attachments": {},
   "cell_type": "markdown",
   "metadata": {},
   "source": [
    "# Day1: Advanced Constructs"
   ]
  },
  {
   "cell_type": "code",
   "execution_count": 3,
   "metadata": {},
   "outputs": [],
   "source": [
    "names = [\"john\", \"jane\", \"doe\"]\n",
    "#dictionaries\n",
    "ages = {\"john\": 23, \"jane\": 24, \"doe\": 25}\n",
    "#tuples\n",
    "names_ages = [(\"john\", 23), (\"jane\", 24), (\"doe\", 25)]"
   ]
  },
  {
   "cell_type": "code",
   "execution_count": 23,
   "metadata": {},
   "outputs": [
    {
     "data": {
      "text/plain": [
       "15"
      ]
     },
     "execution_count": 23,
     "metadata": {},
     "output_type": "execute_result"
    }
   ],
   "source": [
    "signal = [15,25,32,48,24]\n",
    "time_points = [1,5,7,9,10]\n",
    "\n",
    "#magic methods/dunder methods (double underscore)\n",
    "itr = signal.__iter__()\n",
    "itr.__next__()\n",
    "    "
   ]
  },
  {
   "attachments": {},
   "cell_type": "markdown",
   "metadata": {},
   "source": [
    "![](https://camo.githubusercontent.com/e35ad1f313f321499924b47e3677b227bcc8c4f9a709a585cab6e3f9bd422d2c/68747470733a2f2f66696c65732e7265616c707974686f6e2e636f6d2f6d656469612f742e6261363332323264363366352e706e67)"
   ]
  },
  {
   "cell_type": "code",
   "execution_count": 24,
   "metadata": {},
   "outputs": [],
   "source": [
    "class InfiniteIterator():\n",
    "    def __init__(self,item):\n",
    "        self.item = item\n",
    "\n",
    "    def __iter__(self):\n",
    "        return self\n",
    "    \n",
    "    def __next__(self):\n",
    "        return self.item"
   ]
  },
  {
   "cell_type": "code",
   "execution_count": 25,
   "metadata": {},
   "outputs": [
    {
     "data": {
      "text/plain": [
       "<__main__.InfiniteIterator at 0x10ed61b80>"
      ]
     },
     "execution_count": 25,
     "metadata": {},
     "output_type": "execute_result"
    }
   ],
   "source": [
    "looper = InfiniteIterator('Python')\n",
    "looper"
   ]
  },
  {
   "cell_type": "code",
   "execution_count": 41,
   "metadata": {},
   "outputs": [],
   "source": [
    "class FiniteIterator():\n",
    "    def __init__(self, item, max_count):\n",
    "        self.item = item\n",
    "        self.max_count = max_count\n",
    "        self.count = 0\n",
    "\n",
    "    def __iter__(self):\n",
    "        return self\n",
    "    \n",
    "    def __next__(self):\n",
    "        if self.count >= self.max_count:\n",
    "            raise StopIteration\n",
    "        self.count += 1\n",
    "        return self.item"
   ]
  },
  {
   "cell_type": "code",
   "execution_count": 42,
   "metadata": {},
   "outputs": [
    {
     "name": "stdout",
     "output_type": "stream",
     "text": [
      "Python\n",
      "Python\n",
      "Python\n"
     ]
    }
   ],
   "source": [
    "looper = FiniteIterator('Python', 3)\n",
    "for i in looper:\n",
    "    print(i)"
   ]
  },
  {
   "attachments": {},
   "cell_type": "markdown",
   "metadata": {},
   "source": [
    "## Generators"
   ]
  },
  {
   "cell_type": "code",
   "execution_count": 45,
   "metadata": {},
   "outputs": [],
   "source": [
    "def finite_generator(item, max_count):\n",
    "    count =0\n",
    "    while count < max_count:\n",
    "        print(count)\n",
    "        yield item\n",
    "        count += 1"
   ]
  },
  {
   "cell_type": "code",
   "execution_count": 46,
   "metadata": {},
   "outputs": [
    {
     "name": "stdout",
     "output_type": "stream",
     "text": [
      "0\n",
      "Python\n",
      "1\n",
      "Python\n",
      "2\n",
      "Python\n"
     ]
    }
   ],
   "source": [
    "for i in finite_generator('Python', 3):\n",
    "    print(i)"
   ]
  },
  {
   "cell_type": "code",
   "execution_count": 47,
   "metadata": {},
   "outputs": [
    {
     "data": {
      "text/plain": [
       "<generator object finite_generator at 0x10e9fe270>"
      ]
     },
     "execution_count": 47,
     "metadata": {},
     "output_type": "execute_result"
    }
   ],
   "source": [
    "gen = finite_generator('Python', 3)\n",
    "gen"
   ]
  },
  {
   "cell_type": "code",
   "execution_count": 51,
   "metadata": {},
   "outputs": [
    {
     "ename": "StopIteration",
     "evalue": "",
     "output_type": "error",
     "traceback": [
      "\u001b[0;31m---------------------------------------------------------------------------\u001b[0m",
      "\u001b[0;31mStopIteration\u001b[0m                             Traceback (most recent call last)",
      "\u001b[1;32m/Users/kierandidi/advanced_python_for_scientists/notebooks/1_empty.ipynb Cell 13\u001b[0m in \u001b[0;36m1\n\u001b[0;32m----> <a href='vscode-notebook-cell:/Users/kierandidi/advanced_python_for_scientists/notebooks/1_empty.ipynb#X21sZmlsZQ%3D%3D?line=0'>1</a>\u001b[0m \u001b[39mnext\u001b[39;49m(gen)\n",
      "\u001b[0;31mStopIteration\u001b[0m: "
     ]
    }
   ],
   "source": [
    "next(gen)"
   ]
  },
  {
   "cell_type": "code",
   "execution_count": 52,
   "metadata": {},
   "outputs": [],
   "source": [
    "def threetimes_generator(item):\n",
    "    yield item\n",
    "    #...\n",
    "    yield item\n",
    "    #...\n",
    "    yield \"nearly empty!\""
   ]
  },
  {
   "cell_type": "code",
   "execution_count": 53,
   "metadata": {},
   "outputs": [
    {
     "name": "stdout",
     "output_type": "stream",
     "text": [
      "Python\n",
      "Python\n",
      "nearly empty!\n"
     ]
    }
   ],
   "source": [
    "for i in threetimes_generator('Python'):\n",
    "    print(i)"
   ]
  },
  {
   "cell_type": "code",
   "execution_count": 62,
   "metadata": {},
   "outputs": [
    {
     "data": {
      "text/plain": [
       "<generator object <genexpr> at 0x10e9f86d0>"
      ]
     },
     "execution_count": 62,
     "metadata": {},
     "output_type": "execute_result"
    }
   ],
   "source": [
    "numbers = []\n",
    "for number in range (1, 1000):\n",
    "    numbers.append(number)\n",
    "\n",
    "#list comprehension\n",
    "numbers_generator = (i for i in range(1,10) if i%2==0)\n",
    "numbers_generator"
   ]
  },
  {
   "cell_type": "code",
   "execution_count": 67,
   "metadata": {},
   "outputs": [
    {
     "ename": "StopIteration",
     "evalue": "",
     "output_type": "error",
     "traceback": [
      "\u001b[0;31m---------------------------------------------------------------------------\u001b[0m",
      "\u001b[0;31mStopIteration\u001b[0m                             Traceback (most recent call last)",
      "\u001b[1;32m/Users/kierandidi/advanced_python_for_scientists/notebooks/1_empty.ipynb Cell 17\u001b[0m in \u001b[0;36m1\n\u001b[0;32m----> <a href='vscode-notebook-cell:/Users/kierandidi/advanced_python_for_scientists/notebooks/1_empty.ipynb#X25sZmlsZQ%3D%3D?line=0'>1</a>\u001b[0m \u001b[39mnext\u001b[39;49m(numbers_generator)\n",
      "\u001b[0;31mStopIteration\u001b[0m: "
     ]
    }
   ],
   "source": [
    "next(numbers_generator)"
   ]
  },
  {
   "cell_type": "code",
   "execution_count": 68,
   "metadata": {},
   "outputs": [],
   "source": [
    "numbers_list = [i for i in range(1, 1000000)]\n",
    "numbers_gen = (i for i in range(1, 1000000))"
   ]
  },
  {
   "cell_type": "code",
   "execution_count": 70,
   "metadata": {},
   "outputs": [
    {
     "name": "stdout",
     "output_type": "stream",
     "text": [
      "8.448728\n",
      "0.000112\n"
     ]
    }
   ],
   "source": [
    "import sys\n",
    "print(sys.getsizeof(numbers_list)/1000000)\n",
    "print(sys.getsizeof(numbers_gen)/1000000)"
   ]
  },
  {
   "cell_type": "code",
   "execution_count": 72,
   "metadata": {},
   "outputs": [
    {
     "ename": "TypeError",
     "evalue": "'generator' object is not subscriptable",
     "output_type": "error",
     "traceback": [
      "\u001b[0;31m---------------------------------------------------------------------------\u001b[0m",
      "\u001b[0;31mTypeError\u001b[0m                                 Traceback (most recent call last)",
      "\u001b[1;32m/Users/kierandidi/advanced_python_for_scientists/notebooks/1_empty.ipynb Cell 20\u001b[0m in \u001b[0;36m1\n\u001b[0;32m----> <a href='vscode-notebook-cell:/Users/kierandidi/advanced_python_for_scientists/notebooks/1_empty.ipynb#X31sZmlsZQ%3D%3D?line=0'>1</a>\u001b[0m numbers_gen[\u001b[39m123\u001b[39;49m]\n",
      "\u001b[0;31mTypeError\u001b[0m: 'generator' object is not subscriptable"
     ]
    }
   ],
   "source": [
    "numbers_gen[123]"
   ]
  },
  {
   "cell_type": "code",
   "execution_count": 77,
   "metadata": {},
   "outputs": [
    {
     "data": {
      "text/plain": [
       "[False, True, True, False, True, True, True, True, True, False]"
      ]
     },
     "execution_count": 77,
     "metadata": {},
     "output_type": "execute_result"
    }
   ],
   "source": [
    "data = [-1,5,10,3,-4,6,-78,4,65,2]\n",
    "\n",
    "def absolute(data):\n",
    "    for i in data:\n",
    "        yield abs(i)\n",
    "\n",
    "def square(data):\n",
    "    for i in data:\n",
    "        yield i**2\n",
    "\n",
    "def add_one(data):\n",
    "    for i in data:\n",
    "        yield i+1\n",
    "\n",
    "def is_big(data):\n",
    "    for i in data:\n",
    "        yield i>10\n",
    "\n",
    "result = is_big(add_one(square(absolute(data))))\n",
    "list(result)"
   ]
  },
  {
   "attachments": {},
   "cell_type": "markdown",
   "metadata": {},
   "source": [
    "## Higher-order functions"
   ]
  },
  {
   "cell_type": "code",
   "execution_count": 99,
   "metadata": {},
   "outputs": [
    {
     "data": {
      "text/plain": [
       "10"
      ]
     },
     "execution_count": 99,
     "metadata": {},
     "output_type": "execute_result"
    }
   ],
   "source": [
    "def greet(name):\n",
    "    return f\"Hello, {name}!\"\n",
    "\n",
    "say_hello = greet\n",
    "say_hello(\"Peter\")\n",
    "del greet\n",
    "say_hello.__name__"
   ]
  },
  {
   "cell_type": "code",
   "execution_count": 102,
   "metadata": {},
   "outputs": [
    {
     "data": {
      "text/plain": [
       "10516"
      ]
     },
     "execution_count": 102,
     "metadata": {},
     "output_type": "execute_result"
    }
   ],
   "source": [
    "def absolute(data):\n",
    "  for i in data:\n",
    "    yield abs(i)\n",
    "\n",
    "def square(data):\n",
    "  for i in data:\n",
    "    yield i**2\n",
    "\n",
    "def count(func, data):\n",
    "    data = func(data)\n",
    "    return sum(data)\n",
    "\n",
    "data = [-1,5,10,3,-4,6,-78,4,65,2]\n",
    "count(square, data)"
   ]
  },
  {
   "attachments": {},
   "cell_type": "markdown",
   "metadata": {},
   "source": [
    "## Inner/nested functions"
   ]
  },
  {
   "cell_type": "code",
   "execution_count": 103,
   "metadata": {},
   "outputs": [
    {
     "name": "stdout",
     "output_type": "stream",
     "text": [
      "Hello from outer\n",
      "Hello from innner!\n"
     ]
    }
   ],
   "source": [
    "def outer():\n",
    "    print(\"Hello from outer\")\n",
    "    def inner():\n",
    "        print(\"Hello from innner!\")\n",
    "    inner()\n",
    "\n",
    "outer()"
   ]
  },
  {
   "attachments": {},
   "cell_type": "markdown",
   "metadata": {},
   "source": [
    "## Closures"
   ]
  },
  {
   "cell_type": "code",
   "execution_count": 111,
   "metadata": {},
   "outputs": [
    {
     "data": {
      "text/plain": [
       "'Outer input'"
      ]
     },
     "execution_count": 111,
     "metadata": {},
     "output_type": "execute_result"
    }
   ],
   "source": [
    "def outer(input):\n",
    "    def inner():\n",
    "        return f\"Hello from inner function, I got {input} from outer function\"\n",
    "    return inner\n",
    "\n",
    "inner_fct = outer(\"Outer input\")\n",
    "inner_fct.__closure__[0].cell_contents"
   ]
  },
  {
   "cell_type": "code",
   "execution_count": 112,
   "metadata": {},
   "outputs": [
    {
     "data": {
      "text/plain": [
       "1"
      ]
     },
     "execution_count": 112,
     "metadata": {},
     "output_type": "execute_result"
    }
   ],
   "source": [
    "class Counter():\n",
    "    def __init__(self):\n",
    "        self.count = 0\n",
    "\n",
    "    def increment(self):\n",
    "        self.count +=1 \n",
    "        return self.count\n",
    "    \n",
    "counter = Counter()\n",
    "counter.increment()"
   ]
  },
  {
   "cell_type": "code",
   "execution_count": 121,
   "metadata": {},
   "outputs": [],
   "source": [
    "def counter():\n",
    "    count = [0]\n",
    "    def increment():\n",
    "        count[0] += 1\n",
    "        return count[0]\n",
    "    return increment\n",
    "\n",
    "counter_clo = counter()"
   ]
  },
  {
   "cell_type": "code",
   "execution_count": 130,
   "metadata": {},
   "outputs": [
    {
     "data": {
      "text/plain": [
       "9"
      ]
     },
     "execution_count": 130,
     "metadata": {},
     "output_type": "execute_result"
    }
   ],
   "source": [
    "counter_clo()"
   ]
  },
  {
   "attachments": {},
   "cell_type": "markdown",
   "metadata": {},
   "source": [
    "## Decorators"
   ]
  },
  {
   "cell_type": "code",
   "execution_count": 131,
   "metadata": {},
   "outputs": [],
   "source": [
    "def useless_decorator(func):\n",
    "    return func"
   ]
  },
  {
   "cell_type": "code",
   "execution_count": 139,
   "metadata": {},
   "outputs": [],
   "source": [
    "def useful_decorator(func):\n",
    "    def wrapper():\n",
    "        original_results = func()\n",
    "        modified_result = original_results.upper()\n",
    "        return modified_result\n",
    "    return wrapper"
   ]
  },
  {
   "cell_type": "code",
   "execution_count": 148,
   "metadata": {},
   "outputs": [
    {
     "name": "stdout",
     "output_type": "stream",
     "text": [
      "HELLO!\n",
      "GOODBYE!\n"
     ]
    }
   ],
   "source": [
    "@useful_decorator\n",
    "def greet():\n",
    "    return f\"Hello!\"\n",
    "\n",
    "@useful_decorator\n",
    "def goodbye():\n",
    "    return \"Goodbye!\"\n",
    "\n",
    "print(greet())\n",
    "print(goodbye())"
   ]
  },
  {
   "cell_type": "code",
   "execution_count": 138,
   "metadata": {},
   "outputs": [
    {
     "data": {
      "text/plain": [
       "'HELLO!'"
      ]
     },
     "execution_count": 138,
     "metadata": {},
     "output_type": "execute_result"
    }
   ],
   "source": [
    "greet = useful_decorator(greet)\n",
    "greet()"
   ]
  },
  {
   "cell_type": "code",
   "execution_count": 156,
   "metadata": {},
   "outputs": [
    {
     "data": {
      "text/plain": [
       "8"
      ]
     },
     "execution_count": 156,
     "metadata": {},
     "output_type": "execute_result"
    }
   ],
   "source": [
    "#logging decorator\n",
    "#timing decorator\n",
    "\n",
    "#args, kwargs\n",
    "\n",
    "def add_list(l):\n",
    "    sum = 0\n",
    "    for item in l:\n",
    "        sum += item\n",
    "    return sum\n",
    "\n",
    "add_list([1,2,5])\n",
    "\n",
    "# def add(a,b,c):\n",
    "#     return a+b+c\n",
    "\n",
    "# add(1,3)"
   ]
  },
  {
   "cell_type": "code",
   "execution_count": 163,
   "metadata": {},
   "outputs": [
    {
     "name": "stdout",
     "output_type": "stream",
     "text": [
      "(1, 2, 5)\n",
      "Laura is 23\n",
      "name is alice\n",
      "age is 25\n",
      "hobby is cycling\n"
     ]
    }
   ],
   "source": [
    "def add (*args):\n",
    "    sum = 0\n",
    "    print(args)\n",
    "    for num in args:\n",
    "        sum += num\n",
    "    return sum\n",
    "\n",
    "add(1,2,5)\n",
    "\n",
    "def introduce(name=\"John\", age=23):\n",
    "    print(f\"{name} is {age}\")\n",
    "\n",
    "introduce(name=\"Laura\")\n",
    "\n",
    "def introduce(**kwargs):\n",
    "    for key,value in kwargs.items():\n",
    "        print(f\"{key} is {value}\")\n",
    "\n",
    "introduce(name=\"alice\", age=25, hobby=\"cycling\")"
   ]
  },
  {
   "cell_type": "code",
   "execution_count": 187,
   "metadata": {},
   "outputs": [
    {
     "name": "stdout",
     "output_type": "stream",
     "text": [
      "compute executed in 1.1920928955078125e-06 seconds\n"
     ]
    },
    {
     "data": {
      "text/plain": [
       "3"
      ]
     },
     "execution_count": 187,
     "metadata": {},
     "output_type": "execute_result"
    }
   ],
   "source": [
    "#compute = log_decorator(compute)\n",
    "\n",
    "\n",
    "def compute(a,b,operator):\n",
    "    \"\"\"Computes a simple arithmetic operation\"\"\"\n",
    "    if operator == '+':\n",
    "        return a+b\n",
    "    elif operator == '-':\n",
    "        return a-b\n",
    "    elif operator == '*':\n",
    "        return a*b\n",
    "    elif operator == '/':\n",
    "        return a/b\n",
    "\n",
    "compute(1,2,operator='+')"
   ]
  },
  {
   "cell_type": "code",
   "execution_count": 168,
   "metadata": {},
   "outputs": [],
   "source": [
    "def log_decorator(func):\n",
    "    def wrapper(*args, **kwargs):\n",
    "        #log before execution\n",
    "        print(f\"Calling {func.__name__} with args: {args}, kwargs: {kwargs}\")\n",
    "\n",
    "        #execute function\n",
    "        result = func(*args, **kwargs)\n",
    "\n",
    "        #log after execution\n",
    "        print(f\"The function returned: {result}\")\n",
    "        \n",
    "        return result\n",
    "    \n",
    "    return wrapper"
   ]
  },
  {
   "cell_type": "code",
   "execution_count": 184,
   "metadata": {},
   "outputs": [
    {
     "name": "stdout",
     "output_type": "stream",
     "text": [
      "2.005189895629883\n"
     ]
    }
   ],
   "source": [
    "import time\n",
    "\n",
    "start_time = time.time()\n",
    "time.sleep(2)\n",
    "end_time = time.time()\n",
    "print(end_time-start_time)"
   ]
  },
  {
   "cell_type": "code",
   "execution_count": 186,
   "metadata": {},
   "outputs": [],
   "source": [
    "def timing_decorator(func):\n",
    "    def wrapper(*args, **kwargs):\n",
    "        start_time = time.time()\n",
    "        result = func(*args, **kwargs)\n",
    "        end_time = time.time()\n",
    "        print(f\"{func.__name__} executed in {end_time-start_time} seconds\")\n",
    "        return result\n",
    "    return wrapper"
   ]
  },
  {
   "attachments": {},
   "cell_type": "markdown",
   "metadata": {},
   "source": [
    "# Properties"
   ]
  },
  {
   "cell_type": "code",
   "execution_count": null,
   "metadata": {},
   "outputs": [],
   "source": [
    "#descriptors \n",
    "\n",
    "class PDBIdentifier:\n",
    "    def __get__(self):\n",
    "        return \"6gju\"\n",
    "    \n",
    "    def __set__(self, value):\n",
    "        raise AttributeError(\"Cannot change the value!\")\n",
    "    \n",
    "    def __delete__(self):\n",
    "        raise AttributeError(\"Cannot delete attribute!\")\n",
    "    "
   ]
  },
  {
   "cell_type": "code",
   "execution_count": 200,
   "metadata": {},
   "outputs": [],
   "source": [
    "class ProteinStructure:\n",
    "    def __init__(self, pdb_id):\n",
    "        self.pdb_id = pdb_id\n",
    "        self.path = f\"/data/pdb/{pdb_id}.pdb\"\n",
    "\n",
    "    def getter(self):\n",
    "        print(\"getting PDB ID\")\n",
    "        return self.pdb_id\n",
    "    \n",
    "    def setter(self, pdb_id):\n",
    "        if not isinstance(pdb_id, str):\n",
    "            raise TypeError(\"PDB ID must be a string!\")\n",
    "        if not pdb_id.isalnum():\n",
    "            raise ValueError(\"PDB ID must be alphanumeric\")\n",
    "        if not len(pdb_id) == 4:\n",
    "            raise ValueError(\"PDB ID must be 4 characters long\")\n",
    "        self.pdb_id = pdb_id\n",
    "\n",
    "    def deleter(self):\n",
    "        raise AttributeError(\"Cannot delete attribute!\")\n",
    "    \n",
    "    pdb_id = property(getter, setter, deleter)\n",
    "    \n"
   ]
  },
  {
   "cell_type": "code",
   "execution_count": 205,
   "metadata": {},
   "outputs": [],
   "source": [
    "class ProteinStructure:\n",
    "    def __init__(self, pdb_id):\n",
    "        self.pdb_id = pdb_id\n",
    "        self.path = f\"/data/pdb/{pdb_id}.pdb\"\n",
    "\n",
    "    @property\n",
    "    def pdb_id(self):\n",
    "        print(\"Getting PDB ID\")\n",
    "        return self._pdb_id\n",
    "    \n",
    "    @pdb_id.setter\n",
    "    def pdb_id(self, pdb_id):\n",
    "        if not isinstance(pdb_id, str):\n",
    "            raise TypeError(\"PDB ID must be a string\")\n",
    "        if not pdb_id.isalnum():\n",
    "            raise ValueError(\"PDB ID must be alphanumeric\")\n",
    "        if not len(pdb_id) == 4:\n",
    "            raise ValueError(\"PDB ID must be 4 characters long\")\n",
    "        self._pdb_id = pdb_id\n",
    "\n",
    "    @pdb_id.deleter\n",
    "    def pdb_id(self):\n",
    "        raise AttributeError(\"Can't delete attribute\")\n"
   ]
  },
  {
   "cell_type": "code",
   "execution_count": 209,
   "metadata": {},
   "outputs": [
    {
     "ename": "TypeError",
     "evalue": "PDB ID must be a string",
     "output_type": "error",
     "traceback": [
      "\u001b[0;31m---------------------------------------------------------------------------\u001b[0m",
      "\u001b[0;31mTypeError\u001b[0m                                 Traceback (most recent call last)",
      "\u001b[1;32m/Users/kierandidi/advanced_python_for_scientists/notebooks/1_empty.ipynb Cell 47\u001b[0m in \u001b[0;36m2\n\u001b[1;32m      <a href='vscode-notebook-cell:/Users/kierandidi/advanced_python_for_scientists/notebooks/1_empty.ipynb#Y103sZmlsZQ%3D%3D?line=0'>1</a>\u001b[0m protein \u001b[39m=\u001b[39m ProteinStructure(\u001b[39m'\u001b[39m\u001b[39m1gcd\u001b[39m\u001b[39m'\u001b[39m)\n\u001b[0;32m----> <a href='vscode-notebook-cell:/Users/kierandidi/advanced_python_for_scientists/notebooks/1_empty.ipynb#Y103sZmlsZQ%3D%3D?line=1'>2</a>\u001b[0m protein\u001b[39m.\u001b[39;49mpdb_id \u001b[39m=\u001b[39m \u001b[39m1111\u001b[39m\n",
      "\u001b[1;32m/Users/kierandidi/advanced_python_for_scientists/notebooks/1_empty.ipynb Cell 47\u001b[0m in \u001b[0;36m1\n\u001b[1;32m     <a href='vscode-notebook-cell:/Users/kierandidi/advanced_python_for_scientists/notebooks/1_empty.ipynb#Y103sZmlsZQ%3D%3D?line=10'>11</a>\u001b[0m \u001b[39m@pdb_id\u001b[39m\u001b[39m.\u001b[39msetter\n\u001b[1;32m     <a href='vscode-notebook-cell:/Users/kierandidi/advanced_python_for_scientists/notebooks/1_empty.ipynb#Y103sZmlsZQ%3D%3D?line=11'>12</a>\u001b[0m \u001b[39mdef\u001b[39;00m \u001b[39mpdb_id\u001b[39m(\u001b[39mself\u001b[39m, pdb_id):\n\u001b[1;32m     <a href='vscode-notebook-cell:/Users/kierandidi/advanced_python_for_scientists/notebooks/1_empty.ipynb#Y103sZmlsZQ%3D%3D?line=12'>13</a>\u001b[0m     \u001b[39mif\u001b[39;00m \u001b[39mnot\u001b[39;00m \u001b[39misinstance\u001b[39m(pdb_id, \u001b[39mstr\u001b[39m):\n\u001b[0;32m---> <a href='vscode-notebook-cell:/Users/kierandidi/advanced_python_for_scientists/notebooks/1_empty.ipynb#Y103sZmlsZQ%3D%3D?line=13'>14</a>\u001b[0m         \u001b[39mraise\u001b[39;00m \u001b[39mTypeError\u001b[39;00m(\u001b[39m\"\u001b[39m\u001b[39mPDB ID must be a string\u001b[39m\u001b[39m\"\u001b[39m)\n\u001b[1;32m     <a href='vscode-notebook-cell:/Users/kierandidi/advanced_python_for_scientists/notebooks/1_empty.ipynb#Y103sZmlsZQ%3D%3D?line=14'>15</a>\u001b[0m     \u001b[39mif\u001b[39;00m \u001b[39mnot\u001b[39;00m pdb_id\u001b[39m.\u001b[39misalnum():\n\u001b[1;32m     <a href='vscode-notebook-cell:/Users/kierandidi/advanced_python_for_scientists/notebooks/1_empty.ipynb#Y103sZmlsZQ%3D%3D?line=15'>16</a>\u001b[0m         \u001b[39mraise\u001b[39;00m \u001b[39mValueError\u001b[39;00m(\u001b[39m\"\u001b[39m\u001b[39mPDB ID must be alphanumeric\u001b[39m\u001b[39m\"\u001b[39m)\n",
      "\u001b[0;31mTypeError\u001b[0m: PDB ID must be a string"
     ]
    }
   ],
   "source": [
    "protein = ProteinStructure('1gcd')\n",
    "protein.pdb_id = 1111"
   ]
  },
  {
   "cell_type": "code",
   "execution_count": 216,
   "metadata": {},
   "outputs": [
    {
     "name": "stdout",
     "output_type": "stream",
     "text": [
      "7.5\n",
      "15.0\n",
      "176.71458676442586\n"
     ]
    }
   ],
   "source": [
    "import math\n",
    "\n",
    "class Circle:\n",
    "    def __init__(self, radius):\n",
    "        self._radius = radius\n",
    "\n",
    "    @property\n",
    "    def radius(self):\n",
    "        return self._radius\n",
    "    \n",
    "    @radius.setter\n",
    "    def radius(self, value):\n",
    "        if value >= 0:\n",
    "            self._radius = value\n",
    "        else:\n",
    "            raise ValueError(\"Radius cannot be negative\")\n",
    "    \n",
    "    @property\n",
    "    def diameter(self):\n",
    "        return self._radius * 2\n",
    "    \n",
    "    @diameter.setter\n",
    "    def diameter(self, value):\n",
    "        if value >=0:\n",
    "            self._radius = value/2\n",
    "        else:\n",
    "            raise ValueError(\"Diameter cannot be negative\")\n",
    "    \n",
    "    @property\n",
    "    def area(self):\n",
    "        return math.pi * (self._radius**2)\n",
    "    \n",
    "\n",
    "\n",
    "c = Circle(1)\n",
    "c.radius = 5\n",
    "c.diameter = 15\n",
    "print(c.radius)\n",
    "print(c.diameter)\n",
    "print(c.area)"
   ]
  },
  {
   "cell_type": "code",
   "execution_count": null,
   "metadata": {},
   "outputs": [],
   "source": [
    "import os\n",
    "\n",
    "class BioSequence:\n",
    "    def __init__(self, dna_sequence, protein_sequence, base_path, dna_file_path, protein_file_path):\n",
    "        self._dna_sequence = dna_sequence\n",
    "        self._protein_sequence = protein_sequence\n",
    "        self._base_path = base_path\n",
    "        self.dna_file_path = dna_file_path\n",
    "        self.protein_file_path = protein_file_path\n",
    "\n",
    "    @property\n",
    "    def base_path(self):\n",
    "        return self._base_path\n",
    "\n",
    "    @base_path.setter\n",
    "    def base_path(self, path):\n",
    "        if not os.path.isdir(path):\n",
    "            raise ValueError(\"Invalid base path: path does not exist or is not a directory\")\n",
    "        self._base_path = path\n",
    "\n",
    "    @property\n",
    "    def dna_sequence(self):\n",
    "        return self._dna_sequence\n",
    "\n",
    "    @dna_sequence.setter\n",
    "    def dna_sequence(self, sequence):\n",
    "        # Add validation for DNA sequence\n",
    "        if not set(sequence.upper()) <= {'A', 'C', 'G', 'T'}:\n",
    "            raise ValueError(\"Invalid DNA sequence\")\n",
    "        self._dna_sequence = sequence\n",
    "\n",
    "    @property\n",
    "    def protein_sequence(self):\n",
    "        return self._protein_sequence\n",
    "\n",
    "    @protein_sequence.setter\n",
    "    def protein_sequence(self, sequence):\n",
    "        # Add validation for protein sequence\n",
    "        if not set(sequence.upper()) <= set('ACDEFGHIKLMNPQRSTVWY'):  # Amino acid symbols\n",
    "            raise ValueError(\"Invalid protein sequence\")\n",
    "        self._protein_sequence = sequence\n",
    "\n",
    "    @property\n",
    "    def dna_file_path(self):\n",
    "        return os.path.join(self._base_path, self._dna_file_path)\n",
    "\n",
    "    @dna_file_path.setter\n",
    "    def dna_file_path(self, path):\n",
    "        if not os.path.isfile(os.path.join(self._base_path, path)):\n",
    "            raise ValueError(\"Invalid DNA file path: file does not exist\")\n",
    "        self._dna_file_path = path\n",
    "\n",
    "    @property\n",
    "    def protein_file_path(self):\n",
    "        return os.path.join(self._base_path, self._protein_file_path)\n",
    "\n",
    "    @protein_file_path.setter\n",
    "    def protein_file_path(self, path):\n",
    "        if not os.path.isfile(os.path.join(self._base_path, path)):\n",
    "            raise ValueError(\"Invalid protein file path: file does not exist\")\n",
    "        self._protein_file_path = path"
   ]
  }
 ],
 "metadata": {
  "kernelspec": {
   "display_name": "standard_env",
   "language": "python",
   "name": "python3"
  },
  "language_info": {
   "codemirror_mode": {
    "name": "ipython",
    "version": 3
   },
   "file_extension": ".py",
   "mimetype": "text/x-python",
   "name": "python",
   "nbconvert_exporter": "python",
   "pygments_lexer": "ipython3",
   "version": "3.9.13"
  },
  "orig_nbformat": 4
 },
 "nbformat": 4,
 "nbformat_minor": 2
}
