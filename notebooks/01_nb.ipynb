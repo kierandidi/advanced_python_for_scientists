{
  "cells": [
    {
      "attachments": {},
      "cell_type": "markdown",
      "metadata": {
        "id": "AqWHE70S7uVt"
      },
      "source": [
        "# Day 1: Advanced Constructs\n",
        "\n"
      ]
    },
    {
      "attachments": {},
      "cell_type": "markdown",
      "metadata": {},
      "source": [
        "This cours is all about some more advanced Python concepts you might not see in a beginner's course. For a good overview of advanced concepts you can for example check out [this TDS Post](https://towardsdatascience.com/10-topics-python-intermediate-programmer-should-know-3c865e8533d6)"
      ]
    },
    {
      "attachments": {},
      "cell_type": "markdown",
      "metadata": {
        "id": "8PPcJxPP9HOU"
      },
      "source": [
        "## Iterators"
      ]
    },
    {
      "attachments": {},
      "cell_type": "markdown",
      "metadata": {
        "id": "VxK_Sszn9JSu"
      },
      "source": [
        "Loops in Python work differently than in languages like C++. If you want to implement a C-style loop in Python, you will probably write something like this:"
      ]
    },
    {
      "cell_type": "code",
      "execution_count": 1,
      "metadata": {
        "colab": {
          "base_uri": "https://localhost:8080/"
        },
        "id": "lBrxsnRh7n3q",
        "outputId": "a1b19bc8-94ef-438c-a58d-41443dd96593"
      },
      "outputs": [
        {
          "name": "stdout",
          "output_type": "stream",
          "text": [
            "0 1 15\n",
            "1 5 25\n",
            "2 7 32\n",
            "3 9 48\n",
            "4 10 24\n"
          ]
        }
      ],
      "source": [
        "signal = [15,25,32,48,24]\n",
        "time_points = [1,5,7,9,10]\n",
        "\n",
        "i=0\n",
        "while i < len(signal):\n",
        "  print(i, time_points[i], signal[i])\n",
        "  i += 1"
      ]
    },
    {
      "attachments": {},
      "cell_type": "markdown",
      "metadata": {
        "id": "9VUrb98p92nO"
      },
      "source": [
        "But this is kind of cumbersome. We need to track i manually, need to make sure we increment it, etc etc. So let's make it a bit nicer by using a Pythonic for loop:"
      ]
    },
    {
      "cell_type": "code",
      "execution_count": 2,
      "metadata": {
        "colab": {
          "base_uri": "https://localhost:8080/"
        },
        "id": "6E8dRiv3-GWt",
        "outputId": "dbee166d-5f1c-4507-b033-0cd356c74faf"
      },
      "outputs": [
        {
          "name": "stdout",
          "output_type": "stream",
          "text": [
            "1 15\n",
            "5 25\n",
            "7 32\n",
            "9 48\n",
            "10 24\n"
          ]
        }
      ],
      "source": [
        "for s,t in zip(signal, time_points):\n",
        "  print(t,s)"
      ]
    },
    {
      "attachments": {},
      "cell_type": "markdown",
      "metadata": {
        "id": "4Qp-X6rq-Uxv"
      },
      "source": [
        "Quite a bit shorter! If we want to get the index back, we can use the enumerate method:"
      ]
    },
    {
      "cell_type": "code",
      "execution_count": 3,
      "metadata": {
        "colab": {
          "base_uri": "https://localhost:8080/"
        },
        "id": "J4mwp4iM-ULo",
        "outputId": "3797dcef-70a7-4149-9328-a352e685c908"
      },
      "outputs": [
        {
          "name": "stdout",
          "output_type": "stream",
          "text": [
            "0 1 15\n",
            "1 5 25\n",
            "2 7 32\n",
            "3 9 48\n",
            "4 10 24\n"
          ]
        }
      ],
      "source": [
        "for i, (s,t) in enumerate(zip(signal, time_points)):\n",
        "  print(i,t,s)"
      ]
    },
    {
      "attachments": {},
      "cell_type": "markdown",
      "metadata": {
        "id": "XdA84OWA-eHO"
      },
      "source": [
        "How does Python make this so intuitive? The concept underlying this for loop is the so-called **iterator**."
      ]
    },
    {
      "attachments": {},
      "cell_type": "markdown",
      "metadata": {
        "id": "XQMw54Bc_GP5"
      },
      "source": [
        "![](https://camo.githubusercontent.com/e35ad1f313f321499924b47e3677b227bcc8c4f9a709a585cab6e3f9bd422d2c/68747470733a2f2f66696c65732e7265616c707974686f6e2e636f6d2f6d656469612f742e6261363332323264363366352e706e67)"
      ]
    },
    {
      "attachments": {},
      "cell_type": "markdown",
      "metadata": {
        "id": "6aDePNdR_Uh9"
      },
      "source": [
        "We see that the two important methods of the iterator seem to be *iter()* and *next()*. These are exacmples of so-called [Dunder or Magic Methods](https://dbader.org/blog/python-dunder-methods) (dunder because the start and end with a double underscore in their definition). Dunder methods are methods that allow instances of a class to interact with the built-in functions and operators of the language, and they are often not directly called by the user, but more used internally. Let's have a look how we can construct our own iterator:"
      ]
    },
    {
      "cell_type": "code",
      "execution_count": 21,
      "metadata": {
        "id": "_lh9qEFxAKGT"
      },
      "outputs": [],
      "source": [
        "class InfiniteIterator():\n",
        "  def __init__(self,item):\n",
        "    self.item = item\n",
        "\n",
        "  def __iter__(self):\n",
        "      return self\n",
        "\n",
        "  def __next__(self):\n",
        "    return self.item"
      ]
    },
    {
      "cell_type": "code",
      "execution_count": 22,
      "metadata": {},
      "outputs": [
        {
          "data": {
            "text/plain": [
              "'Python'"
            ]
          },
          "execution_count": 22,
          "metadata": {},
          "output_type": "execute_result"
        }
      ],
      "source": [
        "looper = InfiniteIterator('Python')\n",
        "next(looper)\n",
        "next(looper)"
      ]
    },
    {
      "cell_type": "code",
      "execution_count": null,
      "metadata": {},
      "outputs": [],
      "source": [
        "for i in InfiniteIterator('Python'):\n",
        "  print(i)"
      ]
    },
    {
      "attachments": {},
      "cell_type": "markdown",
      "metadata": {},
      "source": [
        "Nice, we created our first own iterator! However, we want to stop this iterator at some point, so wee need to implement a *StopIteration* exception. This is a special exception that is raised when an iterator is exhausted. Let's see how Python does it:"
      ]
    },
    {
      "cell_type": "code",
      "execution_count": 24,
      "metadata": {},
      "outputs": [],
      "source": [
        "signal = [15,25,32,48,24]\n",
        "\n",
        "signal_iter = iter(signal)"
      ]
    },
    {
      "cell_type": "code",
      "execution_count": 30,
      "metadata": {},
      "outputs": [
        {
          "ename": "StopIteration",
          "evalue": "",
          "output_type": "error",
          "traceback": [
            "\u001b[0;31m---------------------------------------------------------------------------\u001b[0m",
            "\u001b[0;31mStopIteration\u001b[0m                             Traceback (most recent call last)",
            "\u001b[1;32m/Users/kierandidi/advanced_python_for_scientists/notebooks/01_nb_IteratorsGenerators.ipynb Cell 17\u001b[0m in \u001b[0;36m1\n\u001b[0;32m----> <a href='vscode-notebook-cell:/Users/kierandidi/advanced_python_for_scientists/notebooks/01_nb_IteratorsGenerators.ipynb#X25sZmlsZQ%3D%3D?line=0'>1</a>\u001b[0m \u001b[39mnext\u001b[39;49m(signal_iter)\n",
            "\u001b[0;31mStopIteration\u001b[0m: "
          ]
        }
      ],
      "source": [
        "next(signal_iter)"
      ]
    },
    {
      "attachments": {},
      "cell_type": "markdown",
      "metadata": {},
      "source": [
        "Ok, Python has raised a StopIteration! For our own iterator, we can implement this as follows:"
      ]
    },
    {
      "cell_type": "code",
      "execution_count": 31,
      "metadata": {},
      "outputs": [],
      "source": [
        "class FiniteIterator():\n",
        "  def __init__(self,item, max_count):\n",
        "    self.item = item\n",
        "    self.max_count = max_count\n",
        "    self.count = 0\n",
        "\n",
        "  def __iter__(self):\n",
        "      return self\n",
        "\n",
        "  def __next__(self):\n",
        "    if self.count >= self.max_count:\n",
        "       raise StopIteration\n",
        "    self.count += 1\n",
        "    return self.item\n",
        "    "
      ]
    },
    {
      "cell_type": "code",
      "execution_count": 32,
      "metadata": {},
      "outputs": [
        {
          "name": "stdout",
          "output_type": "stream",
          "text": [
            "Python\n",
            "Python\n",
            "Python\n"
          ]
        }
      ],
      "source": [
        "looper = FiniteIterator('Python', 3)\n",
        "for i in looper:\n",
        "  print(i)"
      ]
    },
    {
      "attachments": {},
      "cell_type": "markdown",
      "metadata": {},
      "source": [
        "With this we have demystified the for loop! It is just a while loop that calls the next() method of an iterator until a StopIteration is raised. We also learned about the general concept of an iterator and an iterable:\n",
        "\n",
        "- An **iterable** is an object that has an __iter__ method which returns an **iterator** or, alternatively, which defines a __getitem__ method that can take sequential indexes starting from zero (and raises an IndexError when the indexes are no longer valid). So an iterable is an object that can be iterated over (e.g. a list, a tuple, a dictionary, a set, a string, a file, etc.)\n",
        "- An **iterator** is an object with a __next__ method that returns the next element of a sequence. If there is no next element, it raises a StopIteration exception.\n",
        "\n",
        "In our case, we fused both the iterable and the iterator into one class, but this is not necessary. We can also implement a separate iterator class. \n",
        "\n",
        "All iterable objects in Python have an __iter__ method that is called when the object is iterated over in a for loop. The __iter__ method returns an iterator object that defines a __next__ method, which accesses elements in the data structure one at a time. When there are no more elements, the __next__ method raises a StopIteration exception, which tells the for loop to terminate. All iterators must implement the __iter__ and __next__ methods. Let's see how this works:"
      ]
    },
    {
      "cell_type": "code",
      "execution_count": 19,
      "metadata": {},
      "outputs": [
        {
          "data": {
            "text/plain": [
              "1"
            ]
          },
          "execution_count": 19,
          "metadata": {},
          "output_type": "execute_result"
        }
      ],
      "source": [
        "x = 1\n",
        "l = [1,2,3]\n",
        "\n",
        "l.__iter__\n",
        "#x.__iter__\n",
        "#l.__next__\n",
        "i = l.__iter__()\n",
        "j = i.__iter__()\n",
        "j.__next__()\n",
        "#"
      ]
    },
    {
      "attachments": {},
      "cell_type": "markdown",
      "metadata": {},
      "source": [
        "## Generators\n",
        "\n",
        "Now that we know how to implement our own iterator, we can also implement our own generator. A generator is a function that returns an iterator. It looks like a normal function except that it contains yield statements for producing a series of values usable in a for-loop or that can be retrieved one at a time with the next() function. They ca be seen as **simplified iterators**, providing some syntactic sugar for creating iterators. With generators, we do not create classes with all the __init__ shebang etc, but only functions with the special *yield* statement. Let's see how we can implement our own generator:"
      ]
    },
    {
      "cell_type": "code",
      "execution_count": 33,
      "metadata": {},
      "outputs": [],
      "source": [
        "def infinite_generator(item):\n",
        "  while True:\n",
        "    yield item"
      ]
    },
    {
      "attachments": {},
      "cell_type": "markdown",
      "metadata": {},
      "source": [
        "This was simple! We just replaced the __init__ method with a function and the return statement with a yield statement. Let's see how we can use this generator:"
      ]
    },
    {
      "cell_type": "code",
      "execution_count": null,
      "metadata": {},
      "outputs": [],
      "source": [
        "for i in infinite_generator('Python'):\n",
        "  print(i)"
      ]
    },
    {
      "cell_type": "code",
      "execution_count": 34,
      "metadata": {},
      "outputs": [],
      "source": [
        "def finite_generator(item, max_count):\n",
        "  count = 0\n",
        "  while count < max_count:\n",
        "    yield item\n",
        "    count += 1"
      ]
    },
    {
      "attachments": {},
      "cell_type": "markdown",
      "metadata": {},
      "source": [
        "Let's see what happens under the hood:"
      ]
    },
    {
      "cell_type": "code",
      "execution_count": 37,
      "metadata": {},
      "outputs": [
        {
          "data": {
            "text/plain": [
              "<generator object finite_generator at 0x10d59a900>"
            ]
          },
          "execution_count": 37,
          "metadata": {},
          "output_type": "execute_result"
        }
      ],
      "source": [
        "gen = finite_generator('Python', 3)\n",
        "gen"
      ]
    },
    {
      "cell_type": "code",
      "execution_count": 41,
      "metadata": {},
      "outputs": [
        {
          "ename": "StopIteration",
          "evalue": "",
          "output_type": "error",
          "traceback": [
            "\u001b[0;31m---------------------------------------------------------------------------\u001b[0m",
            "\u001b[0;31mStopIteration\u001b[0m                             Traceback (most recent call last)",
            "\u001b[1;32m/Users/kierandidi/advanced_python_for_scientists/notebooks/01_nb_IteratorsGenerators.ipynb Cell 29\u001b[0m in \u001b[0;36m1\n\u001b[0;32m----> <a href='vscode-notebook-cell:/Users/kierandidi/advanced_python_for_scientists/notebooks/01_nb_IteratorsGenerators.ipynb#X45sZmlsZQ%3D%3D?line=0'>1</a>\u001b[0m \u001b[39mnext\u001b[39;49m(gen)\n",
            "\u001b[0;31mStopIteration\u001b[0m: "
          ]
        }
      ],
      "source": [
        "next(gen)"
      ]
    },
    {
      "attachments": {},
      "cell_type": "markdown",
      "metadata": {},
      "source": [
        "Quite similar to our iterator! What does the yield statement do? It returns a value and suspends the execution of the function. The next time the function is called, execution continues from where it left off, with the same variable values it had before yielding. This allows its code to produce a series of values over time, rather than computing them at once and sending them back like a list.\n",
        "\n",
        "A generator stops when it reaches the end of the function, or when it encounters a return statement. We can use multiple yield statements in a generator, and each time the generator is called, it will continue from the last yield statement. Let's see how this works:"
      ]
    },
    {
      "cell_type": "code",
      "execution_count": 42,
      "metadata": {},
      "outputs": [],
      "source": [
        "def threetimes_generator(item, max_count):\n",
        "    yield item\n",
        "    yield item\n",
        "    yield \"nearly empty!\""
      ]
    },
    {
      "cell_type": "code",
      "execution_count": 43,
      "metadata": {},
      "outputs": [
        {
          "name": "stdout",
          "output_type": "stream",
          "text": [
            "Python\n",
            "Python\n",
            "nearly empty!\n"
          ]
        }
      ],
      "source": [
        "for i in threetimes_generator('Python', 3):\n",
        "  print(i)"
      ]
    },
    {
      "attachments": {},
      "cell_type": "markdown",
      "metadata": {},
      "source": [
        "To make it even easier to create generators, we can add even more syntactiv sugar via so-called generator expressions. These are very similar to list comprehensions, but instead of creating a list, they create a generator. Let's see how this works:"
      ]
    },
    {
      "cell_type": "code",
      "execution_count": 48,
      "metadata": {},
      "outputs": [
        {
          "name": "stdout",
          "output_type": "stream",
          "text": [
            "8.448728\n",
            "0.000112\n"
          ]
        }
      ],
      "source": [
        "#List comprehension of numbers 1 to 1 million\n",
        "numbers_list = [i for i in range(1,1000001)]\n",
        "#size of list in mega bytes\n",
        "import sys\n",
        "print(sys.getsizeof(numbers_list)/1000000)\n",
        "\n",
        "#Generator expression of numbers 1 to 1 million\n",
        "numbers_gen = (i for i in range(1,1000001))\n",
        "#size of generator in mega bytes\n",
        "print(sys.getsizeof(numbers_gen)/1000000)"
      ]
    },
    {
      "attachments": {},
      "cell_type": "markdown",
      "metadata": {},
      "source": [
        "When would you use list comprehensions versus generator expressions? If you need to iterate over the result multiple times, you probably want to use a list comprehension. If you are just going to iterate over it once, however, a generator expression is more efficient. This is because it does not create an entire list of results, but instead returns a generator object that can be iterated over. This is especially important if the number of items in the sequence is large or potentially infinite, as might be the case when you are working with iterators that stream data from a file or network connection.\n",
        "\n",
        "Another use case where list comprehensions are more useful is when you want to further work with the result (use the result as an argument to a function or index into it), like in the following example:"
      ]
    },
    {
      "cell_type": "code",
      "execution_count": 49,
      "metadata": {},
      "outputs": [
        {
          "name": "stdout",
          "output_type": "stream",
          "text": [
            "101\n"
          ]
        },
        {
          "ename": "TypeError",
          "evalue": "'generator' object is not subscriptable",
          "output_type": "error",
          "traceback": [
            "\u001b[0;31m---------------------------------------------------------------------------\u001b[0m",
            "\u001b[0;31mTypeError\u001b[0m                                 Traceback (most recent call last)",
            "\u001b[1;32m/Users/kierandidi/advanced_python_for_scientists/notebooks/01_nb_IteratorsGenerators.ipynb Cell 36\u001b[0m in \u001b[0;36m2\n\u001b[1;32m      <a href='vscode-notebook-cell:/Users/kierandidi/advanced_python_for_scientists/notebooks/01_nb_IteratorsGenerators.ipynb#X60sZmlsZQ%3D%3D?line=0'>1</a>\u001b[0m \u001b[39mprint\u001b[39m(numbers_list[\u001b[39m100\u001b[39m])\n\u001b[0;32m----> <a href='vscode-notebook-cell:/Users/kierandidi/advanced_python_for_scientists/notebooks/01_nb_IteratorsGenerators.ipynb#X60sZmlsZQ%3D%3D?line=1'>2</a>\u001b[0m \u001b[39mprint\u001b[39m(numbers_gen[\u001b[39m100\u001b[39;49m])\n",
            "\u001b[0;31mTypeError\u001b[0m: 'generator' object is not subscriptable"
          ]
        }
      ],
      "source": [
        "print(numbers_list[100])\n",
        "print(numbers_gen[100])"
      ]
    },
    {
      "attachments": {},
      "cell_type": "markdown",
      "metadata": {},
      "source": [
        "Finally, let's see how we can chain together multiple generators/iterators."
      ]
    },
    {
      "cell_type": "code",
      "execution_count": 52,
      "metadata": {},
      "outputs": [
        {
          "data": {
            "text/plain": [
              "[False, True, True, False, True, True, True, True, True, False]"
            ]
          },
          "execution_count": 52,
          "metadata": {},
          "output_type": "execute_result"
        }
      ],
      "source": [
        "#stream of values from iterator gets passed to another iterator\n",
        "data = [-1,5,10,3,-4,6,-78,4,65,2]\n",
        "\n",
        "def absolute(data):\n",
        "  for i in data:\n",
        "    yield abs(i)\n",
        "\n",
        "def square(data):\n",
        "  for i in data:\n",
        "    yield i**2\n",
        "\n",
        "def add_one(data):\n",
        "    for i in data:\n",
        "        yield i+1\n",
        "\n",
        "def is_big(data):\n",
        "    for i in data:\n",
        "        yield i>10\n",
        "result = is_big(add_one(square(absolute(data))))\n",
        "list(result)"
      ]
    },
    {
      "attachments": {},
      "cell_type": "markdown",
      "metadata": {},
      "source": [
        "## Closures and Decorators"
      ]
    },
    {
      "attachments": {},
      "cell_type": "markdown",
      "metadata": {},
      "source": [
        "We will now talk about closures and decorators. These are advanced topics, but they are very useful to know about. First, let's think about what we can do with functions in Python (and other languages). We can pass them as arguments to other functions, we can return them from functions, and we can assign them to variables. People often say that functions are *first-class objects* in Python. Let's see how this works:"
      ]
    },
    {
      "cell_type": "code",
      "execution_count": 55,
      "metadata": {},
      "outputs": [
        {
          "data": {
            "text/plain": [
              "'greet'"
            ]
          },
          "execution_count": 55,
          "metadata": {},
          "output_type": "execute_result"
        }
      ],
      "source": [
        "def greet(name):\n",
        "    return \"Hello, \" + name + \"!\"\n",
        "\n",
        "greet('Pete')\n",
        "say_hello = greet\n",
        "say_hello('Pete')\n",
        "del greet\n",
        "# greet('Pete')\n",
        "say_hello('Pete')\n",
        "say_hello.__name__\n",
        "say_hello.__qualname__"
      ]
    },
    {
      "attachments": {},
      "cell_type": "markdown",
      "metadata": {},
      "source": [
        "So we can assign functions different names, we can pass them as arguments to other functions, and we can return them from functions. Functions that take other functions as arguments are called **higher-order functions**. Higher-order functions are often used to abstract away common patterns, so that we can reuse the same code with different functions. Let's see how this works:"
      ]
    },
    {
      "cell_type": "code",
      "execution_count": 58,
      "metadata": {},
      "outputs": [
        {
          "name": "stdout",
          "output_type": "stream",
          "text": [
            "178\n",
            "10516\n",
            "1\n"
          ]
        }
      ],
      "source": [
        "def count(func, data):\n",
        "    numbers = func(data)\n",
        "    return sum(numbers)\n",
        "\n",
        "data = [-1,5,10,3,-4,6,-78,4,65,2]\n",
        "\n",
        "print(count(absolute, data))\n",
        "print(count(square, data))"
      ]
    },
    {
      "attachments": {},
      "cell_type": "markdown",
      "metadata": {},
      "source": [
        "We will see more of these higher-order functions when we talk tomorrow about functional programming and constructs like map and reduce.\n",
        "\n",
        "There is another type of functions called **nested/inner functions**. These are functions that are defined inside another function. Let's see how this works:"
      ]
    },
    {
      "cell_type": "code",
      "execution_count": 63,
      "metadata": {},
      "outputs": [
        {
          "data": {
            "text/plain": [
              "'Hello from inner function, I got 1 from outer function'"
            ]
          },
          "execution_count": 63,
          "metadata": {},
          "output_type": "execute_result"
        }
      ],
      "source": [
        "#example of inner function\n",
        "def outer(input):\n",
        "    def inner(i):\n",
        "        return f\"Hello from inner function, I got {i} from outer function\"\n",
        "    return inner(input)\n",
        "\n",
        "outer(1)"
      ]
    },
    {
      "attachments": {},
      "cell_type": "markdown",
      "metadata": {},
      "source": [
        "Let's start with closures. A closure is a function that retains the bindings of the free variables that exist when the function is defined, so that they can be used later when the function is invoked and the defining scope is no longer available. "
      ]
    },
    {
      "cell_type": "code",
      "execution_count": null,
      "metadata": {},
      "outputs": [],
      "source": []
    },
    {
      "attachments": {},
      "cell_type": "markdown",
      "metadata": {},
      "source": [
        "### Decorators"
      ]
    },
    {
      "cell_type": "code",
      "execution_count": 64,
      "metadata": {},
      "outputs": [],
      "source": [
        "def log_decorator(func):\n",
        "    def wrapper(*args, **kwargs):\n",
        "        # Log before executing the function\n",
        "        print(f\"Calling {func.__name__} with args: {args}, kwargs: {kwargs}\")\n",
        "\n",
        "        # Execute the function\n",
        "        result = func(*args, **kwargs)\n",
        "\n",
        "        # Log after executing the function\n",
        "        print(f\"{func.__name__} returned: {result}\")\n",
        "\n",
        "        return result\n",
        "\n",
        "    return wrapper"
      ]
    },
    {
      "cell_type": "code",
      "execution_count": 74,
      "metadata": {},
      "outputs": [
        {
          "name": "stdout",
          "output_type": "stream",
          "text": [
            "Calling compute with args: (1, 2, '+'), kwargs: {}\n",
            "compute returned: 3\n"
          ]
        },
        {
          "data": {
            "text/plain": [
              "3"
            ]
          },
          "execution_count": 74,
          "metadata": {},
          "output_type": "execute_result"
        }
      ],
      "source": [
        "@log_decorator\n",
        "def compute(a,b,operator):\n",
        "    \"\"\"Computes a simple arithmetic operation\"\"\"\n",
        "    if operator == '+':\n",
        "        return a+b\n",
        "    elif operator == '-':\n",
        "        return a-b\n",
        "    elif operator == '*':\n",
        "        return a*b\n",
        "    elif operator == '/':\n",
        "        return a/b\n",
        "\n",
        "compute(1,2,'+')"
      ]
    },
    {
      "cell_type": "code",
      "execution_count": 68,
      "metadata": {},
      "outputs": [
        {
          "name": "stdout",
          "output_type": "stream",
          "text": [
            "\u001b[0;31mSignature:\u001b[0m \u001b[0mcompute\u001b[0m\u001b[0;34m(\u001b[0m\u001b[0;34m*\u001b[0m\u001b[0margs\u001b[0m\u001b[0;34m,\u001b[0m \u001b[0;34m**\u001b[0m\u001b[0mkwargs\u001b[0m\u001b[0;34m)\u001b[0m\u001b[0;34m\u001b[0m\u001b[0;34m\u001b[0m\u001b[0m\n",
            "\u001b[0;31mDocstring:\u001b[0m <no docstring>\n",
            "\u001b[0;31mFile:\u001b[0m      /var/folders/6p/x1pd8qmd74j77pprvdl4wcxr0000gn/T/ipykernel_30074/2942572205.py\n",
            "\u001b[0;31mType:\u001b[0m      function\n"
          ]
        }
      ],
      "source": [
        "?compute"
      ]
    },
    {
      "cell_type": "code",
      "execution_count": 70,
      "metadata": {},
      "outputs": [],
      "source": [
        "compute.__name__\n",
        "compute.__doc__"
      ]
    },
    {
      "cell_type": "code",
      "execution_count": 73,
      "metadata": {},
      "outputs": [],
      "source": [
        "import functools\n",
        "\n",
        "def log_decorator(func):\n",
        "    @functools.wraps(func)\n",
        "    def wrapper(*args, **kwargs):\n",
        "        # Log before executing the function\n",
        "        print(f\"Calling {func.__name__} with args: {args}, kwargs: {kwargs}\")\n",
        "\n",
        "        # Execute the function\n",
        "        result = func(*args, **kwargs)\n",
        "\n",
        "        # Log after executing the function\n",
        "        print(f\"{func.__name__} returned: {result}\")\n",
        "\n",
        "        return result\n",
        "\n",
        "    return wrapper"
      ]
    },
    {
      "cell_type": "code",
      "execution_count": 75,
      "metadata": {},
      "outputs": [
        {
          "name": "stdout",
          "output_type": "stream",
          "text": [
            "Calling compute with args: (1, 2, '+'), kwargs: {}\n",
            "compute returned: 3\n"
          ]
        },
        {
          "name": "stdout",
          "output_type": "stream",
          "text": [
            "\u001b[0;31mSignature:\u001b[0m \u001b[0mcompute\u001b[0m\u001b[0;34m(\u001b[0m\u001b[0ma\u001b[0m\u001b[0;34m,\u001b[0m \u001b[0mb\u001b[0m\u001b[0;34m,\u001b[0m \u001b[0moperator\u001b[0m\u001b[0;34m)\u001b[0m\u001b[0;34m\u001b[0m\u001b[0;34m\u001b[0m\u001b[0m\n",
            "\u001b[0;31mDocstring:\u001b[0m Computes a simple arithmetic operation\n",
            "\u001b[0;31mFile:\u001b[0m      /var/folders/6p/x1pd8qmd74j77pprvdl4wcxr0000gn/T/ipykernel_30074/3294929627.py\n",
            "\u001b[0;31mType:\u001b[0m      function\n"
          ]
        }
      ],
      "source": [
        "@log_decorator\n",
        "def compute(a,b,operator):\n",
        "    \"\"\"Computes a simple arithmetic operation\"\"\"\n",
        "    if operator == '+':\n",
        "        return a+b\n",
        "    elif operator == '-':\n",
        "        return a-b\n",
        "    elif operator == '*':\n",
        "        return a*b\n",
        "    elif operator == '/':\n",
        "        return a/b\n",
        "\n",
        "compute(1,2,'+')\n",
        "?compute"
      ]
    },
    {
      "attachments": {},
      "cell_type": "markdown",
      "metadata": {},
      "source": [
        "With this we have written a fully fledged logging decorator! If you are interested in pushing this further, [here](https://ankitbko.github.io/blog/2021/04/logging-in-python/) is an article that shows how to make this even more advanced."
      ]
    },
    {
      "attachments": {},
      "cell_type": "markdown",
      "metadata": {},
      "source": [
        "## Descriptors and Properties\n",
        "\n",
        "Descriptors are a powerful feature of Python that allow us to customize attribute access. They are the mechanism behind [properties, methods, static methods, class methods, and super](https://realpython.com/python-descriptors/). One could say that they put the magic into object accesses.\n",
        "\n",
        "Descriptors are a protocol consisting of three methods: \\_\\_get__, \\_\\_set__, and \\_\\_delete__. If any of these methods are defined for an object, then that object is said to be a descriptor.\n",
        "\n",
        "If only \\_\\_get__ is defined, then the object is a **non-data descriptor**. If \\_\\_set__ or \\_\\_delete__ are defined, then the object is a **data descriptor**. If none of these methods are defined, then the object is a **non-descriptor**."
      ]
    },
    {
      "attachments": {},
      "cell_type": "markdown",
      "metadata": {},
      "source": [
        "Let's say we want to create a class describing a protein structure. We want to set a PDB ID and not allow it to be changed."
      ]
    },
    {
      "cell_type": "code",
      "execution_count": 46,
      "metadata": {},
      "outputs": [
        {
          "name": "stdout",
          "output_type": "stream",
          "text": [
            "Getting PDB ID\n"
          ]
        },
        {
          "data": {
            "text/plain": [
              "'1abc'"
            ]
          },
          "execution_count": 46,
          "metadata": {},
          "output_type": "execute_result"
        }
      ],
      "source": [
        "class PDBIdentifier:\n",
        "\n",
        "    def __get__(self, obj, type=None):\n",
        "        print(\"Getting PDB ID\")\n",
        "        return '1abc'\n",
        "\n",
        "    def __set__(self, obj, pdb_id):\n",
        "        print(\"accessing the attribute to set the value\")\n",
        "        raise AttributeError(\"Cannot change the value\")\n",
        "\n",
        "    def __delete__(self, obj):\n",
        "        raise AttributeError(\"Can't delete attribute\")\n",
        "    \n",
        "#protein structure class with non-data descriptors\n",
        "class ProteinStructure:\n",
        "        pdb_id = PDBIdentifier()\n",
        "    \n",
        "x = ProteinStructure()\n",
        "x.pdb_id"
      ]
    },
    {
      "attachments": {},
      "cell_type": "markdown",
      "metadata": {},
      "source": [
        "This works, but is still not ideal. We can still change the PDB ID by accessing the attribute directly. We can fix this by using a descriptor, here in the form of a property. Let's see how this works:"
      ]
    },
    {
      "cell_type": "code",
      "execution_count": 35,
      "metadata": {},
      "outputs": [
        {
          "name": "stdout",
          "output_type": "stream",
          "text": [
            "Getting PDB ID\n"
          ]
        },
        {
          "data": {
            "text/plain": [
              "'1LOL'"
            ]
          },
          "execution_count": 35,
          "metadata": {},
          "output_type": "execute_result"
        }
      ],
      "source": [
        "class ProteinStructure:\n",
        "    def __init__(self, pdb_id):\n",
        "        self.pdb_id = pdb_id\n",
        "        self.path = f\"/data/pdb/{pdb_id}.pdb\"\n",
        "\n",
        "    def getter(self):\n",
        "        print(\"Getting PDB ID\")\n",
        "        return self._pdb_id\n",
        "\n",
        "    def setter(self, pdb_id):\n",
        "        if not isinstance(pdb_id, str):\n",
        "            raise TypeError(\"PDB ID must be a string\")\n",
        "        if not pdb_id.isalnum():\n",
        "            raise ValueError(\"PDB ID must be alphanumeric\")\n",
        "        if not len(pdb_id) == 4:\n",
        "            raise ValueError(\"PDB ID must be 4 characters long\")\n",
        "        self._pdb_id = pdb_id\n",
        "\n",
        "    def deleter(self):\n",
        "        raise AttributeError(\"Can't delete attribute\")\n",
        "    \n",
        "    pdb_id = property(getter, setter, deleter)\n",
        "\n",
        "protein = ProteinStructure('1LOL')\n",
        "protein.pdb_id"
      ]
    },
    {
      "attachments": {},
      "cell_type": "markdown",
      "metadata": {},
      "source": [
        "Nice, now we have a property that we can set and get, but not delete. The function `property()` is a built-in function that creates and returns a property object. The signature of the property function is:\n",
        "\n",
        "`property(fget=None, fset=None, fdel=None, doc=None) -> object`\n",
        "\n",
        "So it implements the descriptor protocol we talked about above.\n",
        "\n",
        "We can also use the property as a decorator. Let's see how this works:"
      ]
    },
    {
      "cell_type": "code",
      "execution_count": 47,
      "metadata": {},
      "outputs": [],
      "source": [
        "class ProteinStructure:\n",
        "    def __init__(self, pdb_id):\n",
        "        self.pdb_id = pdb_id\n",
        "        self.path = f\"/data/pdb/{pdb_id}.pdb\"\n",
        "\n",
        "    @property\n",
        "    def pdb_id(self):\n",
        "        print(\"Getting PDB ID\")\n",
        "        return self._pdb_id\n",
        "\n",
        "    @pdb_id.setter\n",
        "    def pdb_id(self, pdb_id):\n",
        "        if not isinstance(pdb_id, str):\n",
        "            raise TypeError(\"PDB ID must be a string\")\n",
        "        if not pdb_id.isalnum():\n",
        "            raise ValueError(\"PDB ID must be alphanumeric\")\n",
        "        if not len(pdb_id) == 4:\n",
        "            raise ValueError(\"PDB ID must be 4 characters long\")\n",
        "        self._pdb_id = pdb_id\n",
        "\n",
        "    @pdb_id.deleter\n",
        "    def pdb_id(self):\n",
        "        raise AttributeError(\"Can't delete attribute\")"
      ]
    },
    {
      "cell_type": "code",
      "execution_count": 48,
      "metadata": {},
      "outputs": [
        {
          "name": "stdout",
          "output_type": "stream",
          "text": [
            "Getting PDB ID\n"
          ]
        },
        {
          "data": {
            "text/plain": [
              "'1IGG'"
            ]
          },
          "execution_count": 48,
          "metadata": {},
          "output_type": "execute_result"
        }
      ],
      "source": [
        "igg = ProteinStructure('1IGG')\n",
        "igg.pdb_id"
      ]
    },
    {
      "attachments": {},
      "cell_type": "markdown",
      "metadata": {},
      "source": [
        "Nice, this makes it even easier to use properties! After all this stuff, you might ask yourself what we need this for. Below are some answers to frequently asked questions about properties and descriptors I get.\n",
        "\n",
        "- Why should we use properties? They allow us to customize attribute access. This is useful if we want to do some checks before setting an attribute, or if we want to make sure that an attribute is always in a certain format. \n",
        "\n",
        "- What is the difference between a property and a method? A property is accessed like an attribute, while a method is called with parentheses. \n",
        "\n",
        "- What is the difference between a property and a descriptor? From [StackOverFlow](https://stackoverflow.com/questions/12846116/python-descriptor-vs-property#:~:text=The%20Cliff's%20Notes%20version%3A%20descriptors,properties%20are%20implemented%20using%20descriptors.): descriptors are a low-level mechanism that lets you hook into an object's attributes being accessed. Properties are a high-level application of this; that is, properties are implemented using descriptors. Or, better yet, properties are descriptors that are already provided for you in the standard library.\n",
        "\n",
        "    If you need a simple way to return a computed value from an attribute read, or to call a function on an attribute write, use the @property decorator. The descriptor API is more flexible, but less convenient, and arguably \"overkill\" and non-idiomatic in this situation. It's useful for more advanced use cases, like implementing bound methods, or static and class methods; when you need to know, for example, if the attribute was accessed through the type object, or an instance of the type.\n",
        "\n",
        "- Why do we use properties and descriptors and not plain old getter and setter methods as in C or Java? The use of getter and setter methods is more prevalent in C++ and Java than in Python due to the fundamental differences in how these languages handle data encapsulation and the principle of object-oriented programming.\n",
        "\n",
        "    1. Access Modifiers: In languages like C++ and Java, data encapsulation is achieved through the use of access modifiers (public, private, protected), which restrict direct access to class fields. Hence, to access or modify these private fields, getter (accessor) and setter (mutator) methods are used. This is in line with the principle of encapsulation in object-oriented programming, where you want to hide the internal representation of an object and only expose methods that are safe to use.\n",
        "\n",
        "    2. Python Approach: Python, on the other hand, does not have strong support for access modifiers in the same sense. All attributes in Python are technically public, though by convention, a leading underscore is used to denote a field that should be treated as if it were private. Python prefers simplicity and readability, and the use of getters and setters for simple attribute access or assignment can be considered unpythonic.\n",
        "\n",
        "    3. Properties in Python: Python provides a more elegant solution in the form of property decorators, which allow you to define methods that are accessed like simple attributes. This means you can start with a simple attribute and, if you later need special behavior when that attribute is accessed or modified, you can add it with @property and @<attribute>.setter decorators without changing the attribute's interface.\n",
        "\n",
        "    This approach also supports the principle of encapsulation, as these methods can hide complex operations and validations behind what appears to be simple attribute access and assignment, but it does so in a way that feels more natural in Python."
      ]
    },
    {
      "attachments": {},
      "cell_type": "markdown",
      "metadata": {},
      "source": [
        "If you want to learn/recap more about properties and descriptors, I recommend [this article](https://realpython.com/python-descriptors/) and [this video](https://www.youtube.com/watch?v=vBys0SwYvCQ).\n",
        "\n",
        "Most of the time, though, you won't work with descriptors directly, but more often with properties. Properties are descriptors that are already provided for you in the standard library and are well described in [this article](https://realpython.com/python-property/)."
      ]
    }
  ],
  "metadata": {
    "colab": {
      "provenance": []
    },
    "kernelspec": {
      "display_name": "Python 3",
      "name": "python3"
    },
    "language_info": {
      "codemirror_mode": {
        "name": "ipython",
        "version": 3
      },
      "file_extension": ".py",
      "mimetype": "text/x-python",
      "name": "python",
      "nbconvert_exporter": "python",
      "pygments_lexer": "ipython3",
      "version": "3.9.13"
    }
  },
  "nbformat": 4,
  "nbformat_minor": 0
}
