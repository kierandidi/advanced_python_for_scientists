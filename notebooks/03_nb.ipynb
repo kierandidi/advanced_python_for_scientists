{
 "cells": [
  {
   "attachments": {},
   "cell_type": "markdown",
   "metadata": {},
   "source": [
    "# Day 3: Useful stuff"
   ]
  },
  {
   "attachments": {},
   "cell_type": "markdown",
   "metadata": {},
   "source": [
    "## Itertools and Functools\n",
    "\n"
   ]
  },
  {
   "attachments": {},
   "cell_type": "markdown",
   "metadata": {},
   "source": [
    "## Itertools\n",
    "\n",
    "On day 1, we talked about iterables and iterators. As a reminder:\n",
    "- An iterable is an object that can be iterated over (e.g. a list) and that has an `__iter__` method. \n",
    "- An iterator is an object that can be iterated over (e.g. a list) and that has an `__iter__` and a `__next__` method.\n",
    "\n",
    "A bit more information about them from the [Python documentation](https://docs.python.org/3/glossary.html#term-iterable):\n",
    "\n",
    "- **iterable**\n",
    "    An object capable of returning its members one at a time. Examples of iterables include all sequence types (such as list, str, and tuple) and some non-sequence types like dict, file objects, and objects of any classes you define with an __iter__() method or with a __getitem__() method that implements sequence semantics.\n",
    "\n",
    "    Iterables can be used in a for loop and in many other places where a sequence is needed (zip(), map(), …). When an iterable object is passed as an argument to the built-in function iter(), it returns an iterator for the object. This iterator is good for one pass over the set of values. When using iterables, it is usually not necessary to call iter() or deal with iterator objects yourself. The for statement does that automatically for you, creating a temporary unnamed variable to hold the iterator for the duration of the loop. See also iterator, sequence, and generator.\n",
    "\n",
    "- **iterator**\n",
    "    An object representing a stream of data. Repeated calls to the iterator’s __next__() method (or passing it to the built-in function next()) return successive items in the stream. When no more data are available a StopIteration exception is raised instead. At this point, the iterator object is exhausted and any further calls to its __next__() method just raise StopIteration again. Iterators are required to have an __iter__() method that returns the iterator object itself so every iterator is also iterable and may be used in most places where other iterables are accepted. One notable exception is code which attempts multiple iteration passes. A container object (such as a list) produces a fresh new iterator each time you pass it to the iter() function or use it in a for loop. Attempting this with an iterator will just return the same exhausted iterator object used in the previous iteration pass, making it appear like an empty container.\n",
    "\n",
    "Itertools is a module that provides a set of functions that operate on iterables. It is part of the standard library, so you don't need to install it. It creates more complex and powerful iterators from simpler ones. This makes it possible to write very efficient code that does not need to create intermediate lists, so our code is faster and uses less memory.\n",
    "\n",
    "Why would you want to do that? Well, think about some of the functions like `enumerate()` or `zip()` that we have already seen. They take iterables/iterators as an argument and return more powerful constructs. Itertools provides a lot of other functions that do similar things, but in a more general way.\n",
    "\n",
    "First let's look at a short glossary of useful functions in itertools (from [here](https://jmduke.com/2013/11/29/itertools)) and then we'll look at how we can use them in the wild."
   ]
  },
  {
   "cell_type": "code",
   "execution_count": 15,
   "metadata": {},
   "outputs": [],
   "source": [
    "import itertools\n",
    "\n",
    "letters = ['a', 'b', 'c', 'd', 'e', 'f']\n",
    "booleans = [1, 0, 1, 0, 0, 1]\n",
    "numbers = [23, 20, 44, 32, 7, 12]\n",
    "decimals = [0.1, 0.7, 0.4, 0.4, 0.5]"
   ]
  },
  {
   "cell_type": "code",
   "execution_count": 16,
   "metadata": {},
   "outputs": [
    {
     "name": "stdout",
     "output_type": "stream",
     "text": [
      "<itertools.chain object at 0x107ca6e20>\n",
      "['a', 'b', 'c', 'd', 'e', 'f', 1, 0, 1, 0, 0, 1, 0.1, 0.7, 0.4, 0.4, 0.5]\n",
      "['a', 'b', 'c', 'd', 'e', 'f', 1, 0, 1, 0, 0, 1, 0.1, 0.7, 0.4, 0.4, 0.5]\n"
     ]
    }
   ],
   "source": [
    "#chain() - combines several iterables into one long one\n",
    "print(itertools.chain(letters, booleans, decimals))\n",
    "print(list(itertools.chain(letters, booleans, decimals)))\n",
    "\n",
    "#chain.from_iterable() - flattens one iterable of iterables\n",
    "print(list(itertools.chain.from_iterable([letters, booleans, decimals])))"
   ]
  },
  {
   "cell_type": "code",
   "execution_count": 17,
   "metadata": {},
   "outputs": [
    {
     "name": "stdout",
     "output_type": "stream",
     "text": [
      "10\n",
      "10.1\n"
     ]
    }
   ],
   "source": [
    "#count() - infinite iterator, returns evenly spaced values starting with the number you pass in\n",
    "counter = itertools.count(10, 0.1)\n",
    "print(next(counter))\n",
    "print(next(counter))"
   ]
  },
  {
   "cell_type": "code",
   "execution_count": 22,
   "metadata": {},
   "outputs": [
    {
     "name": "stdout",
     "output_type": "stream",
     "text": [
      "On\n",
      "On\n",
      "On\n"
     ]
    }
   ],
   "source": [
    "#repeat() - infinite iterator, returns the element you pass in over and over again (can be made finite with times argument)\n",
    "repeater = itertools.repeat('On', 3)\n",
    "print(next(repeater))\n",
    "print(next(repeater))\n",
    "print(next(repeater))\n",
    "# print(next(repeater))"
   ]
  },
  {
   "cell_type": "code",
   "execution_count": null,
   "metadata": {},
   "outputs": [],
   "source": [
    "#cycle() - infinite iterator, returns elements from the iterable you pass in over and over again\n",
    "cycle_counter = itertools.cycle(['On', 'Off'])\n",
    "print(next(cycle_counter))\n",
    "print(next(cycle_counter))\n",
    "print(next(cycle_counter))"
   ]
  },
  {
   "cell_type": "code",
   "execution_count": 18,
   "metadata": {},
   "outputs": [
    {
     "name": "stdout",
     "output_type": "stream",
     "text": [
      "['a', 'c', 'f']\n"
     ]
    }
   ],
   "source": [
    "#compress() - filters one iterable with another\n",
    "print(list(itertools.compress(letters, booleans)))\n"
   ]
  },
  {
   "cell_type": "code",
   "execution_count": 7,
   "metadata": {},
   "outputs": [
    {
     "name": "stdout",
     "output_type": "stream",
     "text": [
      "[6, 4, 1]\n",
      "[]\n"
     ]
    }
   ],
   "source": [
    "#dropwhile() - returns an iterator that returns elements of the iterable after a certain condition becomes false for the first time\n",
    "print(list(itertools.dropwhile(lambda x: x<5, [1, 4, 6, 4, 1])))\n",
    "print(list(itertools.dropwhile(lambda x: x<5, [1, 4, 0, 0, 1])))\n"
   ]
  },
  {
   "cell_type": "code",
   "execution_count": 8,
   "metadata": {},
   "outputs": [
    {
     "name": "stdout",
     "output_type": "stream",
     "text": [
      "[0, 2, 4, 6, 8]\n"
     ]
    }
   ],
   "source": [
    "#filterfalse() - returns an iterator that returns elements of the iterable for which the passed in function returns false\n",
    "print(list(itertools.filterfalse(lambda x: x%2, range(10))))"
   ]
  },
  {
   "cell_type": "code",
   "execution_count": 9,
   "metadata": {},
   "outputs": [
    {
     "name": "stdout",
     "output_type": "stream",
     "text": [
      "[('a', 0), ('b', 1), ('c', 2), ('d', '?'), ('e', '?'), ('f', '?'), ('g', '?')]\n"
     ]
    }
   ],
   "source": [
    "#zip_longest() - returns an iterator that aggregates elements from two or more iterables. If the iterables are of uneven length, missing values are filled-in with fillvalue. Iteration continues until the longest iterable is exhausted\n",
    "print(list(itertools.zip_longest('abcdefg', range(3), fillvalue='?')))"
   ]
  },
  {
   "cell_type": "code",
   "execution_count": 12,
   "metadata": {},
   "outputs": [
    {
     "name": "stdout",
     "output_type": "stream",
     "text": [
      "['a', 'c', 'e', 'g']\n"
     ]
    }
   ],
   "source": [
    "#isslice() - returns an iterator that returns selected elements from the iterable. It takes three arguments: start, stop, and step\n",
    "print(list(itertools.islice('abcdefg', 0, None, 2)))"
   ]
  },
  {
   "cell_type": "code",
   "execution_count": 23,
   "metadata": {},
   "outputs": [
    {
     "name": "stdout",
     "output_type": "stream",
     "text": [
      "[32, 9, 1000]\n"
     ]
    }
   ],
   "source": [
    "#starmap() - returns an iterator that computes the function using arguments obtained from the iterable\n",
    "print(list(itertools.starmap(pow, [(2,5), (3,2), (10,3)])))"
   ]
  },
  {
   "cell_type": "code",
   "execution_count": 29,
   "metadata": {},
   "outputs": [
    {
     "name": "stdout",
     "output_type": "stream",
     "text": [
      "(<itertools._tee object at 0x10d08b1c0>, <itertools._tee object at 0x10d087940>, <itertools._tee object at 0x107b9b9c0>)\n",
      "[0, 1, 2, 3, 4]\n",
      "[0, 1, 2, 3, 4]\n",
      "[0, 1, 2, 3, 4]\n"
     ]
    }
   ],
   "source": [
    "#tee() - returns several independent iterators (defaults to 2) based on a single original input\n",
    "it = itertools.tee(range(5), 3)\n",
    "print(it)\n",
    "print(list(it[0]))\n",
    "print(list(it[1]))\n",
    "print(list(it[2]))"
   ]
  },
  {
   "attachments": {},
   "cell_type": "markdown",
   "metadata": {},
   "source": [
    "It is also interesting to note that some methods that were originally in itertools have been moved to the built-in functions in Python 3. For example, `zip()`, `map()` and `filter()` are now built-in functions, but were originally in the itertools library as `izip()`, `imap()` and `ifilter()` (the standard library functions back then returned lists (iterables), not iterators, making them slower and less memory efficient). You can find more information about this [here](https://docs.python.org/3/library/itertools.html#itertools-recipes)."
   ]
  },
  {
   "attachments": {},
   "cell_type": "markdown",
   "metadata": {},
   "source": [
    "Now let's look at some [recipes](https://docs.python.org/3/library/itertools.html#itertools-recipes) from the itertools documentation. All of these and more are implemented in the `more_itertools` library, which you can [install](https://more-itertools.readthedocs.io/en/latest/index.html) with `pip install more_itertools`."
   ]
  },
  {
   "cell_type": "code",
   "execution_count": 14,
   "metadata": {},
   "outputs": [
    {
     "name": "stdout",
     "output_type": "stream",
     "text": [
      "[('A', 'B', 'C'), ('D', 'E', 'F'), ('G', 'H', 'I'), ('J', 'K', 'L'), ('M', 'N', 'O'), ('P',)]\n"
     ]
    }
   ],
   "source": [
    "def batched(iterable, n):\n",
    "    \"Batch data into tuples of length n. The last batch may be shorter.\"\n",
    "    # batched('ABCDEFG', 3) --> ABC DEF G\n",
    "    if n < 1:\n",
    "        raise ValueError('n must be at least one')\n",
    "    it = iter(iterable)\n",
    "    while batch := tuple(itertools.islice(it, n)):\n",
    "        yield batch\n",
    "\n",
    "print(list(batched('ABCDEFGHIJKLMNOP', 3)))"
   ]
  },
  {
   "cell_type": "code",
   "execution_count": 31,
   "metadata": {},
   "outputs": [
    {
     "name": "stdout",
     "output_type": "stream",
     "text": [
      "[32, 32, 32, 32, 32]\n"
     ]
    }
   ],
   "source": [
    "def repeatfunc(func, times=None, *args):\n",
    "    \"\"\"Repeat calls to func with specified arguments.\n",
    "\n",
    "    Example:  repeatfunc(random.random)\n",
    "    \"\"\"\n",
    "    if times is None:\n",
    "        return itertools.starmap(func, itertools.repeat(args))\n",
    "    return itertools.starmap(func, itertools.repeat(args, times))\n",
    "\n",
    "print(list(repeatfunc(pow, 5, 2, 5)))"
   ]
  },
  {
   "cell_type": "code",
   "execution_count": 26,
   "metadata": {},
   "outputs": [
    {
     "name": "stdout",
     "output_type": "stream",
     "text": [
      "[('A', 'B', 'C', 'D'), ('B', 'C', 'D', 'E'), ('C', 'D', 'E', 'F'), ('D', 'E', 'F', 'G')]\n"
     ]
    }
   ],
   "source": [
    "import collections\n",
    "\n",
    "def sliding_window(iterable, n):\n",
    "    # sliding_window('ABCDEFG', 4) --> ABCD BCDE CDEF DEFG\n",
    "    it = iter(iterable)\n",
    "    window = collections.deque(itertools.islice(it, n), maxlen=n)\n",
    "    if len(window) == n:\n",
    "        yield tuple(window)\n",
    "    for x in it:\n",
    "        window.append(x)\n",
    "        yield tuple(window)\n",
    "\n",
    "print(list(sliding_window('ABCDEFG', 4)))"
   ]
  },
  {
   "cell_type": "code",
   "execution_count": 32,
   "metadata": {},
   "outputs": [
    {
     "name": "stdout",
     "output_type": "stream",
     "text": [
      "(<itertools.filterfalse object at 0x107da8f40>, <filter object at 0x107da8c40>)\n",
      "[0, 2, 4, 6, 8]\n",
      "[1, 3, 5, 7, 9]\n"
     ]
    }
   ],
   "source": [
    "def partition(pred, iterable):\n",
    "    \"Use a predicate to partition entries into false entries and true entries\"\n",
    "    # partition(is_odd, range(10)) --> 0 2 4 6 8   and  1 3 5 7 9\n",
    "    t1, t2 = itertools.tee(iterable)\n",
    "    return itertools.filterfalse(pred, t1), filter(pred, t2)\n",
    "\n",
    "result = partition(lambda x: x%2, range(10))\n",
    "print(result)\n",
    "print(list(result[0]))\n",
    "print(list(result[1]))"
   ]
  },
  {
   "cell_type": "code",
   "execution_count": 34,
   "metadata": {},
   "outputs": [
    {
     "data": {
      "text/plain": [
       "{1, 2, 3, 4}"
      ]
     },
     "execution_count": 34,
     "metadata": {},
     "output_type": "execute_result"
    }
   ],
   "source": [
    "set([1,2,4,1,2,3])"
   ]
  },
  {
   "attachments": {},
   "cell_type": "markdown",
   "metadata": {},
   "source": [
    "## Functools\n",
    "\n"
   ]
  },
  {
   "attachments": {},
   "cell_type": "markdown",
   "metadata": {},
   "source": [
    "## Context Managers"
   ]
  },
  {
   "cell_type": "code",
   "execution_count": 6,
   "metadata": {},
   "outputs": [
    {
     "name": "stdout",
     "output_type": "stream",
     "text": [
      "<_io.TextIOWrapper name='../data/assay_data.csv' mode='r' encoding='UTF-8'>\n",
      "time,type,activity\n",
      "\n",
      "1,WT,20\n",
      "\n",
      "[['1', 'Mut1', '10'], ['1', 'Mut2', '30'], ['2', 'WT', '30'], ['2', 'Mut1', '20'], ['2', 'Mut2', '10']]\n"
     ]
    }
   ],
   "source": [
    "data = open(\"../data/assay_data.csv\", 'r')\n",
    "print(data)\n",
    "print(data.readline())\n",
    "print(data.readline())\n",
    "\n",
    "#read data into a list\n",
    "data_list = []\n",
    "for line in data:\n",
    "    data_list.append(line.strip().split(','))\n",
    "print(data_list[0:5])\n",
    "\n",
    "data.close()"
   ]
  },
  {
   "cell_type": "code",
   "execution_count": 7,
   "metadata": {},
   "outputs": [
    {
     "name": "stdout",
     "output_type": "stream",
     "text": [
      "[['time', 'type', 'activity'], ['1', 'WT', '20'], ['1', 'Mut1', '10'], ['1', 'Mut2', '30'], ['2', 'WT', '30']]\n"
     ]
    }
   ],
   "source": [
    "with open(\"../data/assay_data.csv\", 'r') as data:\n",
    "    data_list = []\n",
    "    for line in data:\n",
    "        data_list.append(line.strip().split(','))\n",
    "print(data_list[0:5])\n"
   ]
  },
  {
   "cell_type": "code",
   "execution_count": 8,
   "metadata": {},
   "outputs": [],
   "source": [
    "data = open(\"../data/assay_data.csv\", 'r')\n",
    "try:\n",
    "    data_list = []\n",
    "    for line in data:\n",
    "        data_list.append(line.strip().split(','))\n",
    "finally:\n",
    "    data.close()"
   ]
  },
  {
   "attachments": {},
   "cell_type": "markdown",
   "metadata": {},
   "source": [
    "Internally, context managers use the `__enter__` and `__exit__` methods. The `__enter__` method is called when the context is entered and the `__exit__` method is called when the context is exited. The `__exit__` method is called even if an exception is raised in the context. This is useful for cleaning up resources even if an error occurs."
   ]
  },
  {
   "cell_type": "code",
   "execution_count": 9,
   "metadata": {},
   "outputs": [],
   "source": [
    "#write a context manager that implements a timer that can be used with the with statement\n",
    "import time\n",
    "\n",
    "class Timer:\n",
    "    def __enter__(self):\n",
    "        self.start = time.time()\n",
    "        return self\n",
    "\n",
    "    def __exit__(self, *args):\n",
    "        self.end = time.time()\n",
    "        self.interval = self.end - self.start\n",
    "        print(f\"Elapsed time: {self.interval} seconds\")"
   ]
  },
  {
   "cell_type": "code",
   "execution_count": 36,
   "metadata": {},
   "outputs": [
    {
     "name": "stdout",
     "output_type": "stream",
     "text": [
      "Elapsed time: 0.013677120208740234 seconds\n",
      "Elapsed time: 4.208178997039795 seconds\n",
      "Elapsed time: 4.2911059856414795 seconds\n"
     ]
    }
   ],
   "source": [
    "with Timer() as t:\n",
    "    #perform 1 million calculations\n",
    "    for i in range(1000000):\n",
    "        i = i + 1\n",
    "    with Timer() as t2:\n",
    "        l = []\n",
    "        for i in range(100000):\n",
    "            l.append(i)\n",
    "        for i in range(100000):\n",
    "            l.pop()\n",
    "    with Timer() as t3:\n",
    "        l = []\n",
    "        for i in range(100000):\n",
    "            l.insert(0, i)\n",
    "        for i in range(100000):\n",
    "            l.pop(0)\n"
   ]
  },
  {
   "attachments": {},
   "cell_type": "markdown",
   "metadata": {},
   "source": [
    "## Args and Kwargs"
   ]
  },
  {
   "cell_type": "code",
   "execution_count": null,
   "metadata": {},
   "outputs": [],
   "source": []
  },
  {
   "attachments": {},
   "cell_type": "markdown",
   "metadata": {},
   "source": [
    "## Type Hints"
   ]
  },
  {
   "attachments": {},
   "cell_type": "markdown",
   "metadata": {},
   "source": [
    "## Building a project: Namespaces, Packages etc"
   ]
  },
  {
   "attachments": {},
   "cell_type": "markdown",
   "metadata": {},
   "source": [
    "## Data Structures in Python"
   ]
  },
  {
   "attachments": {},
   "cell_type": "markdown",
   "metadata": {},
   "source": [
    "### Dictionaries"
   ]
  },
  {
   "cell_type": "code",
   "execution_count": 24,
   "metadata": {},
   "outputs": [
    {
     "name": "stdout",
     "output_type": "stream",
     "text": [
      "5\n",
      "2258155850630925145\n"
     ]
    }
   ],
   "source": [
    "#create a dictionary\n",
    "d = {'a': 1, 'b': 2, 'c': 3}\n",
    "x = 5\n",
    "print(x.__hash__())\n",
    "print(hash(\"a\"))\n",
    "# print(d.__hash__)\n",
    "# print(hash(d))"
   ]
  },
  {
   "cell_type": "code",
   "execution_count": 30,
   "metadata": {},
   "outputs": [
    {
     "name": "stdout",
     "output_type": "stream",
     "text": [
      "OrderedDict([('a', 1), ('b', 2), ('c', 3)])\n",
      "0\n",
      "1\n",
      "3\n",
      "ChainMap({'a': 1, 'b': 2, 'e': 10}, {'c': 3, 'd': 4}, {'e': 5, 'f': 6})\n"
     ]
    }
   ],
   "source": [
    "#ordered dictionary; maintains order of keys as they are added\n",
    "from collections import OrderedDict\n",
    "d = OrderedDict()\n",
    "d['a'] = 1\n",
    "d['b'] = 2\n",
    "d['c'] = 3\n",
    "print(d)\n",
    "\n",
    "#default dictionary; returns a default value if the key is not found\n",
    "from collections import defaultdict\n",
    "d = defaultdict(lambda: 0)\n",
    "d['a'] = 1\n",
    "d['b'] = 2\n",
    "print(d['c'])\n",
    "\n",
    "#ChainMap - combines several dictionaries or mappings (updates are made to the first dictionary)\n",
    "from collections import ChainMap\n",
    "d1 = {'a': 1, 'b': 2}\n",
    "d2 = {'c': 3, 'd': 4}\n",
    "d3 = {'e': 5, 'f': 6}\n",
    "d = ChainMap(d1, d2, d3)\n",
    "print(d['a'])\n",
    "print(d['c'])\n",
    "d['e'] = 10\n",
    "print(d)"
   ]
  }
 ],
 "metadata": {
  "kernelspec": {
   "display_name": "standard_env",
   "language": "python",
   "name": "python3"
  },
  "language_info": {
   "codemirror_mode": {
    "name": "ipython",
    "version": 3
   },
   "file_extension": ".py",
   "mimetype": "text/x-python",
   "name": "python",
   "nbconvert_exporter": "python",
   "pygments_lexer": "ipython3",
   "version": "3.9.13"
  },
  "orig_nbformat": 4
 },
 "nbformat": 4,
 "nbformat_minor": 2
}
