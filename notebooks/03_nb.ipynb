{
 "cells": [
  {
   "attachments": {},
   "cell_type": "markdown",
   "metadata": {},
   "source": [
    "# Day 3: Useful stuff"
   ]
  },
  {
   "attachments": {},
   "cell_type": "markdown",
   "metadata": {},
   "source": [
    "## Itertools"
   ]
  },
  {
   "attachments": {},
   "cell_type": "markdown",
   "metadata": {},
   "source": [
    "\n",
    "\n",
    "On day 1, we talked about iterables and iterators. As a reminder:\n",
    "- An iterable is an object that can be iterated over (e.g. a list) and that has an `__iter__` method. \n",
    "- An iterator is an object that can be iterated over (e.g. a list) and that has (possibly an `__iter__` and) a `__next__` method.\n",
    "\n",
    "A bit more information about them from the [Python documentation](https://docs.python.org/3/glossary.html#term-iterable):\n",
    "\n",
    "- **iterable**\n",
    "    An object capable of returning its members one at a time. Examples of iterables include all sequence types (such as list, str, and tuple) and some non-sequence types like dict, file objects, and objects of any classes you define with an __iter__() method or with a __getitem__() method that implements sequence semantics.\n",
    "\n",
    "    Iterables can be used in a for loop and in many other places where a sequence is needed (zip(), map(), …). When an iterable object is passed as an argument to the built-in function iter(), it returns an iterator for the object. This iterator is good for one pass over the set of values. When using iterables, it is usually not necessary to call iter() or deal with iterator objects yourself. The for statement does that automatically for you, creating a temporary unnamed variable to hold the iterator for the duration of the loop. See also iterator, sequence, and generator.\n",
    "\n",
    "- **iterator**\n",
    "    An object representing a stream of data. Repeated calls to the iterator’s __next__() method (or passing it to the built-in function next()) return successive items in the stream. When no more data are available a StopIteration exception is raised instead. At this point, the iterator object is exhausted and any further calls to its __next__() method just raise StopIteration again. Iterators are required to have an __iter__() method that returns the iterator object itself so every iterator is also iterable and may be used in most places where other iterables are accepted. One notable exception is code which attempts multiple iteration passes. A container object (such as a list) produces a fresh new iterator each time you pass it to the iter() function or use it in a for loop. Attempting this with an iterator will just return the same exhausted iterator object used in the previous iteration pass, making it appear like an empty container.\n",
    "\n",
    "Itertools is a module that provides a set of functions that operate on iterables. It is part of the standard library, so you don't need to install it. It creates more complex and powerful iterators from simpler ones. This makes it possible to write very efficient code that does not need to create intermediate lists, so our code is faster and uses less memory.\n",
    "\n",
    "Why would you want to do that? Well, think about some of the functions like `enumerate()` or `zip()` that we have already seen. They take iterables/iterators as an argument and return more powerful constructs. Itertools provides a lot of other functions that do similar things, but in a more general way.\n",
    "\n",
    "First let's look at a short glossary of useful functions in itertools (from [here](https://jmduke.com/2013/11/29/itertools)) and then we'll look at how we can use them in the wild."
   ]
  },
  {
   "cell_type": "code",
   "execution_count": 15,
   "metadata": {},
   "outputs": [],
   "source": [
    "import itertools\n",
    "\n",
    "letters = ['a', 'b', 'c', 'd', 'e', 'f']\n",
    "booleans = [1, 0, 1, 0, 0, 1]\n",
    "numbers = [23, 20, 44, 32, 7, 12]\n",
    "decimals = [0.1, 0.7, 0.4, 0.4, 0.5]"
   ]
  },
  {
   "cell_type": "code",
   "execution_count": 16,
   "metadata": {},
   "outputs": [
    {
     "name": "stdout",
     "output_type": "stream",
     "text": [
      "<itertools.chain object at 0x107ca6e20>\n",
      "['a', 'b', 'c', 'd', 'e', 'f', 1, 0, 1, 0, 0, 1, 0.1, 0.7, 0.4, 0.4, 0.5]\n",
      "['a', 'b', 'c', 'd', 'e', 'f', 1, 0, 1, 0, 0, 1, 0.1, 0.7, 0.4, 0.4, 0.5]\n"
     ]
    }
   ],
   "source": [
    "#chain() - combines several iterables into one long one\n",
    "print(itertools.chain(letters, booleans, decimals))\n",
    "print(list(itertools.chain(letters, booleans, decimals)))\n",
    "\n",
    "#chain.from_iterable() - flattens one iterable of iterables\n",
    "print(list(itertools.chain.from_iterable([letters, booleans, decimals])))"
   ]
  },
  {
   "cell_type": "code",
   "execution_count": 17,
   "metadata": {},
   "outputs": [
    {
     "name": "stdout",
     "output_type": "stream",
     "text": [
      "10\n",
      "10.1\n"
     ]
    }
   ],
   "source": [
    "#count() - infinite iterator, returns evenly spaced values starting with the number you pass in\n",
    "counter = itertools.count(10, 0.1)\n",
    "print(next(counter))\n",
    "print(next(counter))"
   ]
  },
  {
   "cell_type": "code",
   "execution_count": 22,
   "metadata": {},
   "outputs": [
    {
     "name": "stdout",
     "output_type": "stream",
     "text": [
      "On\n",
      "On\n",
      "On\n"
     ]
    }
   ],
   "source": [
    "#repeat() - infinite iterator, returns the element you pass in over and over again (can be made finite with times argument)\n",
    "repeater = itertools.repeat('On', 3)\n",
    "print(next(repeater))\n",
    "print(next(repeater))\n",
    "print(next(repeater))\n",
    "# print(next(repeater))"
   ]
  },
  {
   "cell_type": "code",
   "execution_count": null,
   "metadata": {},
   "outputs": [],
   "source": [
    "#cycle() - infinite iterator, returns elements from the iterable you pass in over and over again\n",
    "cycle_counter = itertools.cycle(['On', 'Off'])\n",
    "print(next(cycle_counter))\n",
    "print(next(cycle_counter))\n",
    "print(next(cycle_counter))"
   ]
  },
  {
   "cell_type": "code",
   "execution_count": 18,
   "metadata": {},
   "outputs": [
    {
     "name": "stdout",
     "output_type": "stream",
     "text": [
      "['a', 'c', 'f']\n"
     ]
    }
   ],
   "source": [
    "#compress() - filters one iterable with another\n",
    "print(list(itertools.compress(letters, booleans)))\n"
   ]
  },
  {
   "cell_type": "code",
   "execution_count": 7,
   "metadata": {},
   "outputs": [
    {
     "name": "stdout",
     "output_type": "stream",
     "text": [
      "[6, 4, 1]\n",
      "[]\n"
     ]
    }
   ],
   "source": [
    "#dropwhile() - returns an iterator that returns elements of the iterable after a certain condition becomes false for the first time\n",
    "print(list(itertools.dropwhile(lambda x: x<5, [1, 4, 6, 4, 1])))\n",
    "print(list(itertools.dropwhile(lambda x: x<5, [1, 4, 0, 0, 1])))\n"
   ]
  },
  {
   "cell_type": "code",
   "execution_count": 8,
   "metadata": {},
   "outputs": [
    {
     "name": "stdout",
     "output_type": "stream",
     "text": [
      "[0, 2, 4, 6, 8]\n"
     ]
    }
   ],
   "source": [
    "#filterfalse() - returns an iterator that returns elements of the iterable for which the passed in function returns false\n",
    "print(list(itertools.filterfalse(lambda x: x%2, range(10))))"
   ]
  },
  {
   "cell_type": "code",
   "execution_count": 9,
   "metadata": {},
   "outputs": [
    {
     "name": "stdout",
     "output_type": "stream",
     "text": [
      "[('a', 0), ('b', 1), ('c', 2), ('d', '?'), ('e', '?'), ('f', '?'), ('g', '?')]\n"
     ]
    }
   ],
   "source": [
    "#zip_longest() - returns an iterator that aggregates elements from two or more iterables. If the iterables are of uneven length, missing values are filled-in with fillvalue. Iteration continues until the longest iterable is exhausted\n",
    "print(list(itertools.zip_longest('abcdefg', range(3), fillvalue='?')))"
   ]
  },
  {
   "cell_type": "code",
   "execution_count": 12,
   "metadata": {},
   "outputs": [
    {
     "name": "stdout",
     "output_type": "stream",
     "text": [
      "['a', 'c', 'e', 'g']\n"
     ]
    }
   ],
   "source": [
    "#isslice() - returns an iterator that returns selected elements from the iterable. It takes three arguments: start, stop, and step\n",
    "print(list(itertools.islice('abcdefg', 0, None, 2)))"
   ]
  },
  {
   "cell_type": "code",
   "execution_count": 23,
   "metadata": {},
   "outputs": [
    {
     "name": "stdout",
     "output_type": "stream",
     "text": [
      "[32, 9, 1000]\n"
     ]
    }
   ],
   "source": [
    "#starmap() - returns an iterator that computes the function using arguments obtained from the iterable\n",
    "print(list(itertools.starmap(pow, [(2,5), (3,2), (10,3)])))"
   ]
  },
  {
   "cell_type": "code",
   "execution_count": 29,
   "metadata": {},
   "outputs": [
    {
     "name": "stdout",
     "output_type": "stream",
     "text": [
      "(<itertools._tee object at 0x10d08b1c0>, <itertools._tee object at 0x10d087940>, <itertools._tee object at 0x107b9b9c0>)\n",
      "[0, 1, 2, 3, 4]\n",
      "[0, 1, 2, 3, 4]\n",
      "[0, 1, 2, 3, 4]\n"
     ]
    }
   ],
   "source": [
    "#tee() - returns several independent iterators (defaults to 2) based on a single original input\n",
    "it = itertools.tee(range(5), 3)\n",
    "print(it)\n",
    "print(list(it[0]))\n",
    "print(list(it[1]))\n",
    "print(list(it[2]))"
   ]
  },
  {
   "attachments": {},
   "cell_type": "markdown",
   "metadata": {},
   "source": [
    "It is also interesting to note that some methods that were originally in itertools have been moved to the built-in functions in Python 3. For example, `zip()`, `map()` and `filter()` are now built-in functions, but were originally in the itertools library as `izip()`, `imap()` and `ifilter()` (the standard library functions back then returned lists (iterables), not iterators, making them slower and less memory efficient). You can find more information about this [here](https://docs.python.org/3/library/itertools.html#itertools-recipes)."
   ]
  },
  {
   "attachments": {},
   "cell_type": "markdown",
   "metadata": {},
   "source": [
    "Now let's look at some [recipes](https://docs.python.org/3/library/itertools.html#itertools-recipes) from the itertools documentation. All of these and more are implemented in the `more_itertools` library, which you can [install](https://more-itertools.readthedocs.io/en/latest/index.html) with `pip install more_itertools`."
   ]
  },
  {
   "cell_type": "code",
   "execution_count": 14,
   "metadata": {},
   "outputs": [
    {
     "name": "stdout",
     "output_type": "stream",
     "text": [
      "[('A', 'B', 'C'), ('D', 'E', 'F'), ('G', 'H', 'I'), ('J', 'K', 'L'), ('M', 'N', 'O'), ('P',)]\n"
     ]
    }
   ],
   "source": [
    "def batched(iterable, n):\n",
    "    \"Batch data into tuples of length n. The last batch may be shorter.\"\n",
    "    # batched('ABCDEFG', 3) --> ABC DEF G\n",
    "    if n < 1:\n",
    "        raise ValueError('n must be at least one')\n",
    "    it = iter(iterable)\n",
    "    while batch := tuple(itertools.islice(it, n)):\n",
    "        yield batch\n",
    "\n",
    "print(list(batched('ABCDEFGHIJKLMNOP', 3)))"
   ]
  },
  {
   "cell_type": "code",
   "execution_count": 31,
   "metadata": {},
   "outputs": [
    {
     "name": "stdout",
     "output_type": "stream",
     "text": [
      "[32, 32, 32, 32, 32]\n"
     ]
    }
   ],
   "source": [
    "def repeatfunc(func, times=None, *args):\n",
    "    \"\"\"Repeat calls to func with specified arguments.\n",
    "\n",
    "    Example:  repeatfunc(random.random)\n",
    "    \"\"\"\n",
    "    if times is None:\n",
    "        return itertools.starmap(func, itertools.repeat(args))\n",
    "    return itertools.starmap(func, itertools.repeat(args, times))\n",
    "\n",
    "print(list(repeatfunc(pow, 5, 2, 5)))"
   ]
  },
  {
   "cell_type": "code",
   "execution_count": 26,
   "metadata": {},
   "outputs": [
    {
     "name": "stdout",
     "output_type": "stream",
     "text": [
      "[('A', 'B', 'C', 'D'), ('B', 'C', 'D', 'E'), ('C', 'D', 'E', 'F'), ('D', 'E', 'F', 'G')]\n"
     ]
    }
   ],
   "source": [
    "import collections\n",
    "\n",
    "def sliding_window(iterable, n):\n",
    "    # sliding_window('ABCDEFG', 4) --> ABCD BCDE CDEF DEFG\n",
    "    it = iter(iterable)\n",
    "    window = collections.deque(itertools.islice(it, n), maxlen=n)\n",
    "    if len(window) == n:\n",
    "        yield tuple(window)\n",
    "    for x in it:\n",
    "        window.append(x)\n",
    "        yield tuple(window)\n",
    "\n",
    "print(list(sliding_window('ABCDEFG', 4)))"
   ]
  },
  {
   "cell_type": "code",
   "execution_count": 32,
   "metadata": {},
   "outputs": [
    {
     "name": "stdout",
     "output_type": "stream",
     "text": [
      "(<itertools.filterfalse object at 0x107da8f40>, <filter object at 0x107da8c40>)\n",
      "[0, 2, 4, 6, 8]\n",
      "[1, 3, 5, 7, 9]\n"
     ]
    }
   ],
   "source": [
    "def partition(pred, iterable):\n",
    "    \"Use a predicate to partition entries into false entries and true entries\"\n",
    "    # partition(is_odd, range(10)) --> 0 2 4 6 8   and  1 3 5 7 9\n",
    "    t1, t2 = itertools.tee(iterable)\n",
    "    return itertools.filterfalse(pred, t1), filter(pred, t2)\n",
    "\n",
    "result = partition(lambda x: x%2, range(10))\n",
    "print(result)\n",
    "print(list(result[0]))\n",
    "print(list(result[1]))"
   ]
  },
  {
   "cell_type": "code",
   "execution_count": 34,
   "metadata": {},
   "outputs": [
    {
     "data": {
      "text/plain": [
       "{1, 2, 3, 4}"
      ]
     },
     "execution_count": 34,
     "metadata": {},
     "output_type": "execute_result"
    }
   ],
   "source": [
    "set([1,2,4,1,2,3])"
   ]
  },
  {
   "attachments": {},
   "cell_type": "markdown",
   "metadata": {},
   "source": [
    "## Functools\n",
    "\n"
   ]
  },
  {
   "attachments": {},
   "cell_type": "markdown",
   "metadata": {},
   "source": [
    "Functools is another module in the standard library that provides some useful functions. It is also part of the standard library, so you don't need to install it. It provides some useful functions that can be used to manipulate functions and other callables. We will look at some of them here. You can find more information about them [here](https://docs.python.org/3/library/functools.html) and in [this video](https://www.youtube.com/watch?v=gX9krgyGw1k) with [slides](https://sjirwin.github.io/hitchhikers-guide-to-functools/#/2) which I will follow. Functools mostly deals with higher order functions, which are functions that take other functions as arguments or return functions as their result. We will look at some of them here."
   ]
  },
  {
   "attachments": {},
   "cell_type": "markdown",
   "metadata": {},
   "source": [
    "### Simplifying function signatures: partial, partialmethod\n",
    "\n",
    "`partial` is a function that takes a function and some of its arguments and returns a new function with the arguments already filled in. This is useful when you have a function that takes a lot of arguments, but you want to use it with some of the arguments already filled in. For example, let's say we have a function that takes 2 arguments:"
   ]
  },
  {
   "cell_type": "code",
   "execution_count": 1,
   "metadata": {},
   "outputs": [
    {
     "name": "stdout",
     "output_type": "stream",
     "text": [
      "5\n"
     ]
    }
   ],
   "source": [
    "from functools import partial\n",
    "\n",
    "def add(a, b):\n",
    "    return a + b\n",
    "\n",
    "add_one = partial(add, 1)\n",
    "print(add_one(4))"
   ]
  },
  {
   "attachments": {},
   "cell_type": "markdown",
   "metadata": {},
   "source": [
    "This might seem like a silly example, but it is useful when you have a function that takes a lot of arguments, but you want to use it with some of the arguments already filled in to make your code more readable. [This blog](https://chriskiehl.com/article/Cleaner-coding-through-partially-applied-functions) has some good examples of this. Here is one:"
   ]
  },
  {
   "cell_type": "code",
   "execution_count": 7,
   "metadata": {},
   "outputs": [
    {
     "name": "stdout",
     "output_type": "stream",
     "text": [
      "<re.Match object; span=(0, 3), match='a ='>\n",
      "None\n",
      "<re.Match object; span=(0, 2), match='a='>\n",
      "<re.Match object; span=(0, 3), match='a ='>\n",
      "None\n",
      " y = 118\n",
      " z = 17\n"
     ]
    }
   ],
   "source": [
    "#more complex example where we use partial to create a function\n",
    "import re \n",
    "#re.search(pattern, string, flags=0) \n",
    "\n",
    "#implement functions directly on string without partial\n",
    "\n",
    "print(re.search('[a-zA-Z]\\s\\=', 'a = 1'))\n",
    "print(re.search('[a-zA-Z]\\s\\=', 'a=1'))\n",
    "print(re.search('[a-zA-Z]\\=', 'a=1'))\n",
    "\n",
    "is_spaced_apart = partial(re.search, '[a-zA-Z]\\s\\=')\n",
    "is_grouped_together = partial(re.search, '[a-zA-Z]\\=')\n",
    "\n",
    "print(is_spaced_apart('a = 1'))\n",
    "print(is_spaced_apart('a=1'))\n",
    "\n",
    "#have some long text to work with\n",
    "text = 'x=5 \\n y = 118\\n Somelinesdonothavebreaks\\n z = 17'\n",
    "\n",
    "for line in text.splitlines():\n",
    "    if is_spaced_apart(line):\n",
    "        print(line)"
   ]
  },
  {
   "attachments": {},
   "cell_type": "markdown",
   "metadata": {},
   "source": [
    "`partialmethod` is similar to `partial`, but it is used to create partial functions that are bound to a class. This means that the first argument of the function will always be the class instance. This is useful when you want to create a method that is bound to a class, but you don't want to create a new class for it. For example, let's say we have a class that has a method that takes 2 arguments:"
   ]
  },
  {
   "cell_type": "code",
   "execution_count": null,
   "metadata": {},
   "outputs": [],
   "source": [
    "from functools import partialmethod\n",
    "class Cell:\n",
    "    def __init__(self):\n",
    "        self._alive = True\n",
    "\n",
    "    @property\n",
    "    def alive(self):\n",
    "        return self._alive\n",
    "\n",
    "    def set_state(self, state):\n",
    "        self._alive = bool(state)\n",
    "\n",
    "    set_alive = partialmethod(set_state, True)\n",
    "    set_dead = partialmethod(set_state, False)\n",
    "\n",
    "c = Cell()\n",
    "print(c.alive)\n",
    "c.set_dead()\n",
    "print(c.alive)"
   ]
  },
  {
   "attachments": {},
   "cell_type": "markdown",
   "metadata": {},
   "source": [
    "### Function wrappers: wraps, update_wrapper"
   ]
  },
  {
   "attachments": {},
   "cell_type": "markdown",
   "metadata": {},
   "source": [
    "Sometimes you want to create a function that wraps another function. This is useful when you want to add some functionality to a function without changing its signature. Compared to partial, we want to add, not remove, arguments. This is where `wraps` comes in. It is a decorator that takes a function and returns a new function that wraps the original function. It is useful when you want to add some functionality to a function without changing its signature (e.g. for compatibility reasons). It basically is syntactic sugar for `update_wrapper`. Here is an example:"
   ]
  },
  {
   "cell_type": "code",
   "execution_count": 12,
   "metadata": {},
   "outputs": [
    {
     "name": "stdout",
     "output_type": "stream",
     "text": [
      "Calling decorated function\n",
      "Called example function\n",
      "wrapper\n",
      "None\n"
     ]
    }
   ],
   "source": [
    "#example for wraps\n",
    "from functools import wraps\n",
    "\n",
    "def my_decorator(func):\n",
    "    #@wraps(func)\n",
    "    def wrapper(*args, **kwargs):\n",
    "        print('Calling decorated function')\n",
    "        return func(*args, **kwargs)\n",
    "    return wrapper\n",
    "\n",
    "@my_decorator\n",
    "def example():\n",
    "    \"\"\"Docstring\"\"\"\n",
    "    print('Called example function')\n",
    "\n",
    "example()\n",
    "print(example.__name__)\n",
    "print(example.__doc__)"
   ]
  },
  {
   "attachments": {},
   "cell_type": "markdown",
   "metadata": {},
   "source": [
    "This example is probably the most common use case for `wraps`. We have a decorator that takes a function and returns a new function that wraps the original function. We want the function modified by the decorator to have new functionality, but still keep its old name and docstring. This is where `wraps` comes in."
   ]
  },
  {
   "cell_type": "code",
   "execution_count": 1,
   "metadata": {},
   "outputs": [
    {
     "name": "stdout",
     "output_type": "stream",
     "text": [
      "Calling decorated function\n",
      "Called example function\n",
      "example\n",
      "Docstring\n"
     ]
    }
   ],
   "source": [
    "#example for wraps\n",
    "from functools import wraps\n",
    "\n",
    "def my_decorator(func):\n",
    "    @wraps(func)\n",
    "    def wrapper(*args, **kwargs):\n",
    "        print('Calling decorated function')\n",
    "        return func(*args, **kwargs)\n",
    "    return wrapper\n",
    "\n",
    "@my_decorator\n",
    "def example():\n",
    "    \"\"\"Docstring\"\"\"\n",
    "    print('Called example function')\n",
    "\n",
    "example()\n",
    "print(example.__name__)\n",
    "print(example.__doc__)"
   ]
  },
  {
   "attachments": {},
   "cell_type": "markdown",
   "metadata": {},
   "source": [
    "### Caching: lru_cache, cache, cached_property"
   ]
  },
  {
   "attachments": {},
   "cell_type": "markdown",
   "metadata": {},
   "source": [
    "lru_cache is a decorator that takes a function and returns a new function that caches the results of the original function. This is useful when you have a function that takes a long time to run, but you want to use it multiple times with the same arguments. It basically is syntactic sugar for `cache`. Here is an example:"
   ]
  },
  {
   "cell_type": "code",
   "execution_count": null,
   "metadata": {},
   "outputs": [],
   "source": [
    "from functools import lru_cache\n",
    "\n",
    "@lru_cache(maxsize=None)\n",
    "def factorial(n):\n",
    "    return n * factorial(n-1) if n else 1\n",
    "\n",
    "print(factorial(10))  # Output: 3628800\n"
   ]
  },
  {
   "attachments": {},
   "cell_type": "markdown",
   "metadata": {},
   "source": [
    "cached_property is similar to lru_cache, but it is used to create properties that are cached."
   ]
  },
  {
   "cell_type": "code",
   "execution_count": null,
   "metadata": {},
   "outputs": [],
   "source": [
    "from functools import cached_property\n",
    "\n",
    "class Circle:\n",
    "    def __init__(self, radius):\n",
    "        self.radius = radius\n",
    "\n",
    "    @cached_property\n",
    "    def area(self):\n",
    "        print(\"Calculating area...\")\n",
    "        return 3.14 * self.radius ** 2\n",
    "\n",
    "c = Circle(5)\n",
    "print(c.area)  # Output: Calculating area... 78.5\n",
    "print(c.area)  # Output: 78.5 (No calculation is performed this time)"
   ]
  },
  {
   "attachments": {},
   "cell_type": "markdown",
   "metadata": {},
   "source": [
    "### Ordered types and comparisons: total_ordering, cmp_to_key"
   ]
  },
  {
   "attachments": {},
   "cell_type": "markdown",
   "metadata": {},
   "source": [
    "total_ordering is a decorator that takes a class and returns a new class that implements all of the comparison methods (e.g. __lt__, __le__, __eq__, __ne__, __gt__, __ge__) based on a single comparison method (e.g. __lt__). This is useful when you have a class that implements some of the comparison methods, but not all of them. It basically is syntactic sugar for `cmp_to_key`. Here is an example:"
   ]
  },
  {
   "cell_type": "code",
   "execution_count": null,
   "metadata": {},
   "outputs": [],
   "source": [
    "from functools import total_ordering\n",
    "\n",
    "@total_ordering\n",
    "class Student:\n",
    "    def __init__(self, name, grade):\n",
    "        self.name = name\n",
    "        self.grade = grade\n",
    "\n",
    "    def __eq__(self, other):\n",
    "        return self.grade == other.grade\n",
    "\n",
    "    def __lt__(self, other):\n",
    "        return self.grade < other.grade\n",
    "\n",
    "alice = Student('Alice', 90)\n",
    "bob = Student('Bob', 85)\n",
    "\n",
    "print(alice > bob)  # Output: True"
   ]
  },
  {
   "cell_type": "code",
   "execution_count": null,
   "metadata": {},
   "outputs": [],
   "source": [
    "from functools import cmp_to_key\n",
    "\n",
    "def reverse_numeric(x, y):\n",
    "    return y - x\n",
    "\n",
    "sorted_array = sorted([5, 2, 4, 1, 3], key=cmp_to_key(reverse_numeric))\n",
    "print(sorted_array)  # Output: [5, 4, 3, 2, 1]"
   ]
  },
  {
   "attachments": {},
   "cell_type": "markdown",
   "metadata": {},
   "source": [
    "### reduce"
   ]
  },
  {
   "attachments": {},
   "cell_type": "markdown",
   "metadata": {},
   "source": [
    "reduce is a function that takes a function, an iterable and an optional initializer and returns a single value. It is useful when you want to apply a function to an iterable and get a single value. Here is an example:"
   ]
  },
  {
   "cell_type": "code",
   "execution_count": null,
   "metadata": {},
   "outputs": [],
   "source": [
    "from functools import reduce\n",
    "\n",
    "def multiply(x, y):\n",
    "    return x * y\n",
    "\n",
    "product = reduce(multiply, [1, 2, 3, 4, 5])\n",
    "print(product)  # Output: 120"
   ]
  },
  {
   "attachments": {},
   "cell_type": "markdown",
   "metadata": {},
   "source": [
    "### Function Overloading: singledispatch, singledispatchmethod"
   ]
  },
  {
   "attachments": {},
   "cell_type": "markdown",
   "metadata": {},
   "source": [
    "Function overloading is a technique that allows you to define multiple functions with the same name, but different signatures. This is useful when you want to define multiple functions with the same name, but different signatures. For example, let's say we have a function that takes a string and returns a string:"
   ]
  },
  {
   "cell_type": "code",
   "execution_count": null,
   "metadata": {},
   "outputs": [],
   "source": [
    "from functools import singledispatch\n",
    "\n",
    "@singledispatch\n",
    "def fun(arg, verbose=False):\n",
    "    if verbose:\n",
    "        print(\"Let me just say,\", end=\" \")\n",
    "    print(arg)\n",
    "\n",
    "@fun.register\n",
    "def _(arg: int, verbose=False):\n",
    "    if verbose:\n",
    "        print(\"Strength in numbers, eh?\", end=\" \")\n",
    "    print(arg)\n",
    "\n",
    "@fun.register\n",
    "def _(arg: list, verbose=False):\n",
    "    if verbose:\n",
    "        print(\"Enumerate this:\")\n",
    "    for i, elem in enumerate(arg):\n",
    "        print(i, elem)\n",
    "\n",
    "fun(\"Hello, world.\")\n",
    "fun(42, verbose=True)\n",
    "fun(['apple', 'banana', 'cherry'], verbose=True)"
   ]
  },
  {
   "attachments": {},
   "cell_type": "markdown",
   "metadata": {},
   "source": [
    "singledispatch method is similar to singledispatch, but it is used to create functions that are bound to a class. This means that the first argument of the function will always be the class instance. This is useful when you want to create a method that is bound to a class, but you don't want to create a new class for it. For example, let's say we have a class that has a method that takes a string and returns a string:"
   ]
  },
  {
   "cell_type": "code",
   "execution_count": null,
   "metadata": {},
   "outputs": [],
   "source": [
    "from functools import singledispatchmethod\n",
    "\n",
    "class Negator:\n",
    "    @singledispatchmethod\n",
    "    def negate(self, arg):\n",
    "        raise NotImplementedError(\"Cannot negate this type\")\n",
    "\n",
    "    @negate.register\n",
    "    def _(self, arg: int):\n",
    "        return -arg\n",
    "\n",
    "    @negate.register\n",
    "    def _(self, arg: str):\n",
    "        return arg[::-1]\n",
    "\n",
    "n = Negator()\n",
    "print(n.negate(5))  # Output: -5\n",
    "print(n.negate(\"Hello\"))  # Output: olleH"
   ]
  },
  {
   "attachments": {},
   "cell_type": "markdown",
   "metadata": {},
   "source": [
    "## Dataclasses"
   ]
  },
  {
   "attachments": {},
   "cell_type": "markdown",
   "metadata": {},
   "source": [
    "Dataclasses is a module in the standard library that provides a decorator and functions for creating classes that are used to store data. It gives us some functionality already inbuilt that we normally have to implement ourselves with normal classes over and over again, so it helps us following the DRY principle (don't repeat yourself). They also play nicely with type hints which we discussed last time to provide very readable code. It is also part of the standard library, so you don't need to install it. It got introduced quite late in Python 3.7, so there are several alternatives to achieving the same functionality with different pros and cons:\n",
    "\n",
    "- [attrs](https://www.attrs.org/en/stable/) is a third-party library that provides a decorator and functions for creating classes that are used to store data. It is very similar to dataclasses, but it has some additional features like validators and converters\n",
    "- [namedtuple](https://docs.python.org/3/library/collections.html#collections.namedtuple) is a built-in function that creates a tuple subclass with named fields. It is immutable, so you can't change the values of the fields after creation\n"
   ]
  },
  {
   "attachments": {},
   "cell_type": "markdown",
   "metadata": {},
   "source": [
    "### Using dataclasses\n",
    "\n",
    "Let's look at an example of how we can use dataclasses. We will create a class that represents a person. It will have a first name, last name and age. We will also add a method that returns the full name of the person. We will use type hints to make our code more readable."
   ]
  },
  {
   "cell_type": "code",
   "execution_count": 9,
   "metadata": {},
   "outputs": [],
   "source": [
    "from dataclasses import dataclass\n",
    "from typing import Any\n",
    "\n",
    "@dataclass\n",
    "class Codon:\n",
    "    triplet: str\n",
    "    amino_acid: str\n",
    "    frequency: float\n",
    "    info: Any = None\n"
   ]
  },
  {
   "cell_type": "code",
   "execution_count": 11,
   "metadata": {},
   "outputs": [
    {
     "data": {
      "text/plain": [
       "Codon(triplet='GTC', amino_acid='Valine', frequency='V', info=0.2)"
      ]
     },
     "execution_count": 11,
     "metadata": {},
     "output_type": "execute_result"
    }
   ],
   "source": [
    "#create two sequences and compare them\n",
    "att = Codon('ATT', 'Isoleucine', 'I', 0.49)\n",
    "gtc = Codon('GTC', 'Valine', 'V', 0.20)\n",
    "tag = Codon('TAG', 'Stop', 0.11, 'Stop codon')\n",
    "gtc"
   ]
  },
  {
   "cell_type": "code",
   "execution_count": null,
   "metadata": {},
   "outputs": [],
   "source": [
    "from typing import List\n",
    "\n",
    "@dataclass\n",
    "class CodonTable:\n",
    "    cards: List[Codon]"
   ]
  },
  {
   "cell_type": "code",
   "execution_count": 13,
   "metadata": {},
   "outputs": [],
   "source": [
    "def make_ecoli_codon_table():\n",
    "    #construct a codon table from scratch using the Codon dataclass\n",
    "    codons = ['UUU', 'UUC', 'UUA', 'UUG', 'UCU', 'UCC', 'UCA', 'UCG', 'UAU', 'UAC', 'UAA', 'UAG', 'UGU', 'UGC', 'UGA', 'UGG', \n",
    "          'CUU', 'CUC', 'CUA', 'CUG', 'CCU', 'CCC', 'CCA', 'CCG', 'CAU', 'CAC', 'CAA', 'CAG', 'CGU', 'CGC', 'CGA', 'CGG',\n",
    "          'AUU', 'AUC', 'AUA', 'AUG', 'ACU', 'ACC', 'ACA', 'ACG', 'AAU', 'AAC', 'AAA', 'AAG', 'AGU', 'AGC', 'AGA', 'AGG',\n",
    "          'GUU', 'GUC', 'GUA', 'GUG', 'GCU', 'GCC', 'GCA', 'GCG', 'GAU', 'GAC', 'GAA', 'GAG', 'GGU', 'GGC', 'GGA', 'GGG']\n",
    "\n",
    "    amino_acids = ['Phe', 'Phe', 'Leu', 'Leu', 'Ser', 'Ser', 'Ser', 'Ser', 'Tyr', 'Tyr', 'Stop', 'Stop', 'Cys', 'Cys', 'Stop', 'Trp',\n",
    "               'Leu', 'Leu', 'Leu', 'Leu', 'Pro', 'Pro', 'Pro', 'Pro', 'His', 'His', 'Gln', 'Gln', 'Arg', 'Arg', 'Arg', 'Arg',\n",
    "               'Ile', 'Ile', 'Ile', 'Met', 'Thr', 'Thr', 'Thr', 'Thr', 'Asn', 'Asn', 'Lys', 'Lys', 'Ser', 'Ser', 'Arg', 'Arg',\n",
    "               'Val', 'Val', 'Val', 'Val', 'Ala', 'Ala', 'Ala', 'Ala', 'Asp', 'Asp', 'Glu', 'Glu', 'Gly', 'Gly', 'Gly', 'Gly']\n",
    "\n",
    "    # The frequencies are approximate and in terms of occurrences per thousand codons\n",
    "    frequencies_in_E_coli = [17.6, 20.3, 14.3, 76.7, 24.7, 21.7, 15.1, 5.4, 13.3, 15.3, 0.8, 0.2, 7.1, 10.0, 1.0, 13.1,\n",
    "                         12.2, 9.4, 7.3, 39.7, 17.5, 15.2, 17.0, 6.9, 15.1, 10.3, 12.3, 33.6, 6.7, 10.4, 5.9, 11.4,\n",
    "                         45.7, 22.0, 16.6, 22.0, 27.3, 27.9, 20.1, 8.3, 21.4, 22.1, 24.4, 31.9, 12.0, 13.1, 12.1, 12.2,\n",
    "                         32.7, 24.6, 11.4, 29.0, 27.8, 26.9, 18.7, 10.8, 21.5, 23.8, 28.7, 38.7, 24.7, 23.5, 14.9, 16.5]\n",
    "    \n",
    "    return CodonTable([Codon(codon, amino_acid, frequency) for codon, amino_acid, frequency in zip(codons, amino_acids, frequencies_in_E_coli)])\n"
   ]
  },
  {
   "cell_type": "code",
   "execution_count": 14,
   "metadata": {},
   "outputs": [],
   "source": [
    "from typing import List\n",
    "from dataclasses import dataclass, field\n",
    "\n",
    "@dataclass\n",
    "class CodonTable:\n",
    "    cards: List[Codon] = field(default_factory = make_ecoli_codon_table)\n",
    "\n"
   ]
  },
  {
   "cell_type": "code",
   "execution_count": 17,
   "metadata": {},
   "outputs": [
    {
     "data": {
      "text/plain": [
       "CodonTable(cards=CodonTable(cards=[Codon(triplet='UUU', amino_acid='Phe', frequency=17.6, info=None), Codon(triplet='UUC', amino_acid='Phe', frequency=20.3, info=None), Codon(triplet='UUA', amino_acid='Leu', frequency=14.3, info=None), Codon(triplet='UUG', amino_acid='Leu', frequency=76.7, info=None), Codon(triplet='UCU', amino_acid='Ser', frequency=24.7, info=None), Codon(triplet='UCC', amino_acid='Ser', frequency=21.7, info=None), Codon(triplet='UCA', amino_acid='Ser', frequency=15.1, info=None), Codon(triplet='UCG', amino_acid='Ser', frequency=5.4, info=None), Codon(triplet='UAU', amino_acid='Tyr', frequency=13.3, info=None), Codon(triplet='UAC', amino_acid='Tyr', frequency=15.3, info=None), Codon(triplet='UAA', amino_acid='Stop', frequency=0.8, info=None), Codon(triplet='UAG', amino_acid='Stop', frequency=0.2, info=None), Codon(triplet='UGU', amino_acid='Cys', frequency=7.1, info=None), Codon(triplet='UGC', amino_acid='Cys', frequency=10.0, info=None), Codon(triplet='UGA', amino_acid='Stop', frequency=1.0, info=None), Codon(triplet='UGG', amino_acid='Trp', frequency=13.1, info=None), Codon(triplet='CUU', amino_acid='Leu', frequency=12.2, info=None), Codon(triplet='CUC', amino_acid='Leu', frequency=9.4, info=None), Codon(triplet='CUA', amino_acid='Leu', frequency=7.3, info=None), Codon(triplet='CUG', amino_acid='Leu', frequency=39.7, info=None), Codon(triplet='CCU', amino_acid='Pro', frequency=17.5, info=None), Codon(triplet='CCC', amino_acid='Pro', frequency=15.2, info=None), Codon(triplet='CCA', amino_acid='Pro', frequency=17.0, info=None), Codon(triplet='CCG', amino_acid='Pro', frequency=6.9, info=None), Codon(triplet='CAU', amino_acid='His', frequency=15.1, info=None), Codon(triplet='CAC', amino_acid='His', frequency=10.3, info=None), Codon(triplet='CAA', amino_acid='Gln', frequency=12.3, info=None), Codon(triplet='CAG', amino_acid='Gln', frequency=33.6, info=None), Codon(triplet='CGU', amino_acid='Arg', frequency=6.7, info=None), Codon(triplet='CGC', amino_acid='Arg', frequency=10.4, info=None), Codon(triplet='CGA', amino_acid='Arg', frequency=5.9, info=None), Codon(triplet='CGG', amino_acid='Arg', frequency=11.4, info=None), Codon(triplet='AUU', amino_acid='Ile', frequency=45.7, info=None), Codon(triplet='AUC', amino_acid='Ile', frequency=22.0, info=None), Codon(triplet='AUA', amino_acid='Ile', frequency=16.6, info=None), Codon(triplet='AUG', amino_acid='Met', frequency=22.0, info=None), Codon(triplet='ACU', amino_acid='Thr', frequency=27.3, info=None), Codon(triplet='ACC', amino_acid='Thr', frequency=27.9, info=None), Codon(triplet='ACA', amino_acid='Thr', frequency=20.1, info=None), Codon(triplet='ACG', amino_acid='Thr', frequency=8.3, info=None), Codon(triplet='AAU', amino_acid='Asn', frequency=21.4, info=None), Codon(triplet='AAC', amino_acid='Asn', frequency=22.1, info=None), Codon(triplet='AAA', amino_acid='Lys', frequency=24.4, info=None), Codon(triplet='AAG', amino_acid='Lys', frequency=31.9, info=None), Codon(triplet='AGU', amino_acid='Ser', frequency=12.0, info=None), Codon(triplet='AGC', amino_acid='Ser', frequency=13.1, info=None), Codon(triplet='AGA', amino_acid='Arg', frequency=12.1, info=None), Codon(triplet='AGG', amino_acid='Arg', frequency=12.2, info=None), Codon(triplet='GUU', amino_acid='Val', frequency=32.7, info=None), Codon(triplet='GUC', amino_acid='Val', frequency=24.6, info=None), Codon(triplet='GUA', amino_acid='Val', frequency=11.4, info=None), Codon(triplet='GUG', amino_acid='Val', frequency=29.0, info=None), Codon(triplet='GCU', amino_acid='Ala', frequency=27.8, info=None), Codon(triplet='GCC', amino_acid='Ala', frequency=26.9, info=None), Codon(triplet='GCA', amino_acid='Ala', frequency=18.7, info=None), Codon(triplet='GCG', amino_acid='Ala', frequency=10.8, info=None), Codon(triplet='GAU', amino_acid='Asp', frequency=21.5, info=None), Codon(triplet='GAC', amino_acid='Asp', frequency=23.8, info=None), Codon(triplet='GAA', amino_acid='Glu', frequency=28.7, info=None), Codon(triplet='GAG', amino_acid='Glu', frequency=38.7, info=None), Codon(triplet='GGU', amino_acid='Gly', frequency=24.7, info=None), Codon(triplet='GGC', amino_acid='Gly', frequency=23.5, info=None), Codon(triplet='GGA', amino_acid='Gly', frequency=14.9, info=None), Codon(triplet='GGG', amino_acid='Gly', frequency=16.5, info=None)]))"
      ]
     },
     "execution_count": 17,
     "metadata": {},
     "output_type": "execute_result"
    }
   ],
   "source": [
    "Ecoli_table = CodonTable()\n",
    "Ecoli_table"
   ]
  },
  {
   "cell_type": "code",
   "execution_count": 18,
   "metadata": {},
   "outputs": [],
   "source": [
    "@dataclass\n",
    "class Codon:\n",
    "    triplet: str\n",
    "    amino_acid: str\n",
    "    frequency: field(metadata={'unit': 'degrees'})\n",
    "    info: Any = None"
   ]
  },
  {
   "attachments": {},
   "cell_type": "markdown",
   "metadata": {},
   "source": [
    "## Building a project: Namespaces, Packages etc"
   ]
  },
  {
   "attachments": {},
   "cell_type": "markdown",
   "metadata": {},
   "source": [
    "Often it is not enough to have a single python file. You might want to have multiple files that are related to each other. This is where packages come in. A package is a directory that contains a special file called `__init__.py`. This file can be empty, but it is often used to initialize the package. It can contain code that is run when the package is imported. This is useful for initializing the package and importing submodules. For example, let's say we have a package called `mypackage` that contains a module called `mymodule`. We can import the module than in other files. Let's build a simple project with which we can create QR codes to see how it works."
   ]
  },
  {
   "attachments": {},
   "cell_type": "markdown",
   "metadata": {},
   "source": [
    "To follow along, you will need to install the [qrcode](https://pypi.org/project/qrcode/), [OpenCV](https://pypi.org/project/opencv-python/) and [Pillow](https://pypi.org/project/Pillow/) libraries. You can do this by running the following commands in your terminal:\n",
    "\n",
    "```bash\n",
    "pip install qrcode\n",
    "pip install opencv-python\n",
    "pip install Pillow\n",
    "```"
   ]
  },
  {
   "cell_type": "code",
   "execution_count": 19,
   "metadata": {},
   "outputs": [],
   "source": [
    "%load_ext autoreload\n",
    "%autoreload 2"
   ]
  },
  {
   "attachments": {},
   "cell_type": "markdown",
   "metadata": {},
   "source": [
    "How does Python know where to look for qrcode_utils? It first looks in the current directory; if it does not find anything it looks in the PYTHONPATH. We can see where it looks by printing the `sys.path` variable:"
   ]
  },
  {
   "cell_type": "code",
   "execution_count": 4,
   "metadata": {},
   "outputs": [
    {
     "name": "stdout",
     "output_type": "stream",
     "text": [
      "['/Users/kierandidi/advanced_python_for_scientists/notebooks', '/Users/kierandidi/.pyenv/versions/3.9.13/lib/python39.zip', '/Users/kierandidi/.pyenv/versions/3.9.13/lib/python3.9', '/Users/kierandidi/.pyenv/versions/3.9.13/lib/python3.9/lib-dynload', '', '/Users/kierandidi/.pyenv/versions/3.9.13/envs/standard_env/lib/python3.9/site-packages', '/Users/kierandidi/Documents/improved-diffusion', '/Users/kierandidi/poses_benchmark']\n",
      "/Users/kierandidi/.pyenv/versions/3.9.13/envs/standard_env/lib/python3.9/site-packages/pandas/__init__.py\n"
     ]
    }
   ],
   "source": [
    "import pandas\n",
    "import sys\n",
    "print(sys.path)\n",
    "\n",
    "print(pandas.__file__)"
   ]
  },
  {
   "cell_type": "code",
   "execution_count": 5,
   "metadata": {},
   "outputs": [
    {
     "name": "stdout",
     "output_type": "stream",
     "text": [
      "Module not found\n"
     ]
    }
   ],
   "source": [
    "try:\n",
    "    import qrcode_utils\n",
    "except ImportError:\n",
    "    print('Module not found')"
   ]
  },
  {
   "attachments": {},
   "cell_type": "markdown",
   "metadata": {},
   "source": [
    "## Modules vs scripts"
   ]
  },
  {
   "attachments": {},
   "cell_type": "markdown",
   "metadata": {},
   "source": [
    "Modules in Python are files that contain Python code. They can be imported by other modules or scripts. Scripts are files that are meant to be run directly. They are not meant to be imported by other modules or scripts. They are usually run from the command line. They can also be run from other scripts, but this is not recommended. Scripts are usually used to run a program, while modules are used to define functions and classes that can be used by other modules or scripts. You can read more about the different types of modules and scripts [here](https://tenthousandmeters.com/blog/python-behind-the-scenes-11-how-the-python-import-system-works/). "
   ]
  },
  {
   "attachments": {},
   "cell_type": "markdown",
   "metadata": {},
   "source": [
    "Often, we sometimes want to use a Python file as a module and sometimes as a script. For example, we might want to use a Python file as a module in our program, but we might also want to run it directly from the command line. This is where the `__name__` variable comes in. It is a special variable that is set to `__main__` when the file is run directly from the command line and to the name of the module when it is imported by another module or script. This allows us to use the same file as a module and as a script (more on that [here](https://realpython.com/if-name-main-python/#:~:text=name%2Dmain%20idiom.-,In%20Short%3A%20It%20Allows%20You%20to%20Execute%20Code%20When%20the,is%20executed%20as%20a%20script.)). "
   ]
  },
  {
   "cell_type": "code",
   "execution_count": 23,
   "metadata": {},
   "outputs": [
    {
     "name": "stdout",
     "output_type": "stream",
     "text": [
      "Mean:  51.785714285714285\n",
      "Median:  49.5\n",
      "Lower Quartile:  26.0\n",
      "Upper Quartile:  73.75\n",
      "Shout:  HELLO WORLD!\n",
      "Whisper:  hello world...\n"
     ]
    }
   ],
   "source": [
    "from modules import script"
   ]
  },
  {
   "attachments": {},
   "cell_type": "markdown",
   "metadata": {},
   "source": [
    "If we gather multiple modules into a directory, we call it a package. A package is a directory that contains a special file called `__init__.py`. This file can be empty, but it is often used to initialize the package. It can contain code that is run when the package is imported. This is useful for initializing the package and importing submodules. You can read a bit more about this special file [here](https://dev.to/methane/don-t-omit-init-py-3hga) and [here](https://pcarleton.com/2016/09/06/python-init/)."
   ]
  },
  {
   "attachments": {},
   "cell_type": "markdown",
   "metadata": {},
   "source": [
    "Here another example on how to use this (based on [this video](youtube.com/watch?v=GxCXiSkm6no)):"
   ]
  },
  {
   "cell_type": "code",
   "execution_count": 5,
   "metadata": {},
   "outputs": [
    {
     "data": {
      "text/plain": [
       "3"
      ]
     },
     "execution_count": 5,
     "metadata": {},
     "output_type": "execute_result"
    }
   ],
   "source": [
    "from modules import arithmetics #works\n",
    "arithmetics.add(1,2)"
   ]
  },
  {
   "attachments": {},
   "cell_type": "markdown",
   "metadata": {},
   "source": [
    "The __init__.py files are required to make Python treat directories containing the file as packages. Python packages can be imported as modules, which makes organizing large codebases easier. This is especially true for projects that have multiple modules with interdependencies.\n",
    "\n",
    "As of Python 3.3, this is no longer strictly necessary for the interpreter to recognize packages due to the introduction of [Implicit Namespace Packages](https://realpython.com/python-namespace-package/#in-short-python-namespace-packages-are-a-way-to-organize-multiple-packages). These allow for the creation of a package without an __init__.py file, and they are useful in large-scale project where you want to separate different parts of the package without having a shared state.\n",
    "\n",
    "However, using __init__.py files still has some advantages:\n",
    "\n",
    "1. Explicit is better than implicit: Having an __init__.py file signifies that the directory is a Python package.\n",
    "\n",
    "2. Backward compatibility: If you're working with older versions of Python, an __init__.py file is required for the directory to be recognized as a package.\n",
    "\n",
    "3. Ability to execute initialization code: If you need to do any setup when the package is imported, like initializing package-level variables or running other initialization code, you can do this in the __init__.py file.\n",
    "\n",
    "4. Defining __all__ for package imports: If you want to define a list of modules to be imported when from package import * is encountered, you can specify this list in __init__.py by defining a list named __all__.\n",
    "\n",
    "So, even though __init__.py is not always strictly necessary in newer versions of Python, it can still be a good idea to include it for these reasons.\n",
    "\n",
    "It is debated whether these implicit namespace packages are a good idea or not, for more background on that in [this video](https://www.youtube.com/watch?v=2Xvb79hOUdM)."
   ]
  },
  {
   "attachments": {},
   "cell_type": "markdown",
   "metadata": {},
   "source": [
    "Let's build a module with which we can create QR codes to see how it works."
   ]
  },
  {
   "attachments": {},
   "cell_type": "markdown",
   "metadata": {},
   "source": [
    "*see test.py in src folder*"
   ]
  },
  {
   "attachments": {},
   "cell_type": "markdown",
   "metadata": {},
   "source": [
    "Here we used the `qrcode_utils.py` module to get some added functionality to the basic packages we imported.\n",
    "\n",
    "But we can also create our own package, which just means putting multiple modules in a folder with an `__init__.py` file to indicate to Python to treat this folder as a package."
   ]
  },
  {
   "attachments": {},
   "cell_type": "markdown",
   "metadata": {},
   "source": [
    "*see test.py in src folder*"
   ]
  },
  {
   "attachments": {},
   "cell_type": "markdown",
   "metadata": {},
   "source": [
    "## Data Structures in Python (optional)"
   ]
  },
  {
   "attachments": {},
   "cell_type": "markdown",
   "metadata": {},
   "source": [
    "### Dictionaries"
   ]
  },
  {
   "cell_type": "code",
   "execution_count": 24,
   "metadata": {},
   "outputs": [
    {
     "name": "stdout",
     "output_type": "stream",
     "text": [
      "5\n",
      "2258155850630925145\n"
     ]
    }
   ],
   "source": [
    "#create a dictionary\n",
    "d = {'a': 1, 'b': 2, 'c': 3}\n",
    "x = 5\n",
    "print(x.__hash__())\n",
    "print(hash(\"a\"))\n",
    "# print(d.__hash__)\n",
    "# print(hash(d))"
   ]
  },
  {
   "cell_type": "code",
   "execution_count": 30,
   "metadata": {},
   "outputs": [
    {
     "name": "stdout",
     "output_type": "stream",
     "text": [
      "OrderedDict([('a', 1), ('b', 2), ('c', 3)])\n",
      "0\n",
      "1\n",
      "3\n",
      "ChainMap({'a': 1, 'b': 2, 'e': 10}, {'c': 3, 'd': 4}, {'e': 5, 'f': 6})\n"
     ]
    }
   ],
   "source": [
    "#ordered dictionary; maintains order of keys as they are added\n",
    "from collections import OrderedDict\n",
    "d = OrderedDict()\n",
    "d['a'] = 1\n",
    "d['b'] = 2\n",
    "d['c'] = 3\n",
    "print(d)\n",
    "\n",
    "#default dictionary; returns a default value if the key is not found\n",
    "from collections import defaultdict\n",
    "d = defaultdict(lambda: 0)\n",
    "d['a'] = 1\n",
    "d['b'] = 2\n",
    "print(d['c'])\n",
    "\n",
    "#ChainMap - combines several dictionaries or mappings (updates are made to the first dictionary)\n",
    "from collections import ChainMap\n",
    "d1 = {'a': 1, 'b': 2}\n",
    "d2 = {'c': 3, 'd': 4}\n",
    "d3 = {'e': 5, 'f': 6}\n",
    "d = ChainMap(d1, d2, d3)\n",
    "print(d['a'])\n",
    "print(d['c'])\n",
    "d['e'] = 10\n",
    "print(d)"
   ]
  }
 ],
 "metadata": {
  "kernelspec": {
   "display_name": "standard_env",
   "language": "python",
   "name": "python3"
  },
  "language_info": {
   "codemirror_mode": {
    "name": "ipython",
    "version": 3
   },
   "file_extension": ".py",
   "mimetype": "text/x-python",
   "name": "python",
   "nbconvert_exporter": "python",
   "pygments_lexer": "ipython3",
   "version": "3.9.13"
  },
  "orig_nbformat": 4
 },
 "nbformat": 4,
 "nbformat_minor": 2
}
